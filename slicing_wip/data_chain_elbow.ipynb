{
 "cells": [
  {
   "cell_type": "markdown",
   "id": "688fb4f7-1957-43a6-93bb-724fec8857b5",
   "metadata": {},
   "source": [
    "# Find the current datachain implementation's elbow approaching infinity length n"
   ]
  },
  {
   "cell_type": "code",
   "execution_count": null,
   "id": "9dca9dc2-23c3-4692-a618-01965523ef94",
   "metadata": {},
   "outputs": [],
   "source": []
  }
 ],
 "metadata": {
  "kernelspec": {
   "display_name": "Python 3 (ipykernel)",
   "language": "python",
   "name": "python3"
  },
  "language_info": {
   "codemirror_mode": {
    "name": "ipython",
    "version": 3
   },
   "file_extension": ".py",
   "mimetype": "text/x-python",
   "name": "python",
   "nbconvert_exporter": "python",
   "pygments_lexer": "ipython3",
   "version": "3.9.6"
  }
 },
 "nbformat": 4,
 "nbformat_minor": 5
}
