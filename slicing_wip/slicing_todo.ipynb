{
 "cells": [
  {
   "metadata": {},
   "id": "4d0f08f4-8a6a-4d07-937f-8a8d11c39d43",
   "cell_type": "markdown",
   "source": "# Previous X\n\ndoubly linked lists with chains as nextlink and chains as previouslink of length n (user specified)"
  },
  {
   "metadata": {
    "trusted": false
   },
   "id": "180044a6-d673-4a8a-89cf-ac5fc206c5bf",
   "cell_type": "code",
   "source": "",
   "execution_count": null,
   "outputs": []
  },
  {
   "metadata": {
    "trusted": false
   },
   "id": "9cddb5eb-96c1-4213-87bb-0ed51d322a63",
   "cell_type": "code",
   "source": "",
   "execution_count": null,
   "outputs": []
  },
  {
   "metadata": {},
   "id": "6858e4e9-b323-4813-b584-11a20a252461",
   "cell_type": "markdown",
   "source": "![previous x anim](res/previousxanim.gif)"
  },
  {
   "metadata": {},
   "id": "c54176c8-0aef-4f89-952b-d269816e1c8f",
   "cell_type": "markdown",
   "source": "so lets just write it procedurally with a next x list that we keep track of\n\ntask:   \nrunning while loop populating list with random integers  \nevery two seconds scrape the last 20 of the running list    \ndo this 10 times  \nsave that to a bar chart for animation sequence  \n\n"
  },
  {
   "metadata": {},
   "cell_type": "markdown",
   "source": "# The Random Scope"
  },
  {
   "metadata": {
    "trusted": false
   },
   "id": "4136c53e-0a53-426b-add9-681e4df53e08",
   "cell_type": "code",
   "source": "import matplotlib.pyplot as plt\nimport numpy as np\nimport time\n\nrandom_list = []\ngo = True\nall_last_twentys = []\n\nstart_time = time.time()\ni = 0\nwhile go:\n    # add random number\n    random_list.append(np.random.randint(0,100))\n\n    # calculate how much time has passed since loop started\n    elapsed_time = time.time() - start_time\n\n    # every 2 seconds scrape the last 20 of the list\n    # every 2 seconds reset 2 seconds counter\n    # every time we reset 2 seconds counter, we increment i and stop at i == 10\n    if elapsed_time > 2:\n        start_time = time.time()\n        i += 1\n\n        # every 2 seconds get the last 20 of the list\n        all_last_twentys.append(random_list[-20:])\n    if i == 10:\n        go = False",
   "execution_count": 1,
   "outputs": []
  },
  {
   "metadata": {
    "trusted": false
   },
   "id": "de116485-befa-4bef-8858-e1032e1d8ef8",
   "cell_type": "code",
   "source": "len(all_last_twentys)",
   "execution_count": 2,
   "outputs": [
    {
     "data": {
      "text/plain": "10"
     },
     "execution_count": 2,
     "metadata": {},
     "output_type": "execute_result"
    }
   ]
  },
  {
   "metadata": {
    "trusted": false
   },
   "id": "e96f311e-d1c5-4e3f-955b-4a6c1374feb3",
   "cell_type": "code",
   "source": "# name the file sequentially\ni = 0\nn = 20\nfor last_twenty in all_last_twentys:\n    x_axis = [i for i in range(n)]\n    plt.title(\"last twenty\")\n    plt.bar(x_axis, last_twenty)\n    plt.savefig(f\"res/last_twenty_frames/image_{i}.png\")\n    plt.close()\n    # update file name\n    i += 1",
   "execution_count": 3,
   "outputs": []
  },
  {
   "metadata": {},
   "id": "0c3bc44f-06a0-44c7-b75c-6e3108944f76",
   "cell_type": "markdown",
   "source": "gemini code to convert image frames to animation"
  },
  {
   "metadata": {
    "trusted": false
   },
   "id": "be028daa-d599-4157-bdc7-58c1587a85c3",
   "cell_type": "code",
   "source": "import cv2\nimport os\nimport re\n\ndef create_mp4_from_images(image_folder, output_path, fps=30, image_pattern=r\"image_\\d+\\.png\"):\n    \"\"\"\n    Creates an MP4 video from a sequence of images in a folder.\n\n    Args:\n        image_folder (str): The path to the folder containing the images.\n        output_path (str): The path to the output MP4 video file.\n        fps (int, optional): The frames per second of the output video. Defaults to 30.\n        image_pattern (str, optional): A regular expression pattern to match image filenames.\n            Defaults to \"image_\\\\d+\\\\.png\", which matches files like \"image_001.png\", \"image_123.png\", etc.\n            Use raw strings (r\"pattern\") to avoid issues with backslashes in regex patterns.\n    \"\"\"\n    images = [img for img in os.listdir(image_folder) if re.search(image_pattern, img)]\n    # Sort the images.  Important for correct video sequence.\n    images.sort()  # Simple sort, might need more robust sorting for complex filenames\n\n    if not images:\n        print(f\"Error: No images found in the folder matching the pattern '{image_pattern}'.  Folder: {image_folder}\")\n        return\n\n    # Determine the frame size from the first image.\n    first_image_path = os.path.join(image_folder, images[0])\n    img = cv2.imread(first_image_path)\n    if img is None:\n        print(f\"Error: Could not read the first image: {first_image_path}.  Check if the path is correct and the image is valid.\")\n        return\n    height, width, channels = img.shape\n\n    # Define the video writer.\n    fourcc = cv2.VideoWriter_fourcc(*'mp4v')  # Codec for MP4\n    out = cv2.VideoWriter(output_path, fourcc, fps, (width, height))\n\n    # Write each image to the video.\n    for image in images:\n        image_path = os.path.join(image_folder, image)\n        img = cv2.imread(image_path)\n        if img is None:\n            print(f\"Warning: Could not read image {image_path}. Skipping this frame.\")\n            continue  # Skip to the next image\n        out.write(img)\n\n    # Release the video writer.\n    out.release()\n    print(f\"Successfully created video: {output_path} from images in {image_folder}\")\n\ndef main():\n    \"\"\"\n    Main function to run the image-to-video conversion.\n    \"\"\"\n    # Example usage:\n    image_folder = \"res/last_twenty_frames\"  # Replace with the path to your image folder\n    output_path = \"output.mp4\"  # Replace with the desired output path\n    fps = 0.5  # You can change the frames per second\n    image_pattern = r\"image_\\d+\\.png\" # Example pattern, change as needed\n\n    # Create a dummy image folder and images if it doesn't exist\n    if not os.path.exists(image_folder):\n        os.makedirs(image_folder)\n        for i in range(10):  # Create 10 dummy images\n            import numpy as np\n            dummy_image = np.random.randint(0, 256, (100, 100, 3), dtype=np.uint8) # Create a random image\n            cv2.imwrite(os.path.join(image_folder, f\"image_{i:03d}.png\"), dummy_image) # save the image\n\n    create_mp4_from_images(image_folder, output_path, fps, image_pattern)\n\n\n\nif __name__ == \"__main__\":\n    main()\n",
   "execution_count": 4,
   "outputs": [
    {
     "ename": "ModuleNotFoundError",
     "evalue": "No module named 'cv2'",
     "output_type": "error",
     "traceback": [
      "\u001b[31m---------------------------------------------------------------------------\u001b[39m",
      "\u001b[31mModuleNotFoundError\u001b[39m                       Traceback (most recent call last)",
      "\u001b[36mCell\u001b[39m\u001b[36m \u001b[39m\u001b[32mIn[4]\u001b[39m\u001b[32m, line 1\u001b[39m\n\u001b[32m----> \u001b[39m\u001b[32m1\u001b[39m \u001b[38;5;28;01mimport\u001b[39;00m\u001b[38;5;250m \u001b[39m\u001b[34;01mcv2\u001b[39;00m\n\u001b[32m      2\u001b[39m \u001b[38;5;28;01mimport\u001b[39;00m\u001b[38;5;250m \u001b[39m\u001b[34;01mos\u001b[39;00m\n\u001b[32m      3\u001b[39m \u001b[38;5;28;01mimport\u001b[39;00m\u001b[38;5;250m \u001b[39m\u001b[34;01mre\u001b[39;00m\n",
      "\u001b[31mModuleNotFoundError\u001b[39m: No module named 'cv2'"
     ]
    }
   ]
  },
  {
   "metadata": {},
   "id": "c12bac94-3d43-4104-8201-9bdf8b9e7ab3",
   "cell_type": "markdown",
   "source": "# display the time based animation of the distribution of random numbers being populated by grabbing the last twenty every 2 seconds"
  },
  {
   "metadata": {},
   "id": "43be7a51-e275-4756-8da9-9899f0fcf5ea",
   "cell_type": "markdown",
   "source": "please see output.mp4\n\n"
  },
  {
   "metadata": {},
   "id": "e38d21cf-b3cd-401e-a620-b628430189f1",
   "cell_type": "markdown",
   "source": "[output](output.mp4)"
  },
  {
   "metadata": {},
   "id": "9b6173e7-7ccd-46b3-8202-d074a3a95e3c",
   "cell_type": "markdown",
   "source": "# Okay\n# So how do we create this in a class centric way?\n\n\nwell i think we can take our doublylinked class and modify it a little  \n\nif we convert the nextlink and previouslink connectors from the link class of our doublylinked list into chains themselves of length n\nwe can easily pull out the data of the last x  \n\nso multiple ways to do this including the procedural way i just did above but we want a class oriented way to do it\n\n\nso lets work on adding previousn and nextn links to our doubly linked list class"
  },
  {
   "metadata": {
    "trusted": false
   },
   "id": "2e142b86-7cee-48c9-ad97-c136e0949fa9",
   "cell_type": "code",
   "source": "",
   "execution_count": null,
   "outputs": []
  },
  {
   "metadata": {},
   "id": "a12398c9-e5b7-4a5e-8041-797b0ac02982",
   "cell_type": "markdown",
   "source": "# Here is our doublylinkedlist class and usage using the numbers 1 through 5"
  },
  {
   "metadata": {
    "trusted": false
   },
   "id": "9443772a-fce1-4115-8f25-af784cbe2e5f",
   "cell_type": "code",
   "source": "class list_index:\n    def __init__(self, list_item):\n        self.list_item = list_item\n        self.next_list_item = None\n        self.previous_list_item = None\n\nclass llist:\n    def __init__(self):\n        self.firstitem = None\n        self.enditem = None\n        self.length = 0\n\n    def add_item(self, item):\n        new_list_entry = list_index(item)\n        self.length += 1\n        if self.firstitem == None:\n            self.firstitem = new_list_entry\n            self.enditem = new_list_entry\n        else:\n            new_list_entry.previous_list_item = self.enditem\n            self.enditem.next_list_item = new_list_entry\n            self.enditem = new_list_entry\n\n    def get_item(self, index):\n        if index >= 0:\n            current_index = self.firstitem\n            for i in range(index):\n                current_index = current_index.next_list_item\n            return current_index.list_item\n        elif index == -1:\n            return self.enditem.list_item\n        else:\n            current_step = self.enditem\n            for i in range(1, abs(index)):\n                current_step = current_step.previous_list_item\n        return current_step.list_item",
   "execution_count": 6,
   "outputs": []
  },
  {
   "metadata": {
    "trusted": false
   },
   "id": "dbc2acf7-895f-4f9d-ab43-44ee618b9f9e",
   "cell_type": "code",
   "source": "dl_list = llist()\n\ndl_list.add_item(1)\ndl_list.add_item(2)\ndl_list.add_item(3)\ndl_list.add_item(4)\ndl_list.add_item(5)\n\nnegative_list = [-i for i in range(1, 6)]\nnegative_list = [-1,-2,-3,-4,-5]\n\n# 1 based negative indexing\nfor item in negative_list:\n    print(dl_list.get_item(item))",
   "execution_count": 7,
   "outputs": [
    {
     "name": "stdout",
     "output_type": "stream",
     "text": "5\n4\n3\n2\n1\n"
    }
   ]
  },
  {
   "metadata": {
    "trusted": false
   },
   "id": "0726822b-e01c-4d99-9f09-7c5bec0d0911",
   "cell_type": "code",
   "source": "dl_list = llist()\n\ndl_list.add_item(1)\ndl_list.add_item(2)\ndl_list.add_item(3)\ndl_list.add_item(4)\ndl_list.add_item(5)\n\n# 0 based positive indexing\nfor i in range(dl_list.length):\n    print(dl_list.get_item(i))",
   "execution_count": 8,
   "outputs": [
    {
     "name": "stdout",
     "output_type": "stream",
     "text": "1\n2\n3\n4\n5\n"
    }
   ]
  },
  {
   "metadata": {
    "trusted": false
   },
   "id": "51bf0151-8a01-4611-982d-19d51f41a83f",
   "cell_type": "code",
   "source": "# please see the demo animation in readme, \n# doubly linked lists just wire up the previous link before resetting the endlink tape which you can see\n# here ^",
   "execution_count": 9,
   "outputs": []
  },
  {
   "metadata": {},
   "id": "19a5a61b-abc5-42bc-827e-59606460f423",
   "cell_type": "markdown",
   "source": "<hr>"
  },
  {
   "metadata": {},
   "id": "8bba1704-1a23-4012-bb17-74f05558b96f",
   "cell_type": "markdown",
   "source": "convert this implementation to use chains for its next and previous connections of length n (n specified by user)\n\n\nwell maybe a static previous n and next n is bad and we should only care about in the moment previous, in that case we dont have to change our doubly linked class at all as you can see in our for loops we are using dl_list to iterate through the whole list\n\nif we just use the already implemented negative indexing and a constrained for loop we can already do any node of slicing starting from the n\n\nhere is an example of the outputs above\n\nlets get the last 3"
  },
  {
   "metadata": {
    "trusted": false
   },
   "id": "35e13905-d753-4f46-8c29-d36e5237c507",
   "cell_type": "code",
   "source": "# print the whole list\nfor i in range(dl_list.length):\n    print(dl_list.get_item(i))",
   "execution_count": 10,
   "outputs": [
    {
     "name": "stdout",
     "output_type": "stream",
     "text": "1\n2\n3\n4\n5\n"
    }
   ]
  },
  {
   "metadata": {},
   "id": "e3c571f8-a9cf-4951-88e4-3fbd38e1c55a",
   "cell_type": "markdown",
   "source": "okay use negative indexing to only get the last 3"
  },
  {
   "metadata": {
    "trusted": false
   },
   "id": "8d974edb-2c4e-474f-aa47-e101accaaf75",
   "cell_type": "code",
   "source": "last_n = 3\nfor i in range(1, last_n+1):\n    print(dl_list.get_item(-i))",
   "execution_count": 11,
   "outputs": [
    {
     "name": "stdout",
     "output_type": "stream",
     "text": "5\n4\n3\n"
    }
   ]
  },
  {
   "metadata": {},
   "id": "8fb98563-c39c-4ed3-af8f-55c6b972dc5a",
   "cell_type": "markdown",
   "source": "right?"
  },
  {
   "metadata": {},
   "id": "d8972373-b42e-4e7d-a689-7fcd19d87213",
   "cell_type": "markdown",
   "source": "so whats the problem with this?  \n\nwell this is an iterative approach the previous x are not known  \n\nn has to be counted to as you can see in the for loop above  \n\nas n grows large, the number of counts grows large, and your program slows down  \n\n\nso we need to keep going  \n\n"
  },
  {
   "metadata": {
    "trusted": false
   },
   "id": "320b7504-740b-44d3-94b4-fabc3516d4e8",
   "cell_type": "code",
   "source": "",
   "execution_count": null,
   "outputs": []
  },
  {
   "metadata": {
    "trusted": false
   },
   "id": "21196671-27df-43b2-a64d-488f9d9ac647",
   "cell_type": "code",
   "source": "",
   "execution_count": null,
   "outputs": []
  },
  {
   "metadata": {
    "trusted": false
   },
   "id": "99da4877-8dcd-4b9d-8d47-3a424075aa63",
   "cell_type": "code",
   "source": "",
   "execution_count": null,
   "outputs": []
  },
  {
   "metadata": {},
   "id": "4ac658e9-ebae-4acc-b3e3-861a59936280",
   "cell_type": "markdown",
   "source": "So whats the current TODO:"
  },
  {
   "metadata": {
    "trusted": false
   },
   "id": "8c61bdf8-c0e8-4e8c-8560-6d42b9098f75",
   "cell_type": "code",
   "source": "# TODO: implement python slicing\n# mostly care about negative slicing\n# negative slicing already works in a user defined for loop using the negative indexing\n# built into get_index and a for loop to iterate through last n as you can see again by the duplicate cell above that i've coppied beneath this todo",
   "execution_count": 12,
   "outputs": []
  },
  {
   "metadata": {
    "trusted": false
   },
   "id": "7ab43a86-bd8d-459f-8bdc-5de9ec2f9dde",
   "cell_type": "code",
   "source": "last_n = 3\nfor i in range(1, last_n+1):\n    print(dl_list.get_item(-i))",
   "execution_count": 13,
   "outputs": [
    {
     "name": "stdout",
     "output_type": "stream",
     "text": "5\n4\n3\n"
    }
   ]
  },
  {
   "metadata": {},
   "id": "9ced8f33-48a7-4314-aea9-06e6d4ef292e",
   "cell_type": "markdown",
   "source": "okay so rewrite todo for when i come back for further touches"
  },
  {
   "metadata": {},
   "id": "25c1c26b-d7dc-4af0-99dc-01cf71c2455e",
   "cell_type": "markdown",
   "source": "# TODO: mf just build python list slicing but dont make it count up to n every god damn time and thats it (into doubly linked lists)"
  },
  {
   "metadata": {
    "trusted": false
   },
   "id": "936071f0-208f-4b31-91d6-a9e73513d768",
   "cell_type": "code",
   "source": "# TODO: mf just build python list slicing but dont make it count up to n every god damn time and thats it (into doubly linked lists)",
   "execution_count": 14,
   "outputs": []
  },
  {
   "metadata": {
    "trusted": false
   },
   "id": "d36c810b-9790-4192-abe7-18e7d8ab0c78",
   "cell_type": "code",
   "source": "",
   "execution_count": null,
   "outputs": []
  },
  {
   "metadata": {
    "trusted": false
   },
   "id": "5b94acd1-6dfc-4bd3-84ea-63ebacf88cbb",
   "cell_type": "code",
   "source": "",
   "execution_count": null,
   "outputs": []
  },
  {
   "metadata": {
    "trusted": false
   },
   "id": "82f400be-de3d-4bff-8355-1b0394cfb71e",
   "cell_type": "code",
   "source": "",
   "execution_count": null,
   "outputs": []
  },
  {
   "metadata": {
    "trusted": false
   },
   "id": "eff51aec-d84e-482e-ab3f-f3c0a007c11e",
   "cell_type": "code",
   "source": "",
   "execution_count": null,
   "outputs": []
  },
  {
   "metadata": {},
   "id": "d2c6f54a-8899-49d5-86b4-7046fe05945a",
   "cell_type": "markdown",
   "source": "# Okay lets add some notes\n\n![1](res/handwritten-NOTES-slicing-copy/1.jpg)\n\n![2](res/handwritten-NOTES-slicing-copy/2.jpg)\n\n![3](res/handwritten-NOTES-slicing-copy/3.jpg)\n\n![4](res/handwritten-NOTES-slicing-copy/4.jpg)\n\n![5](res/handwritten-NOTES-slicing-copy/5.jpg)\n\n![6](res/handwritten-NOTES-slicing-copy/6.jpg)"
  },
  {
   "metadata": {},
   "id": "6f97b3c8-8f60-4fee-9971-34cfe5760a17",
   "cell_type": "markdown",
   "source": "So whats this mean??\n\n\nwe ALREADY HAVE SLICING BUILT IN by having the get_index function of our chain classes able to use negative indexing  \n\nwhat we really need to do is keep a running track of slices that have already been requested  \n\n\n\n* getting the last 3 above is an indication of slicing\n* if we keep a running track through lists of lists we can keep ourselves from recounting if the count can be lower than the list length\n\nwhat i mean is basically we need to add a new member variable to our chain class  \nwe have self.firstlink  \nself.nextlink  \nself.previouslink  \nself.endlink  \n\nLEAVE THESE THE SAME\n\n\nadd a new self.slice_receipts  \n\nbasically slice receipts will be a list of lists of previous subsets of our main chain  \n\nso whenever a slice is requested that we havent counted yet, we count it, and save it to the slice_receipt keyring  \n(this is a list of list or a chain of chains)\n\nat each slice we check our saved slices  \n\nif we already counted that slice we just return it  \n\nif we havent we can count from the beginning or use a modification of another subset already counted to perform the slice faster\n\n\nso whats a good way to preserve this:\n\nHere is mine:\n\nat each slice we ask:\n\n* Where did you start?\n* What direction did yougo?\n* how long did you go in that direction?\n\nexample we already counted and saved a slice of the last 8,000,000 in the list  \nokay now user requesting a slice of the last 8,001,000\n\nokay its actually quicker to count to 1000 than 8,001,000\n\nso we can create a duplicate of the 8,000,000 slice in our already counted keyring\n\n(the first elements of this list are)  \nindex 0: where did you start?\nindex 1: which direction did you go? negative or positive\nindex 2: how long did you go in that direction?\nindex 3 to end is the actual subset\n\n\nThis gives an example of how we can count once never count again and even use previous counts to speed up things we actually have not counted\n\n\nall we have to do is add a list of lists called slice somethings that checks three things before counting again:\n\nwhat is our slice list? do we have any? if no then have to count first time\nif yes we check to see if our preserved slices are the same or close to what the user is asking\n\nwe then use logical stepage to count less than the full amount if its quicker to modify a previous slice than to build a new one entirely\n\nagain we then save the newely created subset as a list into slice receipts or something (name up to you)\n\nagain slicereceipt is a list of lists where each list represents a previous slice\n\nthe first index -> where did the slice start  \nthe next index -> which direction did you go +, or -?  \nthe next index -> how far did you go in that direction?\nthe next index to end of list is actually the subset  \n\nright?\n\nso basically what do we need to do:\n\n\n# TODO: take doublylinkedlist class and add explicit ability to slice (we already see it has it using a for loop) merge for loop into actual class function so we can just call slice\n\n# TODO: keep running track of slices so if we can count less or not count again we do!\n\nThat's it i think"
  },
  {
   "metadata": {},
   "id": "eab4721d-ce4e-4c60-a012-a009d17b6e46",
   "cell_type": "markdown",
   "source": "okay so start with adding slice to doubly linked lists below"
  },
  {
   "metadata": {
    "trusted": false
   },
   "id": "8a213f8f-0133-4488-afaf-7773c0c3695d",
   "cell_type": "code",
   "source": "class list_index:\n    def __init__(self, list_item):\n        self.list_item = list_item\n        self.next_list_item = None\n        self.previous_list_item = None\n\nclass llist:\n    def __init__(self):\n        self.firstitem = None\n        self.enditem = None\n        self.length = 0\n\n    def add_item(self, item):\n        new_list_entry = list_index(item)\n        self.length += 1\n        if self.firstitem == None:\n            self.firstitem = new_list_entry\n            self.enditem = new_list_entry\n        else:\n            new_list_entry.previous_list_item = self.enditem\n            self.enditem.next_list_item = new_list_entry\n            self.enditem = new_list_entry\n\n    def get_item(self, index):\n        if index >= 0:\n            current_index = self.firstitem\n            for i in range(index):\n                current_index = current_index.next_list_item\n            return current_index.list_item\n        elif index == -1:\n            return self.enditem.list_item\n        else:\n            current_step = self.enditem\n            for i in range(1, abs(index)):\n                current_step = current_step.previous_list_item\n        return current_step.list_item\n            ",
   "execution_count": 15,
   "outputs": []
  },
  {
   "metadata": {
    "trusted": false
   },
   "id": "3cf7b70f-c264-4c1d-aba3-d2d6ce617548",
   "cell_type": "code",
   "source": "dl_list = llist()\n\ndl_list.add_item(1)\ndl_list.add_item(2)\ndl_list.add_item(3)\ndl_list.add_item(4)\ndl_list.add_item(5)\n\nnegative_list = [-i for i in range(1, 6)]\nnegative_list = [-1,-2,-3,-4,-5]\n\n# 1 based negative indexing\nfor item in negative_list:\n    print(dl_list.get_item(item))",
   "execution_count": 16,
   "outputs": [
    {
     "name": "stdout",
     "output_type": "stream",
     "text": "5\n4\n3\n2\n1\n"
    }
   ]
  },
  {
   "metadata": {
    "trusted": false
   },
   "id": "6b61eb5d-150d-4e1e-aad9-e755558df17f",
   "cell_type": "code",
   "source": "# show slicing already works, but we are recounting everytime\nstart = -1\nend = -3\nnumber_steps = 3\n# this will grab the last 3 elements if we loop it\nfor i in range(1, number_steps+1):\n    print(dl_list.get_item(-i))\n\nprint('we just sliced the last 3')",
   "execution_count": 17,
   "outputs": [
    {
     "name": "stdout",
     "output_type": "stream",
     "text": "5\n4\n3\nwe just sliced the last 3\n"
    }
   ]
  },
  {
   "metadata": {
    "trusted": false
   },
   "id": "be64f975-c472-41d1-b1f2-1af32822145f",
   "cell_type": "code",
   "source": "# okay do a medium slice\n# slice from -2 to -5:\nfor i in range(3, 6):\n    print(dl_list.get_item(-i))",
   "execution_count": 18,
   "outputs": [
    {
     "name": "stdout",
     "output_type": "stream",
     "text": "3\n2\n1\n"
    }
   ]
  },
  {
   "metadata": {
    "trusted": false
   },
   "id": "9fc4ae56-47b6-44c1-b6cd-f2cd9746828a",
   "cell_type": "code",
   "source": "# ^ this returning a reversed list showing negative direction where python would be \n\n#dl_list[-5:-2]\n#and would actually print\ndl_pythonlist = [1, 2, 3, 4, 5]\ndl_pythonlist[-5:-2]\n",
   "execution_count": 19,
   "outputs": [
    {
     "data": {
      "text/plain": "[1, 2, 3]"
     },
     "execution_count": 19,
     "metadata": {},
     "output_type": "execute_result"
    }
   ]
  },
  {
   "metadata": {
    "trusted": false
   },
   "id": "cafc5ae7-f0fd-4c48-98c2-bd80a3bd1b10",
   "cell_type": "code",
   "source": "# so that shows we need some modifications there too\n\n# anyways just add this as logic to our class and we fix it later",
   "execution_count": 20,
   "outputs": []
  },
  {
   "metadata": {
    "trusted": false
   },
   "id": "1659174a-9782-42d4-92a8-176a0fca37ad",
   "cell_type": "code",
   "source": "class list_index:\n    def __init__(self, list_item):\n        self.list_item = list_item\n        self.next_list_item = None\n        self.previous_list_item = None\n\nclass llist:\n    def __init__(self):\n        self.firstitem = None\n        self.enditem = None\n        self.length = 0\n\n    def add_item(self, item):\n        new_list_entry = list_index(item)\n        self.length += 1\n        if self.firstitem == None:\n            self.firstitem = new_list_entry\n            self.enditem = new_list_entry\n        else:\n            new_list_entry.previous_list_item = self.enditem\n            self.enditem.next_list_item = new_list_entry\n            self.enditem = new_list_entry\n\n    def get_item(self, index):\n        if index >= 0:\n            current_index = self.firstitem\n            for i in range(index):\n                current_index = current_index.next_list_item\n            return current_index.list_item\n        elif index == -1:\n            return self.enditem.list_item\n        else:\n            current_step = self.enditem\n            for i in range(1, abs(index)):\n                current_step = current_step.previous_list_item\n        return current_step.list_item\n\n    def slice(self, start, end):\n        chain = llist()\n        for i in range(start, end):\n            chain.add_item(self.get_item(i))\n        return chain",
   "execution_count": 21,
   "outputs": []
  },
  {
   "metadata": {
    "trusted": false
   },
   "id": "a3578f61-3f35-4974-9b30-9d21d8a4579b",
   "cell_type": "code",
   "source": "my_list = llist()\nmy_list.add_item(1)\nmy_list.add_item(2)\nmy_list.add_item(3)\nmy_list.add_item(4)\nmy_list.add_item(5)\n\nfor i in range(my_list.length):\n    print(my_list.get_item(i))",
   "execution_count": 22,
   "outputs": [
    {
     "name": "stdout",
     "output_type": "stream",
     "text": "1\n2\n3\n4\n5\n"
    }
   ]
  },
  {
   "metadata": {
    "trusted": false
   },
   "id": "4028c8bd-3df5-4e16-9dfd-1c9093d5998b",
   "cell_type": "code",
   "source": "sliced = my_list.slice(0, 2)\nsliced.length",
   "execution_count": 23,
   "outputs": [
    {
     "data": {
      "text/plain": "2"
     },
     "execution_count": 23,
     "metadata": {},
     "output_type": "execute_result"
    }
   ]
  },
  {
   "metadata": {
    "trusted": false
   },
   "id": "f5088c6c-edff-4ae5-845c-1a956f0ebd8c",
   "cell_type": "code",
   "source": "current_slice_item = sliced.firstitem\nprint(current_slice_item.list_item)\ncurrent_slice_item = current_slice_item.next_list_item\nprint(current_slice_item.list_item)\ncurrent_slice_item = current_slice_item.next_list_item\nprint(current_slice_item)",
   "execution_count": 24,
   "outputs": [
    {
     "name": "stdout",
     "output_type": "stream",
     "text": "1\n2\nNone\n"
    }
   ]
  },
  {
   "metadata": {
    "trusted": false
   },
   "id": "e7271ae1-8044-40a7-b6ee-e5eec695921e",
   "cell_type": "code",
   "source": "# ^ that is slicing, we just need to add logic to speed it up because this implementation makes us recount EVERY TIME and tbh\n# every time we use slicing it is paternistic\n# so again, we need to add previous slice receipts and logic of when to append to previous slices or cut from previous slices instead of recounting\n# so slicing already done, we just need to stop ourselves from recounting everytime with a slice receipts member variable in the chain class\n# this will just be a list of lists containing previous slices and their subsets\n# again with:\n# index 1 where did the slice start\n# index 2 which direction did the slice go\n# index 3 how long did the slice go in that direction\n# index 4 to end: the actual subset created by the slice\n",
   "execution_count": 25,
   "outputs": []
  },
  {
   "metadata": {
    "trusted": false
   },
   "id": "6cc10a3c-8c01-4450-b773-93e00c86bd8a",
   "cell_type": "code",
   "source": "",
   "execution_count": null,
   "outputs": []
  }
 ],
 "metadata": {
  "kernelspec": {
   "name": "python3",
   "display_name": "Python 3",
   "language": "python"
  },
  "language_info": {
   "name": "python",
   "version": "3.10.4",
   "mimetype": "text/x-python",
   "codemirror_mode": {
    "name": "ipython",
    "version": 3
   },
   "pygments_lexer": "ipython3",
   "nbconvert_exporter": "python",
   "file_extension": ".py"
  }
 },
 "nbformat": 4,
 "nbformat_minor": 5
}