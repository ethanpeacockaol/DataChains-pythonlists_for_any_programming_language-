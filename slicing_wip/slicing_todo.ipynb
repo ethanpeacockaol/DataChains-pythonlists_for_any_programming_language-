{
 "cells": [
  {
   "cell_type": "markdown",
   "id": "4d0f08f4-8a6a-4d07-937f-8a8d11c39d43",
   "metadata": {},
   "source": [
    "# Previous X\n",
    "\n",
    "doubly linked lists with chains as nextlink and chains as previouslink of length n (user specified)"
   ]
  },
  {
   "cell_type": "code",
   "execution_count": null,
   "id": "180044a6-d673-4a8a-89cf-ac5fc206c5bf",
   "metadata": {},
   "outputs": [],
   "source": []
  },
  {
   "cell_type": "code",
   "execution_count": null,
   "id": "9cddb5eb-96c1-4213-87bb-0ed51d322a63",
   "metadata": {},
   "outputs": [],
   "source": []
  },
  {
   "cell_type": "markdown",
   "id": "6858e4e9-b323-4813-b584-11a20a252461",
   "metadata": {},
   "source": [
    "![previous x anim](res/previousxanim.gif)"
   ]
  },
  {
   "cell_type": "markdown",
   "id": "c54176c8-0aef-4f89-952b-d269816e1c8f",
   "metadata": {},
   "source": [
    "so lets just write it procedurally with a next x list that we keep track of\n",
    "\n",
    "task:   \n",
    "running while loop populating list with random integers  \n",
    "every two seconds scrape the last 20 of the running list    \n",
    "do this 10 times  \n",
    "save that to a bar chart for animation sequence  \n",
    "\n"
   ]
  },
  {
   "cell_type": "markdown",
   "id": "e3789756",
   "metadata": {},
   "source": [
    "# The Random Scope"
   ]
  },
  {
   "cell_type": "code",
   "execution_count": 1,
   "id": "4136c53e-0a53-426b-add9-681e4df53e08",
   "metadata": {},
   "outputs": [],
   "source": [
    "import matplotlib.pyplot as plt\n",
    "import numpy as np\n",
    "import time\n",
    "\n",
    "random_list = []\n",
    "go = True\n",
    "all_last_twentys = []\n",
    "\n",
    "start_time = time.time()\n",
    "i = 0\n",
    "while go:\n",
    "    # add random number\n",
    "    random_list.append(np.random.randint(0,100))\n",
    "\n",
    "    # calculate how much time has passed since loop started\n",
    "    elapsed_time = time.time() - start_time\n",
    "\n",
    "    # every 2 seconds scrape the last 20 of the list\n",
    "    # every 2 seconds reset 2 seconds counter\n",
    "    # every time we reset 2 seconds counter, we increment i and stop at i == 10\n",
    "    if elapsed_time > 2:\n",
    "        start_time = time.time()\n",
    "        i += 1\n",
    "\n",
    "        # every 2 seconds get the last 20 of the list\n",
    "        all_last_twentys.append(random_list[-20:])\n",
    "    if i == 10:\n",
    "        go = False"
   ]
  },
  {
   "cell_type": "code",
   "execution_count": 2,
   "id": "de116485-befa-4bef-8858-e1032e1d8ef8",
   "metadata": {},
   "outputs": [
    {
     "data": {
      "text/plain": [
       "10"
      ]
     },
     "execution_count": 2,
     "metadata": {},
     "output_type": "execute_result"
    }
   ],
   "source": [
    "len(all_last_twentys)"
   ]
  },
  {
   "cell_type": "code",
   "execution_count": 3,
   "id": "e96f311e-d1c5-4e3f-955b-4a6c1374feb3",
   "metadata": {},
   "outputs": [],
   "source": [
    "# name the file sequentially\n",
    "i = 0\n",
    "n = 20\n",
    "for last_twenty in all_last_twentys:\n",
    "    x_axis = [i for i in range(n)]\n",
    "    plt.title(\"last twenty\")\n",
    "    plt.bar(x_axis, last_twenty)\n",
    "    plt.savefig(f\"res/last_twenty_frames/image_{i}.png\")\n",
    "    plt.close()\n",
    "    # update file name\n",
    "    i += 1"
   ]
  },
  {
   "cell_type": "markdown",
   "id": "0c3bc44f-06a0-44c7-b75c-6e3108944f76",
   "metadata": {},
   "source": [
    "gemini code to convert image frames to animation"
   ]
  },
  {
   "cell_type": "code",
   "execution_count": 4,
   "id": "be028daa-d599-4157-bdc7-58c1587a85c3",
   "metadata": {},
   "outputs": [
    {
     "ename": "ModuleNotFoundError",
     "evalue": "No module named 'cv2'",
     "output_type": "error",
     "traceback": [
      "\u001b[0;31m---------------------------------------------------------------------------\u001b[0m",
      "\u001b[0;31mModuleNotFoundError\u001b[0m                       Traceback (most recent call last)",
      "Cell \u001b[0;32mIn[4], line 1\u001b[0m\n\u001b[0;32m----> 1\u001b[0m \u001b[38;5;28;01mimport\u001b[39;00m\u001b[38;5;250m \u001b[39m\u001b[38;5;21;01mcv2\u001b[39;00m\n\u001b[1;32m      2\u001b[0m \u001b[38;5;28;01mimport\u001b[39;00m\u001b[38;5;250m \u001b[39m\u001b[38;5;21;01mos\u001b[39;00m\n\u001b[1;32m      3\u001b[0m \u001b[38;5;28;01mimport\u001b[39;00m\u001b[38;5;250m \u001b[39m\u001b[38;5;21;01mre\u001b[39;00m\n",
      "\u001b[0;31mModuleNotFoundError\u001b[0m: No module named 'cv2'"
     ]
    }
   ],
   "source": [
    "import cv2\n",
    "import os\n",
    "import re\n",
    "\n",
    "def create_mp4_from_images(image_folder, output_path, fps=30, image_pattern=r\"image_\\d+\\.png\"):\n",
    "    \"\"\"\n",
    "    Creates an MP4 video from a sequence of images in a folder.\n",
    "\n",
    "    Args:\n",
    "        image_folder (str): The path to the folder containing the images.\n",
    "        output_path (str): The path to the output MP4 video file.\n",
    "        fps (int, optional): The frames per second of the output video. Defaults to 30.\n",
    "        image_pattern (str, optional): A regular expression pattern to match image filenames.\n",
    "            Defaults to \"image_\\\\d+\\\\.png\", which matches files like \"image_001.png\", \"image_123.png\", etc.\n",
    "            Use raw strings (r\"pattern\") to avoid issues with backslashes in regex patterns.\n",
    "    \"\"\"\n",
    "    images = [img for img in os.listdir(image_folder) if re.search(image_pattern, img)]\n",
    "    # Sort the images.  Important for correct video sequence.\n",
    "    images.sort()  # Simple sort, might need more robust sorting for complex filenames\n",
    "\n",
    "    if not images:\n",
    "        print(f\"Error: No images found in the folder matching the pattern '{image_pattern}'.  Folder: {image_folder}\")\n",
    "        return\n",
    "\n",
    "    # Determine the frame size from the first image.\n",
    "    first_image_path = os.path.join(image_folder, images[0])\n",
    "    img = cv2.imread(first_image_path)\n",
    "    if img is None:\n",
    "        print(f\"Error: Could not read the first image: {first_image_path}.  Check if the path is correct and the image is valid.\")\n",
    "        return\n",
    "    height, width, channels = img.shape\n",
    "\n",
    "    # Define the video writer.\n",
    "    fourcc = cv2.VideoWriter_fourcc(*'mp4v')  # Codec for MP4\n",
    "    out = cv2.VideoWriter(output_path, fourcc, fps, (width, height))\n",
    "\n",
    "    # Write each image to the video.\n",
    "    for image in images:\n",
    "        image_path = os.path.join(image_folder, image)\n",
    "        img = cv2.imread(image_path)\n",
    "        if img is None:\n",
    "            print(f\"Warning: Could not read image {image_path}. Skipping this frame.\")\n",
    "            continue  # Skip to the next image\n",
    "        out.write(img)\n",
    "\n",
    "    # Release the video writer.\n",
    "    out.release()\n",
    "    print(f\"Successfully created video: {output_path} from images in {image_folder}\")\n",
    "\n",
    "def main():\n",
    "    \"\"\"\n",
    "    Main function to run the image-to-video conversion.\n",
    "    \"\"\"\n",
    "    # Example usage:\n",
    "    image_folder = \"res/last_twenty_frames\"  # Replace with the path to your image folder\n",
    "    output_path = \"output.mp4\"  # Replace with the desired output path\n",
    "    fps = 0.5  # You can change the frames per second\n",
    "    image_pattern = r\"image_\\d+\\.png\" # Example pattern, change as needed\n",
    "\n",
    "    # Create a dummy image folder and images if it doesn't exist\n",
    "    if not os.path.exists(image_folder):\n",
    "        os.makedirs(image_folder)\n",
    "        for i in range(10):  # Create 10 dummy images\n",
    "            import numpy as np\n",
    "            dummy_image = np.random.randint(0, 256, (100, 100, 3), dtype=np.uint8) # Create a random image\n",
    "            cv2.imwrite(os.path.join(image_folder, f\"image_{i:03d}.png\"), dummy_image) # save the image\n",
    "\n",
    "    create_mp4_from_images(image_folder, output_path, fps, image_pattern)\n",
    "\n",
    "\n",
    "\n",
    "if __name__ == \"__main__\":\n",
    "    main()\n"
   ]
  },
  {
   "cell_type": "markdown",
   "id": "c12bac94-3d43-4104-8201-9bdf8b9e7ab3",
   "metadata": {},
   "source": [
    "# display the time based animation of the distribution of random numbers being populated by grabbing the last twenty every 2 seconds"
   ]
  },
  {
   "cell_type": "markdown",
   "id": "43be7a51-e275-4756-8da9-9899f0fcf5ea",
   "metadata": {},
   "source": [
    "please see output.mp4\n",
    "\n"
   ]
  },
  {
   "cell_type": "markdown",
   "id": "e38d21cf-b3cd-401e-a620-b628430189f1",
   "metadata": {},
   "source": [
    "[output](output.mp4)"
   ]
  },
  {
   "cell_type": "markdown",
   "id": "9b6173e7-7ccd-46b3-8202-d074a3a95e3c",
   "metadata": {},
   "source": [
    "# Okay\n",
    "# So how do we create this in a class centric way?\n",
    "\n",
    "\n",
    "well i think we can take our doublylinked class and modify it a little  \n",
    "\n",
    "if we convert the nextlink and previouslink connectors from the link class of our doublylinked list into chains themselves of length n\n",
    "we can easily pull out the data of the last x  \n",
    "\n",
    "so multiple ways to do this including the procedural way i just did above but we want a class oriented way to do it\n",
    "\n",
    "\n",
    "so lets work on adding previousn and nextn links to our doubly linked list class"
   ]
  },
  {
   "cell_type": "code",
   "execution_count": null,
   "id": "2e142b86-7cee-48c9-ad97-c136e0949fa9",
   "metadata": {},
   "outputs": [],
   "source": []
  },
  {
   "cell_type": "markdown",
   "id": "a12398c9-e5b7-4a5e-8041-797b0ac02982",
   "metadata": {},
   "source": [
    "# Here is our doublylinkedlist class and usage using the numbers 1 through 5"
   ]
  },
  {
   "cell_type": "code",
   "execution_count": null,
   "id": "9443772a-fce1-4115-8f25-af784cbe2e5f",
   "metadata": {},
   "outputs": [],
   "source": [
    "class list_index:\n",
    "    def __init__(self, list_item):\n",
    "        self.list_item = list_item\n",
    "        self.next_list_item = None\n",
    "        self.previous_list_item = None\n",
    "\n",
    "class llist:\n",
    "    def __init__(self):\n",
    "        self.firstitem = None\n",
    "        self.enditem = None\n",
    "        self.length = 0\n",
    "\n",
    "    def add_item(self, item):\n",
    "        new_list_entry = list_index(item)\n",
    "        self.length += 1\n",
    "        if self.firstitem == None:\n",
    "            self.firstitem = new_list_entry\n",
    "            self.enditem = new_list_entry\n",
    "        else:\n",
    "            new_list_entry.previous_list_item = self.enditem\n",
    "            self.enditem.next_list_item = new_list_entry\n",
    "            self.enditem = new_list_entry\n",
    "\n",
    "    def get_item(self, index):\n",
    "        if index >= 0:\n",
    "            current_index = self.firstitem\n",
    "            for i in range(index):\n",
    "                current_index = current_index.next_list_item\n",
    "            return current_index.list_item\n",
    "        elif index == -1:\n",
    "            return self.enditem.list_item\n",
    "        else:\n",
    "            current_step = self.enditem\n",
    "            for i in range(1, abs(index)):\n",
    "                current_step = current_step.previous_list_item\n",
    "        return current_step.list_item"
   ]
  },
  {
   "cell_type": "code",
   "execution_count": null,
   "id": "dbc2acf7-895f-4f9d-ab43-44ee618b9f9e",
   "metadata": {},
   "outputs": [],
   "source": [
    "dl_list = llist()\n",
    "\n",
    "dl_list.add_item(1)\n",
    "dl_list.add_item(2)\n",
    "dl_list.add_item(3)\n",
    "dl_list.add_item(4)\n",
    "dl_list.add_item(5)\n",
    "\n",
    "negative_list = [-i for i in range(1, 6)]\n",
    "negative_list = [-1,-2,-3,-4,-5]\n",
    "\n",
    "# 1 based negative indexing\n",
    "for item in negative_list:\n",
    "    print(dl_list.get_item(item))"
   ]
  },
  {
   "cell_type": "code",
   "execution_count": null,
   "id": "0726822b-e01c-4d99-9f09-7c5bec0d0911",
   "metadata": {},
   "outputs": [],
   "source": [
    "dl_list = llist()\n",
    "\n",
    "dl_list.add_item(1)\n",
    "dl_list.add_item(2)\n",
    "dl_list.add_item(3)\n",
    "dl_list.add_item(4)\n",
    "dl_list.add_item(5)\n",
    "\n",
    "# 0 based positive indexing\n",
    "for i in range(dl_list.length):\n",
    "    print(dl_list.get_item(i))"
   ]
  },
  {
   "cell_type": "code",
   "execution_count": null,
   "id": "51bf0151-8a01-4611-982d-19d51f41a83f",
   "metadata": {},
   "outputs": [],
   "source": [
    "# please see the demo animation in readme, \n",
    "# doubly linked lists just wire up the previous link before resetting the endlink tape which you can see\n",
    "# here ^"
   ]
  },
  {
   "cell_type": "markdown",
   "id": "19a5a61b-abc5-42bc-827e-59606460f423",
   "metadata": {},
   "source": [
    "<hr>"
   ]
  },
  {
   "cell_type": "markdown",
   "id": "8bba1704-1a23-4012-bb17-74f05558b96f",
   "metadata": {},
   "source": [
    "convert this implementation to use chains for its next and previous connections of length n (n specified by user)\n",
    "\n",
    "\n",
    "well maybe a static previous n and next n is bad and we should only care about in the moment previous, in that case we dont have to change our doubly linked class at all as you can see in our for loops we are using dl_list to iterate through the whole list\n",
    "\n",
    "if we just use the already implemented negative indexing and a constrained for loop we can already do any node of slicing starting from the n\n",
    "\n",
    "here is an example of the outputs above\n",
    "\n",
    "lets get the last 3"
   ]
  },
  {
   "cell_type": "code",
   "execution_count": null,
   "id": "35e13905-d753-4f46-8c29-d36e5237c507",
   "metadata": {},
   "outputs": [],
   "source": [
    "# print the whole list\n",
    "for i in range(dl_list.length):\n",
    "    print(dl_list.get_item(i))"
   ]
  },
  {
   "cell_type": "markdown",
   "id": "e3c571f8-a9cf-4951-88e4-3fbd38e1c55a",
   "metadata": {},
   "source": [
    "okay use negative indexing to only get the last 3"
   ]
  },
  {
   "cell_type": "code",
   "execution_count": null,
   "id": "8d974edb-2c4e-474f-aa47-e101accaaf75",
   "metadata": {},
   "outputs": [],
   "source": [
    "last_n = 3\n",
    "for i in range(1, last_n+1):\n",
    "    print(dl_list.get_item(-i))"
   ]
  },
  {
   "cell_type": "markdown",
   "id": "8fb98563-c39c-4ed3-af8f-55c6b972dc5a",
   "metadata": {},
   "source": [
    "right?"
   ]
  },
  {
   "cell_type": "markdown",
   "id": "d8972373-b42e-4e7d-a689-7fcd19d87213",
   "metadata": {},
   "source": [
    "so whats the problem with this?  \n",
    "\n",
    "well this is an iterative approach the previous x are not known  \n",
    "\n",
    "n has to be counted to as you can see in the for loop above  \n",
    "\n",
    "as n grows large, the number of counts grows large, and your program slows down  \n",
    "\n",
    "\n",
    "so we need to keep going  \n",
    "\n"
   ]
  },
  {
   "cell_type": "code",
   "execution_count": null,
   "id": "320b7504-740b-44d3-94b4-fabc3516d4e8",
   "metadata": {},
   "outputs": [],
   "source": []
  },
  {
   "cell_type": "code",
   "execution_count": null,
   "id": "21196671-27df-43b2-a64d-488f9d9ac647",
   "metadata": {},
   "outputs": [],
   "source": []
  },
  {
   "cell_type": "code",
   "execution_count": null,
   "id": "99da4877-8dcd-4b9d-8d47-3a424075aa63",
   "metadata": {},
   "outputs": [],
   "source": []
  },
  {
   "cell_type": "markdown",
   "id": "4ac658e9-ebae-4acc-b3e3-861a59936280",
   "metadata": {},
   "source": [
    "So whats the current TODO:"
   ]
  },
  {
   "cell_type": "code",
   "execution_count": null,
   "id": "8c61bdf8-c0e8-4e8c-8560-6d42b9098f75",
   "metadata": {},
   "outputs": [],
   "source": [
    "# TODO: implement python slicing\n",
    "# mostly care about negative slicing\n",
    "# negative slicing already works in a user defined for loop using the negative indexing\n",
    "# built into get_index and a for loop to iterate through last n as you can see again by the duplicate cell above that i've coppied beneath this todo"
   ]
  },
  {
   "cell_type": "code",
   "execution_count": null,
   "id": "7ab43a86-bd8d-459f-8bdc-5de9ec2f9dde",
   "metadata": {},
   "outputs": [],
   "source": [
    "last_n = 3\n",
    "for i in range(1, last_n+1):\n",
    "    print(dl_list.get_item(-i))"
   ]
  },
  {
   "cell_type": "markdown",
   "id": "9ced8f33-48a7-4314-aea9-06e6d4ef292e",
   "metadata": {},
   "source": [
    "okay so rewrite todo for when i come back for further touches"
   ]
  },
  {
   "cell_type": "markdown",
   "id": "25c1c26b-d7dc-4af0-99dc-01cf71c2455e",
   "metadata": {},
   "source": [
    "# TODO: mf just build python list slicing but dont make it count up to n every god damn time and thats it (into doubly linked lists)"
   ]
  },
  {
   "cell_type": "code",
   "execution_count": null,
   "id": "936071f0-208f-4b31-91d6-a9e73513d768",
   "metadata": {},
   "outputs": [],
   "source": [
    "# TODO: mf just build python list slicing but dont make it count up to n every god damn time and thats it (into doubly linked lists)"
   ]
  },
  {
   "cell_type": "code",
   "execution_count": null,
   "id": "d36c810b-9790-4192-abe7-18e7d8ab0c78",
   "metadata": {},
   "outputs": [],
   "source": []
  },
  {
   "cell_type": "code",
   "execution_count": null,
   "id": "5b94acd1-6dfc-4bd3-84ea-63ebacf88cbb",
   "metadata": {},
   "outputs": [],
   "source": []
  },
  {
   "cell_type": "code",
   "execution_count": null,
   "id": "82f400be-de3d-4bff-8355-1b0394cfb71e",
   "metadata": {},
   "outputs": [],
   "source": []
  },
  {
   "cell_type": "code",
   "execution_count": null,
   "id": "eff51aec-d84e-482e-ab3f-f3c0a007c11e",
   "metadata": {},
   "outputs": [],
   "source": []
  },
  {
   "cell_type": "markdown",
   "id": "d2c6f54a-8899-49d5-86b4-7046fe05945a",
   "metadata": {},
   "source": [
    "# Okay lets add some notes\n",
    "\n",
    "![1](res/handwritten-NOTES-slicing-copy/1.jpg)\n",
    "\n",
    "![2](res/handwritten-NOTES-slicing-copy/2.jpg)\n",
    "\n",
    "![3](res/handwritten-NOTES-slicing-copy/3.jpg)\n",
    "\n",
    "![4](res/handwritten-NOTES-slicing-copy/4.jpg)\n",
    "\n",
    "![5](res/handwritten-NOTES-slicing-copy/5.jpg)\n",
    "\n",
    "![6](res/handwritten-NOTES-slicing-copy/6.jpg)"
   ]
  },
  {
   "cell_type": "markdown",
   "id": "6f97b3c8-8f60-4fee-9971-34cfe5760a17",
   "metadata": {},
   "source": [
    "So whats this mean??\n",
    "\n",
    "\n",
    "we ALREADY HAVE SLICING BUILT IN by having the get_index function of our chain classes able to use negative indexing  \n",
    "\n",
    "what we really need to do is keep a running track of slices that have already been requested  \n",
    "\n",
    "\n",
    "\n",
    "* getting the last 3 above is an indication of slicing\n",
    "* if we keep a running track through lists of lists we can keep ourselves from recounting if the count can be lower than the list length\n",
    "\n",
    "what i mean is basically we need to add a new member variable to our chain class  \n",
    "we have self.firstlink  \n",
    "self.nextlink  \n",
    "self.previouslink  \n",
    "self.endlink  \n",
    "\n",
    "LEAVE THESE THE SAME\n",
    "\n",
    "\n",
    "add a new self.slice_receipts  \n",
    "\n",
    "basically slice receipts will be a list of lists of previous subsets of our main chain  \n",
    "\n",
    "so whenever a slice is requested that we havent counted yet, we count it, and save it to the slice_receipt keyring  \n",
    "(this is a list of list or a chain of chains)\n",
    "\n",
    "at each slice we check our saved slices  \n",
    "\n",
    "if we already counted that slice we just return it  \n",
    "\n",
    "if we havent we can count from the beginning or use a modification of another subset already counted to perform the slice faster\n",
    "\n",
    "\n",
    "so whats a good way to preserve this:\n",
    "\n",
    "Here is mine:\n",
    "\n",
    "at each slice we ask:\n",
    "\n",
    "* Where did you start?\n",
    "* What direction did yougo?\n",
    "* how long did you go in that direction?\n",
    "\n",
    "example we already counted and saved a slice of the last 8,000,000 in the list  \n",
    "okay now user requesting a slice of the last 8,001,000\n",
    "\n",
    "okay its actually quicker to count to 1000 than 8,001,000\n",
    "\n",
    "so we can create a duplicate of the 8,000,000 slice in our already counted keyring\n",
    "\n",
    "(the first elements of this list are)  \n",
    "index 0: where did you start?\n",
    "index 1: which direction did you go? negative or positive\n",
    "index 2: how long did you go in that direction?\n",
    "index 3 to end is the actual subset\n",
    "\n",
    "\n",
    "This gives an example of how we can count once never count again and even use previous counts to speed up things we actually have not counted\n",
    "\n",
    "\n",
    "all we have to do is add a list of lists called slice somethings that checks three things before counting again:\n",
    "\n",
    "what is our slice list? do we have any? if no then have to count first time\n",
    "if yes we check to see if our preserved slices are the same or close to what the user is asking\n",
    "\n",
    "we then use logical stepage to count less than the full amount if its quicker to modify a previous slice than to build a new one entirely\n",
    "\n",
    "again we then save the newely created subset as a list into slice receipts or something (name up to you)\n",
    "\n",
    "again slicereceipt is a list of lists where each list represents a previous slice\n",
    "\n",
    "the first index -> where did the slice start  \n",
    "the next index -> which direction did you go +, or -?  \n",
    "the next index -> how far did you go in that direction?\n",
    "the next index to end of list is actually the subset  \n",
    "\n",
    "right?\n",
    "\n",
    "so basically what do we need to do:\n",
    "\n",
    "\n",
    "# TODO: take doublylinkedlist class and add explicit ability to slice (we already see it has it using a for loop) merge for loop into actual class function so we can just call slice\n",
    "\n",
    "# TODO: keep running track of slices so if we can count less or not count again we do!\n",
    "\n",
    "That's it i think"
   ]
  },
  {
   "cell_type": "markdown",
   "id": "eab4721d-ce4e-4c60-a012-a009d17b6e46",
   "metadata": {},
   "source": [
    "okay so start with adding slice to doubly linked lists below"
   ]
  },
  {
   "cell_type": "code",
   "execution_count": 5,
   "id": "8a213f8f-0133-4488-afaf-7773c0c3695d",
   "metadata": {},
   "outputs": [],
   "source": [
    "class list_index:\n",
    "    def __init__(self, list_item):\n",
    "        self.list_item = list_item\n",
    "        self.next_list_item = None\n",
    "        self.previous_list_item = None\n",
    "\n",
    "class llist:\n",
    "    def __init__(self):\n",
    "        self.firstitem = None\n",
    "        self.enditem = None\n",
    "        self.length = 0\n",
    "\n",
    "    def add_item(self, item):\n",
    "        new_list_entry = list_index(item)\n",
    "        self.length += 1\n",
    "        if self.firstitem == None:\n",
    "            self.firstitem = new_list_entry\n",
    "            self.enditem = new_list_entry\n",
    "        else:\n",
    "            new_list_entry.previous_list_item = self.enditem\n",
    "            self.enditem.next_list_item = new_list_entry\n",
    "            self.enditem = new_list_entry\n",
    "\n",
    "    def get_item(self, index):\n",
    "        if index >= 0:\n",
    "            current_index = self.firstitem\n",
    "            for i in range(index):\n",
    "                current_index = current_index.next_list_item\n",
    "            return current_index.list_item\n",
    "        elif index == -1:\n",
    "            return self.enditem.list_item\n",
    "        else:\n",
    "            current_step = self.enditem\n",
    "            for i in range(1, abs(index)):\n",
    "                current_step = current_step.previous_list_item\n",
    "        return current_step.list_item\n",
    "            "
   ]
  },
  {
   "cell_type": "code",
   "execution_count": 6,
   "id": "3cf7b70f-c264-4c1d-aba3-d2d6ce617548",
   "metadata": {},
   "outputs": [
    {
     "name": "stdout",
     "output_type": "stream",
     "text": [
      "5\n",
      "4\n",
      "3\n",
      "2\n",
      "1\n"
     ]
    }
   ],
   "source": [
    "dl_list = llist()\n",
    "\n",
    "dl_list.add_item(1)\n",
    "dl_list.add_item(2)\n",
    "dl_list.add_item(3)\n",
    "dl_list.add_item(4)\n",
    "dl_list.add_item(5)\n",
    "\n",
    "negative_list = [-i for i in range(1, 6)]\n",
    "negative_list = [-1,-2,-3,-4,-5]\n",
    "\n",
    "# 1 based negative indexing\n",
    "for item in negative_list:\n",
    "    print(dl_list.get_item(item))"
   ]
  },
  {
   "cell_type": "code",
   "execution_count": 7,
   "id": "6b61eb5d-150d-4e1e-aad9-e755558df17f",
   "metadata": {},
   "outputs": [
    {
     "name": "stdout",
     "output_type": "stream",
     "text": [
      "5\n",
      "4\n",
      "3\n",
      "we just sliced the last 3\n"
     ]
    }
   ],
   "source": [
    "# show slicing already works, but we are recounting everytime\n",
    "start = -1\n",
    "end = -3\n",
    "number_steps = 3\n",
    "# this will grab the last 3 elements if we loop it\n",
    "for i in range(1, number_steps+1):\n",
    "    print(dl_list.get_item(-i))\n",
    "\n",
    "print('we just sliced the last 3')"
   ]
  },
  {
   "cell_type": "code",
   "execution_count": 8,
   "id": "be64f975-c472-41d1-b1f2-1af32822145f",
   "metadata": {},
   "outputs": [
    {
     "name": "stdout",
     "output_type": "stream",
     "text": [
      "3\n",
      "2\n",
      "1\n"
     ]
    }
   ],
   "source": [
    "# okay do a medium slice\n",
    "# slice from -2 to -5:\n",
    "for i in range(3, 6):\n",
    "    print(dl_list.get_item(-i))"
   ]
  },
  {
   "cell_type": "code",
   "execution_count": 9,
   "id": "9fc4ae56-47b6-44c1-b6cd-f2cd9746828a",
   "metadata": {},
   "outputs": [
    {
     "data": {
      "text/plain": [
       "[1, 2, 3]"
      ]
     },
     "execution_count": 9,
     "metadata": {},
     "output_type": "execute_result"
    }
   ],
   "source": [
    "# ^ this returning a reversed list showing negative direction where python would be \n",
    "\n",
    "#dl_list[-5:-2]\n",
    "#and would actually print\n",
    "dl_pythonlist = [1, 2, 3, 4, 5]\n",
    "dl_pythonlist[-5:-2]\n"
   ]
  },
  {
   "cell_type": "code",
   "execution_count": 10,
   "id": "cafc5ae7-f0fd-4c48-98c2-bd80a3bd1b10",
   "metadata": {},
   "outputs": [],
   "source": [
    "# so that shows we need some modifications there too\n",
    "\n",
    "# anyways just add this as logic to our class and we fix it later"
   ]
  },
  {
   "cell_type": "code",
   "execution_count": 11,
   "id": "1659174a-9782-42d4-92a8-176a0fca37ad",
   "metadata": {},
   "outputs": [],
   "source": [
    "class list_index:\n",
    "    def __init__(self, list_item):\n",
    "        self.list_item = list_item\n",
    "        self.next_list_item = None\n",
    "        self.previous_list_item = None\n",
    "\n",
    "class llist:\n",
    "    def __init__(self):\n",
    "        self.firstitem = None\n",
    "        self.enditem = None\n",
    "        self.length = 0\n",
    "\n",
    "    def add_item(self, item):\n",
    "        new_list_entry = list_index(item)\n",
    "        self.length += 1\n",
    "        if self.firstitem == None:\n",
    "            self.firstitem = new_list_entry\n",
    "            self.enditem = new_list_entry\n",
    "        else:\n",
    "            new_list_entry.previous_list_item = self.enditem\n",
    "            self.enditem.next_list_item = new_list_entry\n",
    "            self.enditem = new_list_entry\n",
    "\n",
    "    def get_item(self, index):\n",
    "        if index >= 0:\n",
    "            current_index = self.firstitem\n",
    "            for i in range(index):\n",
    "                current_index = current_index.next_list_item\n",
    "            return current_index.list_item\n",
    "        elif index == -1:\n",
    "            return self.enditem.list_item\n",
    "        else:\n",
    "            current_step = self.enditem\n",
    "            for i in range(1, abs(index)):\n",
    "                current_step = current_step.previous_list_item\n",
    "        return current_step.list_item\n",
    "\n",
    "    def slice(self, start, end):\n",
    "        chain = llist()\n",
    "        for i in range(start, end):\n",
    "            chain.add_item(self.get_item(i))\n",
    "        return chain"
   ]
  },
  {
   "cell_type": "code",
   "execution_count": 12,
   "id": "a3578f61-3f35-4974-9b30-9d21d8a4579b",
   "metadata": {},
   "outputs": [
    {
     "name": "stdout",
     "output_type": "stream",
     "text": [
      "1\n",
      "2\n",
      "3\n",
      "4\n",
      "5\n"
     ]
    }
   ],
   "source": [
    "my_list = llist()\n",
    "my_list.add_item(1)\n",
    "my_list.add_item(2)\n",
    "my_list.add_item(3)\n",
    "my_list.add_item(4)\n",
    "my_list.add_item(5)\n",
    "\n",
    "for i in range(my_list.length):\n",
    "    print(my_list.get_item(i))"
   ]
  },
  {
   "cell_type": "code",
   "execution_count": 13,
   "id": "4028c8bd-3df5-4e16-9dfd-1c9093d5998b",
   "metadata": {},
   "outputs": [
    {
     "data": {
      "text/plain": [
       "2"
      ]
     },
     "execution_count": 13,
     "metadata": {},
     "output_type": "execute_result"
    }
   ],
   "source": [
    "sliced = my_list.slice(0, 2)\n",
    "sliced.length"
   ]
  },
  {
   "cell_type": "code",
   "execution_count": 14,
   "id": "f5088c6c-edff-4ae5-845c-1a956f0ebd8c",
   "metadata": {},
   "outputs": [
    {
     "name": "stdout",
     "output_type": "stream",
     "text": [
      "1\n",
      "2\n",
      "None\n"
     ]
    }
   ],
   "source": [
    "current_slice_item = sliced.firstitem\n",
    "print(current_slice_item.list_item)\n",
    "current_slice_item = current_slice_item.next_list_item\n",
    "print(current_slice_item.list_item)\n",
    "current_slice_item = current_slice_item.next_list_item\n",
    "print(current_slice_item)"
   ]
  },
  {
   "cell_type": "code",
   "execution_count": 15,
   "id": "e7271ae1-8044-40a7-b6ee-e5eec695921e",
   "metadata": {},
   "outputs": [],
   "source": [
    "# ^ that is slicing, we just need to add logic to speed it up because this implementation makes us recount EVERY TIME and tbh\n",
    "# every time we use slicing it is paternistic\n",
    "# so again, we need to add previous slice receipts and logic of when to append to previous slices or cut from previous slices instead of recounting\n",
    "# so slicing already done, we just need to stop ourselves from recounting everytime with a slice receipts member variable in the chain class\n",
    "# this will just be a list of lists containing previous slices and their subsets\n",
    "# again with:\n",
    "# index 1 where did the slice start\n",
    "# index 2 which direction did the slice go\n",
    "# index 3 how long did the slice go in that direction\n",
    "# index 4 to end: the actual subset created by the slice\n"
   ]
  },
  {
   "cell_type": "code",
   "execution_count": null,
   "id": "6cc10a3c-8c01-4450-b773-93e00c86bd8a",
   "metadata": {},
   "outputs": [],
   "source": []
  },
  {
   "cell_type": "code",
   "execution_count": null,
   "id": "ee3cd202-692c-45bd-9412-acfaff7a202f",
   "metadata": {},
   "outputs": [],
   "source": []
  },
  {
   "cell_type": "markdown",
   "id": "83838459-b92e-4f23-803f-5c11877e9bb5",
   "metadata": {},
   "source": [
    "okay so real quick \n",
    "\n",
    "how do we get the pythonic way to do negative indexing??\n",
    "\n",
    "you just run it through twice actually its weird\n",
    "\n",
    "so check this out"
   ]
  },
  {
   "cell_type": "code",
   "execution_count": 16,
   "id": "4b49e7ff-3a1d-45ed-af71-13b0a6cd3904",
   "metadata": {},
   "outputs": [
    {
     "name": "stdout",
     "output_type": "stream",
     "text": [
      "so a list of 1 through 5 zero starting\n"
     ]
    },
    {
     "data": {
      "text/plain": [
       "[0, 1, 2, 3, 4]"
      ]
     },
     "execution_count": 16,
     "metadata": {},
     "output_type": "execute_result"
    }
   ],
   "source": [
    "mylist = [i for i in range(5)]\n",
    "print(\"so a list of 1 through 5 zero starting\")\n",
    "mylist"
   ]
  },
  {
   "cell_type": "code",
   "execution_count": 17,
   "id": "69cc586a-ad3c-4f20-8270-3cf2489b750a",
   "metadata": {},
   "outputs": [
    {
     "ename": "NameError",
     "evalue": "name 'right' is not defined",
     "output_type": "error",
     "traceback": [
      "\u001b[0;31m---------------------------------------------------------------------------\u001b[0m",
      "\u001b[0;31mNameError\u001b[0m                                 Traceback (most recent call last)",
      "Cell \u001b[0;32mIn[17], line 1\u001b[0m\n\u001b[0;32m----> 1\u001b[0m \u001b[43mright\u001b[49m\n",
      "\u001b[0;31mNameError\u001b[0m: name 'right' is not defined"
     ]
    }
   ],
   "source": [
    "right"
   ]
  },
  {
   "cell_type": "markdown",
   "id": "da2426de-7b45-4247-bd72-84ade3b5875a",
   "metadata": {},
   "source": [
    "so if we do negative indexing for the last 5 items in python slice it looks like this it should print out 0 through 4"
   ]
  },
  {
   "cell_type": "markdown",
   "id": "fef1bec4-0d1b-49f8-9db2-2d240ab5e5da",
   "metadata": {},
   "source": [
    "##### "
   ]
  },
  {
   "cell_type": "code",
   "execution_count": 18,
   "id": "552d267e-05ae-42ee-a152-4780099cdc96",
   "metadata": {},
   "outputs": [
    {
     "data": {
      "text/plain": [
       "[0, 1, 2, 3, 4]"
      ]
     },
     "execution_count": 18,
     "metadata": {},
     "output_type": "execute_result"
    }
   ],
   "source": [
    "mylist[-5:]"
   ]
  },
  {
   "cell_type": "code",
   "execution_count": 19,
   "id": "80df5af5-b986-478a-9b6c-19b7d54e75f6",
   "metadata": {},
   "outputs": [
    {
     "ename": "NameError",
     "evalue": "name 'right' is not defined",
     "output_type": "error",
     "traceback": [
      "\u001b[0;31m---------------------------------------------------------------------------\u001b[0m",
      "\u001b[0;31mNameError\u001b[0m                                 Traceback (most recent call last)",
      "Cell \u001b[0;32mIn[19], line 1\u001b[0m\n\u001b[0;32m----> 1\u001b[0m \u001b[43mright\u001b[49m\n",
      "\u001b[0;31mNameError\u001b[0m: name 'right' is not defined"
     ]
    }
   ],
   "source": [
    "right"
   ]
  },
  {
   "cell_type": "markdown",
   "id": "aa4c9366-137d-4c1d-965a-4900ad95b604",
   "metadata": {},
   "source": [
    "okay lets use the ll class to build a list and check out its negative indexing"
   ]
  },
  {
   "cell_type": "code",
   "execution_count": 42,
   "id": "2b1cc703-8996-40ce-b520-8f469852e265",
   "metadata": {},
   "outputs": [],
   "source": [
    "class list_index:\n",
    "    def __init__(self, list_item):\n",
    "        self.list_item = list_item\n",
    "        self.next_list_item = None\n",
    "        self.previous_list_item = None\n",
    "\n",
    "class llist:\n",
    "    def __init__(self):\n",
    "        self.firstitem = None\n",
    "        self.enditem = None\n",
    "        self.length = 0\n",
    "\n",
    "    def add_item(self, item):\n",
    "        new_list_entry = list_index(item)\n",
    "        self.length += 1\n",
    "        if self.firstitem == None:\n",
    "            self.firstitem = new_list_entry\n",
    "            self.enditem = new_list_entry\n",
    "        else:\n",
    "            new_list_entry.previous_list_item = self.enditem\n",
    "            self.enditem.next_list_item = new_list_entry\n",
    "            self.enditem = new_list_entry\n",
    "\n",
    "    def get_item(self, index):\n",
    "        if index >= 0:\n",
    "            current_index = self.firstitem\n",
    "            for i in range(index):\n",
    "                current_index = current_index.next_list_item\n",
    "            return current_index.list_item\n",
    "        elif index == -1:\n",
    "            return self.enditem.list_item\n",
    "        else:\n",
    "            current_step = self.enditem\n",
    "            for i in range(1, abs(index)):\n",
    "                current_step = current_step.previous_list_item\n",
    "        return current_step.list_item\n",
    "\n",
    "    def slice(self, start, end):\n",
    "        chain = llist()\n",
    "        for i in range(start, end):\n",
    "            chain.add_item(self.get_item(i))\n",
    "        return chain"
   ]
  },
  {
   "cell_type": "code",
   "execution_count": 57,
   "id": "ed58e53f-54b3-476e-8a56-af9690d5ae96",
   "metadata": {},
   "outputs": [
    {
     "name": "stdout",
     "output_type": "stream",
     "text": [
      "1\n",
      "2\n",
      "3\n",
      "4\n",
      "5\n"
     ]
    }
   ],
   "source": [
    "\n",
    "\n",
    "my_list = llist()\n",
    "my_list.add_item(1)\n",
    "my_list.add_item(2)\n",
    "my_list.add_item(3)\n",
    "my_list.add_item(4)\n",
    "my_list.add_item(5)\n",
    "\n",
    "for i in range(my_list.length):\n",
    "    print(my_list.get_item(i))"
   ]
  },
  {
   "cell_type": "markdown",
   "id": "286ec3e5-aa37-493e-bb36-474bacbc3ecd",
   "metadata": {},
   "source": [
    "okay what if we do negative indexing like python lists do"
   ]
  },
  {
   "cell_type": "code",
   "execution_count": 44,
   "id": "4feffa16-b6a0-4cbd-a0c2-582ed722ca72",
   "metadata": {},
   "outputs": [
    {
     "name": "stdout",
     "output_type": "stream",
     "text": [
      "1\n",
      "5\n",
      "4\n",
      "3\n",
      "2\n"
     ]
    }
   ],
   "source": [
    "my_list = llist()\n",
    "my_list.add_item(1)\n",
    "my_list.add_item(2)\n",
    "my_list.add_item(3)\n",
    "my_list.add_item(4)\n",
    "my_list.add_item(5)\n",
    "\n",
    "# this represents the last 5 using negative indexing in our ll class\n",
    "for i in range(my_list.length):\n",
    "    print(my_list.get_item(-i))"
   ]
  },
  {
   "cell_type": "markdown",
   "id": "1c932320-883c-49b4-9e00-042223798e54",
   "metadata": {},
   "source": [
    "okay so whoops what did i do"
   ]
  },
  {
   "cell_type": "code",
   "execution_count": 45,
   "id": "29e9160d-ca3f-4e66-9637-94b01b8c94c8",
   "metadata": {},
   "outputs": [
    {
     "name": "stdout",
     "output_type": "stream",
     "text": [
      "0\n",
      "1\n",
      "2\n",
      "3\n",
      "4\n"
     ]
    }
   ],
   "source": [
    "for i in range(my_list.length):\n",
    "    print(i)"
   ]
  },
  {
   "cell_type": "code",
   "execution_count": 46,
   "id": "fbb20893-03b0-47a0-bd95-ce9b683007f5",
   "metadata": {},
   "outputs": [
    {
     "name": "stdout",
     "output_type": "stream",
     "text": [
      "we tried to use negative indexing in our ll class starting from 0\n",
      "we actually need these values\n"
     ]
    },
    {
     "data": {
      "text/plain": [
       "[-1, -2, -3, -4, -5]"
      ]
     },
     "execution_count": 46,
     "metadata": {},
     "output_type": "execute_result"
    }
   ],
   "source": [
    "print('we tried to use negative indexing in our ll class starting from 0')\n",
    "print('we actually need these values')\n",
    "[-i for i in range(1, 6)]"
   ]
  },
  {
   "cell_type": "markdown",
   "id": "436b094a-6c6e-4b16-b99f-1e6aab3ead40",
   "metadata": {},
   "source": [
    "^ these represent the negative last five indexes of our doublylinked list class right"
   ]
  },
  {
   "cell_type": "code",
   "execution_count": 47,
   "id": "33a377a0-fc81-4115-b3cd-1f9c93453fa8",
   "metadata": {},
   "outputs": [
    {
     "name": "stdout",
     "output_type": "stream",
     "text": [
      "okay so lets build the correct negative indexing for loop for our ll class\n"
     ]
    }
   ],
   "source": [
    "print('okay so lets build the correct negative indexing for loop for our ll class')"
   ]
  },
  {
   "cell_type": "code",
   "execution_count": 48,
   "id": "5cb99f0f-6cb7-4112-9c53-90a445a5c467",
   "metadata": {},
   "outputs": [
    {
     "name": "stdout",
     "output_type": "stream",
     "text": [
      "-1\n",
      "-2\n",
      "-3\n",
      "-4\n",
      "-5\n"
     ]
    }
   ],
   "source": [
    "for i in range(1, 6):\n",
    "    print(-i)"
   ]
  },
  {
   "cell_type": "markdown",
   "id": "13dcc1bf-01dc-4442-980e-465140cfdeaa",
   "metadata": {},
   "source": [
    "There we go okay so now lets use it in get index"
   ]
  },
  {
   "cell_type": "code",
   "execution_count": 49,
   "id": "2f3a81ea-9a9d-4fbd-a18d-5266dc08db4d",
   "metadata": {},
   "outputs": [
    {
     "name": "stdout",
     "output_type": "stream",
     "text": [
      "5\n",
      "4\n",
      "3\n",
      "2\n",
      "1\n"
     ]
    }
   ],
   "source": [
    "for i in range(1, my_list.length+1):\n",
    "    print(my_list.get_item(-i))"
   ]
  },
  {
   "cell_type": "markdown",
   "id": "05ed3267-1e81-41e5-a6c0-0d1b24314eff",
   "metadata": {},
   "source": [
    "okay so we now have the last 5 items cool! but it retururned it unpythonic\n",
    "\n",
    "we dont want descending order we want ascending order\n",
    "\n",
    "ex: 1, 2, 3, 4, 5 not 5, 4, 3, 2, 1\n",
    "\n",
    "so what can we do??\n",
    "\n",
    "\n",
    "well we pass it through negative indexing twice\n",
    "check this out"
   ]
  },
  {
   "cell_type": "code",
   "execution_count": 50,
   "id": "a9c7208f-4108-4405-b871-ed5dfee2cf9c",
   "metadata": {},
   "outputs": [
    {
     "name": "stdout",
     "output_type": "stream",
     "text": [
      "1\n",
      "2\n",
      "3\n",
      "4\n",
      "5\n"
     ]
    }
   ],
   "source": [
    "checkthisout = llist()\n",
    "for i in range(1, my_list.length+1):\n",
    "    checkthisout.add_item(my_list.get_item(-i))\n",
    "for i in range(1, checkthisout.length+1):\n",
    "    print(checkthisout.get_item(-i))"
   ]
  },
  {
   "cell_type": "markdown",
   "id": "28046e68-cc56-4f48-9362-b01d18252d4b",
   "metadata": {},
   "source": [
    "^ by using another chain for the returned negative indexing and then negative indexing that returned chain again we get ascending order of the list"
   ]
  },
  {
   "cell_type": "code",
   "execution_count": 51,
   "id": "1f8775f7-3d09-43a3-aee5-445d8b853454",
   "metadata": {},
   "outputs": [
    {
     "data": {
      "text/plain": [
       "[1, 2, 3, 4, 5]"
      ]
     },
     "execution_count": 51,
     "metadata": {},
     "output_type": "execute_result"
    }
   ],
   "source": [
    "[i for i in range(1, 6)][-5:]"
   ]
  },
  {
   "cell_type": "code",
   "execution_count": null,
   "id": "2cc289c9-e05e-47aa-953d-810d6491bb10",
   "metadata": {},
   "outputs": [],
   "source": []
  },
  {
   "cell_type": "code",
   "execution_count": null,
   "id": "2b90500b-dc70-4f2b-a5e3-9456318a138f",
   "metadata": {},
   "outputs": [],
   "source": []
  },
  {
   "cell_type": "code",
   "execution_count": 54,
   "id": "d82567e4-0b8d-4e29-9df7-b4ed05de2b06",
   "metadata": {},
   "outputs": [
    {
     "name": "stdout",
     "output_type": "stream",
     "text": [
      "79999999\n",
      "11.728687763214111\n"
     ]
    }
   ],
   "source": [
    "import time\n",
    "start = time.time()\n",
    "n = 80000000\n",
    "my_list = []\n",
    "for i in range(n):\n",
    "    my_list.append(i)\n",
    "end = time.time() - start\n",
    "print(my_list[-1])\n",
    "print(end)"
   ]
  },
  {
   "cell_type": "code",
   "execution_count": 55,
   "id": "86a35fc1-59e0-4eb1-a701-219d721af67a",
   "metadata": {},
   "outputs": [
    {
     "name": "stdout",
     "output_type": "stream",
     "text": [
      "7999999\n",
      "22.25156807899475\n"
     ]
    }
   ],
   "source": [
    "import time\n",
    "start = time.time()\n",
    "n = 8000000\n",
    "my_list = llist()\n",
    "for i in range(n):\n",
    "    my_list.add_item(i)\n",
    "end = time.time() - start\n",
    "print(my_list.get_item(-1))\n",
    "print(end)"
   ]
  },
  {
   "cell_type": "markdown",
   "id": "c2883f7e-3c91-480e-bc1e-cd4cf59e0be8",
   "metadata": {},
   "source": [
    "print('+=0n')"
   ]
  },
  {
   "cell_type": "code",
   "execution_count": null,
   "id": "65af7448-ffba-48e6-b3a0-807e8ee16478",
   "metadata": {},
   "outputs": [],
   "source": []
  },
  {
   "cell_type": "code",
   "execution_count": null,
   "id": "65a991f4-ffb9-460d-9eaa-78ccbee0e2a0",
   "metadata": {},
   "outputs": [],
   "source": []
  },
  {
   "cell_type": "markdown",
   "id": "6d564879-1bad-43a9-a679-7496c8f2a3ed",
   "metadata": {},
   "source": [
    "okay so at a certain level of length n chain it may be actually beneficial to store the next n data in a new chain\n",
    "\n",
    "how do we find this:\n",
    "\n",
    "TODO: find chain n max length in terms of speed"
   ]
  },
  {
   "cell_type": "markdown",
   "id": "f774ae76-9127-481b-8532-c21be316bbac",
   "metadata": {},
   "source": [
    "# What Length of chain does data population and reading start to slow down at?"
   ]
  },
  {
   "cell_type": "markdown",
   "id": "16125192-e0b7-43de-95a1-744653a57da0",
   "metadata": {},
   "source": [
    "hey lets add some white space in between chunks"
   ]
  },
  {
   "cell_type": "code",
   "execution_count": null,
   "id": "4d36d2fb-4fde-4f93-b6d3-69e4fade52a9",
   "metadata": {},
   "outputs": [],
   "source": []
  },
  {
   "cell_type": "code",
   "execution_count": null,
   "id": "f0348ee0-7cfe-4e9c-b55f-e9303aff2858",
   "metadata": {},
   "outputs": [],
   "source": []
  },
  {
   "cell_type": "code",
   "execution_count": null,
   "id": "0e53b3e8-9c96-4df6-a894-3626115ee3db",
   "metadata": {},
   "outputs": [],
   "source": []
  },
  {
   "cell_type": "code",
   "execution_count": null,
   "id": "0af5522d-7353-4553-9c40-edf4aa8b4594",
   "metadata": {},
   "outputs": [],
   "source": []
  },
  {
   "cell_type": "code",
   "execution_count": null,
   "id": "802fc5e6-f8cb-4d4b-8b5c-e9162c3760a5",
   "metadata": {},
   "outputs": [],
   "source": []
  },
  {
   "cell_type": "code",
   "execution_count": null,
   "id": "54f72078-1eb4-4520-be98-5d2ef0f348ce",
   "metadata": {},
   "outputs": [],
   "source": []
  },
  {
   "cell_type": "code",
   "execution_count": null,
   "id": "f8c08579-c876-49cc-95b4-2bab2c226550",
   "metadata": {},
   "outputs": [],
   "source": []
  },
  {
   "cell_type": "markdown",
   "id": "3d86bee5-7c77-45de-bb58-855ed2380eee",
   "metadata": {},
   "source": [
    "<hr>"
   ]
  },
  {
   "cell_type": "markdown",
   "id": "588299ba-2f90-4a2e-acac-7bbb2575fb81",
   "metadata": {},
   "source": [
    "okay"
   ]
  },
  {
   "cell_type": "markdown",
   "id": "b8e7b885-0286-463c-9102-bc2c4c0f2455",
   "metadata": {},
   "source": [
    "# What Length of chain does data population and reading start to slow down at?"
   ]
  },
  {
   "cell_type": "markdown",
   "id": "032e3c8f-cf2e-40c0-9fbc-b8857d645b89",
   "metadata": {},
   "source": [
    "okay so what do we need to do?\n",
    "\n",
    "well\n",
    "\n",
    "we need to set some parameters for a first resolutional look at data chain length bottlenecks, right?\n",
    "\n",
    "okay\n",
    "\n",
    "so a good idea would be:\n",
    "\n",
    "at what size have you noticed chains taking a long time?\n",
    "\n",
    "okay so maybe that would be around eight million\n",
    "\n",
    "\n",
    "okay so lets add some walls to it\n",
    "\n",
    "\n",
    "lets create a few chains and time their creation and data access from first link to last link right\n",
    "\n",
    "so like this\n",
    "\n",
    "chain 1 length 5 million, just 0 through 4999999 right\n",
    "\n",
    "time its creation\n",
    "\n",
    "continue to time its data access starting at index 0\n",
    "\n",
    "stop the timer when index 0 has been accessed \n",
    "\n",
    "okay now go to your next chain length\n",
    "\n",
    "now maybe we go up 3 million. etc\n",
    "\n",
    "do that a few times with the right parameter settings and you'll find the elbow curve"
   ]
  },
  {
   "cell_type": "markdown",
   "id": "5aafb196-b33e-44cf-afb4-5f8fbe54ea5e",
   "metadata": {},
   "source": [
    "<hr>"
   ]
  },
  {
   "cell_type": "code",
   "execution_count": null,
   "id": "b751fb06-b23a-42af-a7d2-8c0c3440a95c",
   "metadata": {},
   "outputs": [],
   "source": []
  },
  {
   "cell_type": "markdown",
   "id": "f07d01e6-9880-4ae5-a471-55990919cc4e",
   "metadata": {},
   "source": [
    "okay save notes and continue"
   ]
  },
  {
   "cell_type": "markdown",
   "id": "acd72787-991b-42b6-b9d6-2d4b83160109",
   "metadata": {},
   "source": [
    "okay so lets redefine the ll class so its in view and we dont have to scroll and if we need to modify it we can"
   ]
  },
  {
   "cell_type": "code",
   "execution_count": 58,
   "id": "972a73a4-d22c-4cf4-9b6b-2ef3fb87139b",
   "metadata": {},
   "outputs": [
    {
     "name": "stdout",
     "output_type": "stream",
     "text": [
      "1\n",
      "2\n",
      "3\n",
      "4\n",
      "5\n"
     ]
    }
   ],
   "source": [
    "class list_index:\n",
    "    def __init__(self, list_item):\n",
    "        self.list_item = list_item\n",
    "        self.next_list_item = None\n",
    "        self.previous_list_item = None\n",
    "\n",
    "class llist:\n",
    "    def __init__(self):\n",
    "        self.firstitem = None\n",
    "        self.enditem = None\n",
    "        self.length = 0\n",
    "\n",
    "    def add_item(self, item):\n",
    "        new_list_entry = list_index(item)\n",
    "        self.length += 1\n",
    "        if self.firstitem == None:\n",
    "            self.firstitem = new_list_entry\n",
    "            self.enditem = new_list_entry\n",
    "        else:\n",
    "            new_list_entry.previous_list_item = self.enditem\n",
    "            self.enditem.next_list_item = new_list_entry\n",
    "            self.enditem = new_list_entry\n",
    "\n",
    "    def get_item(self, index):\n",
    "        if index >= 0:\n",
    "            current_index = self.firstitem\n",
    "            for i in range(index):\n",
    "                current_index = current_index.next_list_item\n",
    "            return current_index.list_item\n",
    "        elif index == -1:\n",
    "            return self.enditem.list_item\n",
    "        else:\n",
    "            current_step = self.enditem\n",
    "            for i in range(1, abs(index)):\n",
    "                current_step = current_step.previous_list_item\n",
    "        return current_step.list_item\n",
    "\n",
    "    def slice(self, start, end):\n",
    "        chain = llist()\n",
    "        for i in range(start, end):\n",
    "            chain.add_item(self.get_item(i))\n",
    "        return chain\n",
    "\n",
    "my_list = llist()\n",
    "my_list.add_item(1)\n",
    "my_list.add_item(2)\n",
    "my_list.add_item(3)\n",
    "my_list.add_item(4)\n",
    "my_list.add_item(5)\n",
    "\n",
    "for i in range(my_list.length):\n",
    "    print(my_list.get_item(i))"
   ]
  },
  {
   "cell_type": "code",
   "execution_count": 98,
   "id": "1043bb8e-2883-4d99-b467-afcdc090ee9f",
   "metadata": {},
   "outputs": [
    {
     "name": "stdout",
     "output_type": "stream",
     "text": [
      "100\n",
      "1000\n",
      "10000\n",
      "100000\n",
      "1000000\n",
      "10000000\n",
      "100000000\n",
      "1000000000\n",
      "10000000000\n",
      "100000000000\n",
      "1000000000000\n"
     ]
    }
   ],
   "source": [
    "length_chain = llist()\n",
    "for i in range(1, 12):\n",
    "    length_chain.add_item(10**i*10)\n",
    "for i in range(length_chain.length):\n",
    "    print(length_chain.get_item(i))\n",
    "\n",
    "parallel_timer_chain = llist()"
   ]
  },
  {
   "cell_type": "code",
   "execution_count": null,
   "id": "9b73e186-436a-4e02-aa0b-ae72cc8b13d1",
   "metadata": {},
   "outputs": [],
   "source": [
    "import time\n",
    "for i in range(length_chain.length):\n",
    "    current_length = length_chain.get_item(i)\n",
    "    start = time.time()\n",
    "    timed_chain = llist()\n",
    "    for i in range(current_length):\n",
    "        timed_chain.add_item(i)\n",
    "    # for i in range(current_length):\n",
    "    #     x = timed_chain.get_item(i)\n",
    "    parallel_timer_chain.add_item(time.time() - start)"
   ]
  },
  {
   "cell_type": "markdown",
   "id": "05caaf39-d9f3-4a5f-985e-62b0de72ab80",
   "metadata": {},
   "source": [
    "okay so now we have a parallel length chain and timer chain that shows time in seconds\n",
    "lets convert that to time in minutes\n"
   ]
  },
  {
   "cell_type": "code",
   "execution_count": 93,
   "id": "5bd4dcce-af81-4e69-970f-7d4371ea86ee",
   "metadata": {},
   "outputs": [
    {
     "name": "stdout",
     "output_type": "stream",
     "text": [
      "2.11795171101888e-06\n",
      "2.11795171101888e-06\n",
      "2.11795171101888e-06\n",
      "2.11795171101888e-06\n",
      "2.11795171101888e-06\n"
     ]
    }
   ],
   "source": [
    "minute_timer_chain = llist()\n",
    "for i in range(parallel_timer_chain.length):\n",
    "    minute_timer_chain.add_item(parallel_timer_chain.get_item(i)/60)\n",
    "for i in range(minute_timer_chain.length):\n",
    "    print(minute_timer_chain.get_item(0))"
   ]
  },
  {
   "cell_type": "code",
   "execution_count": 94,
   "id": "73f04c58-8ae0-483c-92fd-74c093c78617",
   "metadata": {},
   "outputs": [
    {
     "name": "stdout",
     "output_type": "stream",
     "text": [
      "100\n",
      "1000\n",
      "10000\n",
      "100000\n",
      "1000000\n"
     ]
    }
   ],
   "source": [
    "# again the length chain and minute timer chain are parallel and indexes coorelate to eachother\n",
    "for i in range(length_chain.length):\n",
    "    print(length_chain.get_item(i))"
   ]
  },
  {
   "cell_type": "code",
   "execution_count": 95,
   "id": "37d8ed76-31ba-4b62-90b7-8a3a986f96c5",
   "metadata": {},
   "outputs": [
    {
     "data": {
      "text/plain": [
       "True"
      ]
     },
     "execution_count": 95,
     "metadata": {},
     "output_type": "execute_result"
    }
   ],
   "source": [
    "length_chain.length == minute_timer_chain.length"
   ]
  },
  {
   "cell_type": "markdown",
   "id": "ca98ef29-6f3a-4aeb-a16e-0e83b7986a15",
   "metadata": {},
   "source": [
    "okay so now we need to plot them\n",
    "\n",
    "plotlibrary uses python lists so we need to convert our chains"
   ]
  },
  {
   "cell_type": "code",
   "execution_count": 96,
   "id": "e134fd6b-7ae1-4990-822e-9fef35b0a6f2",
   "metadata": {},
   "outputs": [],
   "source": [
    "lengthlist = [length_chain.get_item(i) for i in range(length_chain.length)]\n",
    "minutelist = [minute_timer_chain.get_item(i) for i in range(minute_timer_chain.length)]"
   ]
  },
  {
   "cell_type": "code",
   "execution_count": 97,
   "id": "62a78b6e-04f8-40c0-807e-c0a1e61d5e2f",
   "metadata": {},
   "outputs": [
    {
     "data": {
      "image/png": "[encoded data removed]",
      "text/plain": [
       "<Figure size 640x480 with 1 Axes>"
      ]
     },
     "metadata": {},
     "output_type": "display_data"
    }
   ],
   "source": [
    "plt.title(\"minutes per length of chain\")\n",
    "plt.plot(lengthlist, minutelist, label='time per chain creation and access of length n')\n",
    "plt.plot(lengthlist, minutelist, 'r*')\n",
    "plt.xlabel('length n of chain')\n",
    "plt.ylabel('time in minutes')\n",
    "plt.show()"
   ]
  },
  {
   "cell_type": "code",
   "execution_count": null,
   "id": "109c088b-89dd-4d7d-af55-955c7238207d",
   "metadata": {},
   "outputs": [],
   "source": []
  },
  {
   "cell_type": "code",
   "execution_count": 87,
   "id": "477f0696-0e78-440f-8a4b-94471ff33389",
   "metadata": {},
   "outputs": [],
   "source": [
    "test = llist()\n",
    "n = 8000000\n",
    "for i in range(n):\n",
    "    test.add_item(n)"
   ]
  },
  {
   "cell_type": "code",
   "execution_count": 90,
   "id": "6e638f1a-ff6e-46fd-907f-f1f4cecd1d12",
   "metadata": {},
   "outputs": [
    {
     "ename": "KeyboardInterrupt",
     "evalue": "",
     "output_type": "error",
     "traceback": [
      "\u001b[0;31m---------------------------------------------------------------------------\u001b[0m",
      "\u001b[0;31mKeyboardInterrupt\u001b[0m                         Traceback (most recent call last)",
      "Cell \u001b[0;32mIn[90], line 2\u001b[0m\n\u001b[1;32m      1\u001b[0m \u001b[38;5;28;01mfor\u001b[39;00m i \u001b[38;5;129;01min\u001b[39;00m \u001b[38;5;28mrange\u001b[39m(n\u001b[38;5;241m-\u001b[39m\u001b[38;5;241m1\u001b[39m):\n\u001b[0;32m----> 2\u001b[0m     \u001b[43mtest\u001b[49m\u001b[38;5;241;43m.\u001b[39;49m\u001b[43mget_item\u001b[49m\u001b[43m(\u001b[49m\u001b[43mi\u001b[49m\u001b[43m)\u001b[49m\n",
      "Cell \u001b[0;32mIn[58], line 28\u001b[0m, in \u001b[0;36mllist.get_item\u001b[0;34m(self, index)\u001b[0m\n\u001b[1;32m     26\u001b[0m     current_index \u001b[38;5;241m=\u001b[39m \u001b[38;5;28mself\u001b[39m\u001b[38;5;241m.\u001b[39mfirstitem\n\u001b[1;32m     27\u001b[0m     \u001b[38;5;28;01mfor\u001b[39;00m i \u001b[38;5;129;01min\u001b[39;00m \u001b[38;5;28mrange\u001b[39m(index):\n\u001b[0;32m---> 28\u001b[0m         current_index \u001b[38;5;241m=\u001b[39m \u001b[43mcurrent_index\u001b[49m\u001b[38;5;241;43m.\u001b[39;49m\u001b[43mnext_list_item\u001b[49m\n\u001b[1;32m     29\u001b[0m     \u001b[38;5;28;01mreturn\u001b[39;00m current_index\u001b[38;5;241m.\u001b[39mlist_item\n\u001b[1;32m     30\u001b[0m \u001b[38;5;28;01melif\u001b[39;00m index \u001b[38;5;241m==\u001b[39m \u001b[38;5;241m-\u001b[39m\u001b[38;5;241m1\u001b[39m:\n",
      "\u001b[0;31mKeyboardInterrupt\u001b[0m: "
     ]
    }
   ],
   "source": [
    "for i in range(n-1):\n",
    "    test.get_item(i)"
   ]
  },
  {
   "cell_type": "markdown",
   "id": "ab315fbe-e3d0-4267-a0bc-f320e3954dc5",
   "metadata": {},
   "source": [
    "hey dont worry about the errors here but check this out\n",
    "\n",
    "so if you think about the looping through a list every loop and every call to get index starts from the firstlink again\n",
    "\n",
    "we need some logic that says hey we are incrementing looping and in that state we shall preserve another member variable that says loop pointer, this way in the next iteration we do not count from the beginning, that is just data access however and we are still on data storage speed issues"
   ]
  },
  {
   "cell_type": "code",
   "execution_count": null,
   "id": "49246f4b-c698-47b1-8a21-59fa5aa4d1b8",
   "metadata": {},
   "outputs": [],
   "source": []
  }
 ],
 "metadata": {
  "kernelspec": {
   "display_name": "Python 3 (ipykernel)",
   "language": "python",
   "name": "python3"
  },
  "language_info": {
   "codemirror_mode": {
    "name": "ipython",
    "version": 3
   },
   "file_extension": ".py",
   "mimetype": "text/x-python",
   "name": "python",
   "nbconvert_exporter": "python",
   "pygments_lexer": "ipython3",
   "version": "3.9.6"
  }
 },
 "nbformat": 4,
 "nbformat_minor": 5
}
