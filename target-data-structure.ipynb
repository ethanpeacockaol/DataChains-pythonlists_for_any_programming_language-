{
 "cells": [
  {
   "metadata": {
    "trusted": false
   },
   "cell_type": "markdown",
   "source": "okay so we want a  deta  chain that doesa few things\n\n\nit  should represent a  target que to a Hud or an automated targetter\n\nwe should be able to\n\nadd a target\n\nremove a target\n\nset a targets priorities\n\nread in target attributes from long term storage (csv)\n\norder targets by priority\n\nonly datachains\n\n"
  },
  {
   "metadata": {},
   "cell_type": "markdown",
   "source": "so basically we want this at the end\n\n now target added\n \n  search database for target attributes\n  \n   save attributes\n   \n   use attributes to Rock paper  scissors\n  \n   return list of effective weapons sorted by priority of usage that causes effective  destruction or manipulation of target"
  },
  {
   "metadata": {},
   "cell_type": "markdown",
   "source": "okay so first steps  build datachain  then come back"
  },
  {
   "metadata": {
    "trusted": true
   },
   "cell_type": "code",
   "source": "",
   "execution_count": null,
   "outputs": []
  },
  {
   "metadata": {
    "trusted": true
   },
   "cell_type": "code",
   "source": "",
   "execution_count": null,
   "outputs": []
  },
  {
   "metadata": {
    "trusted": true
   },
   "cell_type": "code",
   "source": "",
   "execution_count": null,
   "outputs": []
  },
  {
   "metadata": {
    "trusted": true
   },
   "cell_type": "code",
   "source": "class link:\n    def __init__(self, data):\n        self.data = data\n        self.nextlink = None\n\n        \nclass chain:\n    def __init__(self):\n        self.firstlink = self.endlink = None\n        self.chainlength = 0\n        \n    def add_link(self, data):\n        newlink = link(data)\n        self.chainlength += 1\n        if self.firstlink == None:\n            self.firstlink = self.endlink = newlink\n        else:\n            self.endlink.nextlink = newlink\n            self.endlink = newlink\n    \n    def printdata(self):\n        currentlink = self.firstlink\n        print(\"[\", end=\"\")\n        for i in range(self.chainlength-1):\n            print(currentlink.data, end=\", \")\n            currentlink = currentlink.nextlink\n        print(self.endlink.data, end=\"]\\n\")",
   "execution_count": 19,
   "outputs": []
  },
  {
   "metadata": {
    "trusted": true
   },
   "cell_type": "code",
   "source": "newchain = chain()\nfor i in range(1,10):\n    newchain.add_link(i)\n\nnewchain.printdata()",
   "execution_count": 20,
   "outputs": [
    {
     "output_type": "stream",
     "text": "[1, 2, 3, 4, 5, 6, 7, 8, 9]\n",
     "name": "stdout"
    }
   ]
  },
  {
   "metadata": {
    "trusted": true
   },
   "cell_type": "code",
   "source": "",
   "execution_count": null,
   "outputs": []
  },
  {
   "metadata": {
    "trusted": true
   },
   "cell_type": "code",
   "source": "",
   "execution_count": null,
   "outputs": []
  }
 ],
 "metadata": {
  "kernelspec": {
   "name": "python3",
   "display_name": "Python 3",
   "language": "python"
  },
  "language_info": {
   "name": "python",
   "version": "3.10.4",
   "mimetype": "text/x-python",
   "codemirror_mode": {
    "name": "ipython",
    "version": 3
   },
   "pygments_lexer": "ipython3",
   "nbconvert_exporter": "python",
   "file_extension": ".py"
  }
 },
 "nbformat": 4,
 "nbformat_minor": 2
}