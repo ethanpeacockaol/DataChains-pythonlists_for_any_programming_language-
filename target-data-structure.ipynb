{
 "cells": [
  {
   "metadata": {
    "trusted": false
   },
   "cell_type": "markdown",
   "source": "okay so we want a  deta  chain that doesa few things\n\n\nit  should represent a  target que to a Hud or an automated targetter\n\nwe should be able to\n\nadd a target\n\nremove a target\n\nset a targets priorities\n\nread in target attributes from long term storage (csv)\n\norder targets by priority\n\nonly datachains\n\n"
  }
 ],
 "metadata": {
  "kernelspec": {
   "name": "python3",
   "display_name": "Python 3",
   "language": "python"
  },
  "language_info": {
   "name": "python",
   "version": "3.10.4",
   "mimetype": "text/x-python",
   "codemirror_mode": {
    "name": "ipython",
    "version": 3
   },
   "pygments_lexer": "ipython3",
   "nbconvert_exporter": "python",
   "file_extension": ".py"
  }
 },
 "nbformat": 4,
 "nbformat_minor": 2
}