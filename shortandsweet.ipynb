{
 "cells": [
  {
   "cell_type": "markdown",
   "id": "f74f2aed-55cc-48a5-9af0-15ca1ca7ab2c",
   "metadata": {},
   "source": [
    "# Short and Sweet\n",
    "## python lists for any language (negative indexing not added but simple to do)"
   ]
  },
  {
   "cell_type": "code",
   "execution_count": 2,
   "id": "eff8317c-29d1-4e4c-9b28-ddf45b3ee04a",
   "metadata": {},
   "outputs": [],
   "source": [
    "class link:\n",
    "    def __init__(self, data):\n",
    "        self.data = data\n",
    "        self.nextlink = None\n",
    "\n",
    "class chain:\n",
    "    def __init__(self):\n",
    "        self.firstlink = None\n",
    "        self.endlink = None\n",
    "        self.chainlength = 0\n",
    "\n",
    "    def addlink(self, data):\n",
    "        newlink = link(data)\n",
    "        if self.firstlink == None:\n",
    "            self.firstlink = self.endlink = newlink\n",
    "        else:\n",
    "            self.endlink.nextlink = newlink\n",
    "            self.endlink = newlink\n",
    "        self.chainlength += 1\n",
    "\n",
    "    def return_index(self, index):\n",
    "        currentlink = self.firstlink\n",
    "        for i in range(index):\n",
    "            currentlink = currentlink.nextlink\n",
    "        return currentlink.data"
   ]
  },
  {
   "cell_type": "code",
   "execution_count": 3,
   "id": "6dbe2a62-c54a-418d-8fd1-e5d9b38295d7",
   "metadata": {},
   "outputs": [
    {
     "name": "stdout",
     "output_type": "stream",
     "text": [
      "3\n",
      "7\n",
      "hello\n"
     ]
    }
   ],
   "source": [
    "mylist = chain()\n",
    "mylist.addlink(3)\n",
    "mylist.addlink(7)\n",
    "mylist.addlink(\"hello\")\n",
    "\n",
    "# use chain length to print all elements in the list\n",
    "for i in range(mylist.chainlength):\n",
    "    print(mylist.return_index(i))"
   ]
  },
  {
   "cell_type": "markdown",
   "id": "b25adfd2-d449-481f-847d-99d1bed852e2",
   "metadata": {},
   "source": [
    "<span style=\"color:white;\">mf,mf,mf,mf,mf,mf,mf,mf, mfffffff</span>"
   ]
  },
  {
   "cell_type": "markdown",
   "id": "b90bbee6-9355-4363-b667-d6a0b6d15248",
   "metadata": {},
   "source": [
    "<hr>"
   ]
  }
 ],
 "metadata": {
  "kernelspec": {
   "display_name": "Python 3 (ipykernel)",
   "language": "python",
   "name": "python3"
  },
  "language_info": {
   "codemirror_mode": {
    "name": "ipython",
    "version": 3
   },
   "file_extension": ".py",
   "mimetype": "text/x-python",
   "name": "python",
   "nbconvert_exporter": "python",
   "pygments_lexer": "ipython3",
   "version": "3.9.6"
  }
 },
 "nbformat": 4,
 "nbformat_minor": 5
}
