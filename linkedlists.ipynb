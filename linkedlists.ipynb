{
 "cells": [
  {
   "metadata": {},
   "id": "56e7054c-748e-4093-9306-5d5d8bdd2d93",
   "cell_type": "markdown",
   "source": "# LinkedLists"
  },
  {
   "metadata": {
    "trusted": true
   },
   "id": "6c971632-baf7-4a84-98ba-d2f7b47e2867",
   "cell_type": "code",
   "source": "class list_index:\n    def __init__(self, list_item):\n        self.list_item = list_item\n        self.next_list_item = None\n\nclass mylist:\n    def __init__(self):\n        self.firstitem = None\n        self.enditem = None\n        self.length = 0\n\n    def append_to_list(self, item):\n        new_list_entry = list_index(item)\n        self.length += 1\n        if self.firstitem == None:\n            self.firstitem = new_list_entry\n            self.enditem = new_list_entry\n        else:\n            self.enditem.next_list_item = new_list_entry\n            self.enditem = new_list_entry\n\n    def get_item_by_index(self, index):\n        if index >= 0:\n            current_index = self.firstitem\n            for i in range(index):\n                current_index = current_index.next_list_item\n            return current_index.list_item\n        ",
   "execution_count": 9,
   "outputs": []
  },
  {
   "metadata": {
    "trusted": true
   },
   "id": "f849756f-3482-43dc-8c88-37c4efb0120c",
   "cell_type": "code",
   "source": "# make a new list and add (append == add) some items to it\nmy_list = mylist()\nmy_list.append_to_list(\"my\")\nmy_list.append_to_list(\"name\")\nlist_in_a_list = mylist()\nlist_in_a_list.append_to_list(\"is\")\nlist_in_a_list.append_to_list(\"ethan\")\n\nmy_list.append_to_list(list_in_a_list)\nmy_list.append_to_list(1)\nmy_list.append_to_list('one')\n\nfor i in range(my_list.length):\n    print(my_list.get_item_by_index(i))\n\n\n# get embedded list out of my_list list\nprint('\\n\\nget list out of list')\nme = my_list.get_item_by_index(2)\nfor i in range(me.length):\n    print(me.get_item_by_index(i))",
   "execution_count": 11,
   "outputs": [
    {
     "output_type": "stream",
     "text": "my\nname\n<__main__.mylist object at 0x13e4e8280>\n1\none\n\n\nget list out of list\nis\nethan\n",
     "name": "stdout"
    }
   ]
  }
 ],
 "metadata": {
  "kernelspec": {
   "name": "python3",
   "display_name": "Python 3",
   "language": "python"
  },
  "language_info": {
   "name": "python",
   "version": "3.10.4",
   "mimetype": "text/x-python",
   "codemirror_mode": {
    "name": "ipython",
    "version": 3
   },
   "pygments_lexer": "ipython3",
   "nbconvert_exporter": "python",
   "file_extension": ".py"
  }
 },
 "nbformat": 4,
 "nbformat_minor": 5
}