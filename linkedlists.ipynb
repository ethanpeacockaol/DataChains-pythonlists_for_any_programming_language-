{
 "cells": [
  {
   "metadata": {},
   "id": "56e7054c-748e-4093-9306-5d5d8bdd2d93",
   "cell_type": "markdown",
   "source": "# LinkedLists"
  },
  {
   "metadata": {
    "trusted": false
   },
   "id": "6c971632-baf7-4a84-98ba-d2f7b47e2867",
   "cell_type": "code",
   "source": "class list_index:\n    def __init__(self, list_item):\n        self.list_item = list_item\n        self.next_list_item = None\n\nclass llist:\n    def __init__(self):\n        self.firstitem = None\n        self.enditem = None\n        self.length = 0\n\n    def add_item(self, item):\n        new_list_entry = list_index(item)\n        self.length += 1\n        if self.firstitem == None:\n            self.firstitem = new_list_entry\n            self.enditem = new_list_entry\n        else:\n            self.enditem.next_list_item = new_list_entry\n            self.enditem = new_list_entry\n\n    def get_item(self, index):\n        if index >= 0:\n            current_index = self.firstitem\n            for i in range(index):\n                current_index = current_index.next_list_item\n            return current_index.list_item\n        ",
   "execution_count": 32,
   "outputs": []
  },
  {
   "metadata": {
    "trusted": false
   },
   "id": "f849756f-3482-43dc-8c88-37c4efb0120c",
   "cell_type": "code",
   "source": "# make a new list and add (append == add) some items to it\nmy_list = mylist()\nmy_list.append_to_list(\"my\")\nmy_list.append_to_list(\"name\")\nlist_in_a_list = mylist()\nlist_in_a_list.append_to_list(\"is\")\nlist_in_a_list.append_to_list(\"ethan\")\n\nmy_list.append_to_list(list_in_a_list)\nmy_list.append_to_list(1)\nmy_list.append_to_list('one')\n\nfor i in range(my_list.list_length):\n    print(my_list.get_item_by_index(i))\n\n\n# get embedded list out of my_list list\nprint('\\n\\nget list out of list')\nme = my_list.get_item_by_index(2)\nfor i in range(me.list_length):\n    print(me.get_item_by_index(i))",
   "execution_count": 37,
   "outputs": [
    {
     "name": "stdout",
     "output_type": "stream",
     "text": "my\nname\n<__main__.mylist object at 0x000001A4FBAA2650>\n1\none\n\n\nget list out of list\nis\nethan\n"
    }
   ]
  },
  {
   "metadata": {
    "trusted": false
   },
   "id": "bfafa37e-5744-4bef-8310-28f516117936",
   "cell_type": "code",
   "source": "# create a list\nmyfirst_list = mylist()\n# add items to it\nmyfirst_list.append_to_list(1)\nmyfirst_list.append_to_list(2)\nmyfirst_list.append_to_list(3)\nmyfirst_list.append_to_list(4)\nmyfirst_list.append_to_list(5)\n\n# use mylist class again to create a second list\nmysecond_list = mylist()\n\nmysecond_list.append_to_list(\"one\")\nmysecond_list.append_to_list(\"two\")\nmysecond_list.append_to_list(\"three\")\nmysecond_list.append_to_list(\"four\")\nmysecond_list.append_to_list(\"five\")\n\n# more lists!\nmythird_list = mylist()\nmythird_list.append_to_list(1)\nmythird_list.append_to_list(\"two\")\nmythird_list.append_to_list(3)\nmythird_list.append_to_list(\"four\")\nmythird_list.append_to_list(5)\n\n\n# last one\nmyfourth_list = mylist()\nmyfourth_list.append_to_list('one')\nmyfourth_list.append_to_list(2)\nmyfourth_list.append_to_list('three')\nmyfourth_list.append_to_list(4)\nmyfourth_list.append_to_list('five')\n\n\n\n\n# print the lists usin the class function to do so\nmyfirst_list.print_List()\nmysecond_list.print_List()\nmythird_list.print_List()\nmyfourth_list.print_List()",
   "execution_count": 29,
   "outputs": [
    {
     "name": "stdout",
     "output_type": "stream",
     "text": "[1, 2, 3, 4, 5][one, two, three, four, five][1, two, 3, four, 5][one, 2, three, 4, five]"
    }
   ]
  }
 ],
 "metadata": {
  "kernelspec": {
   "name": "python3",
   "display_name": "Python 3",
   "language": "python"
  },
  "language_info": {
   "codemirror_mode": {
    "name": "ipython",
    "version": 3
   },
   "file_extension": ".py",
   "mimetype": "text/x-python",
   "name": "python",
   "nbconvert_exporter": "python",
   "pygments_lexer": "ipython3",
   "version": "3.13.2"
  }
 },
 "nbformat": 4,
 "nbformat_minor": 5
}