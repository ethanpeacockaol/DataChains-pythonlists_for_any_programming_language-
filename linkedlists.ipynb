{
 "cells": [
  {
   "cell_type": "markdown",
   "id": "56e7054c-748e-4093-9306-5d5d8bdd2d93",
   "metadata": {},
   "source": [
    "# LinkedLists"
   ]
  },
  {
   "cell_type": "code",
   "execution_count": 32,
   "id": "6c971632-baf7-4a84-98ba-d2f7b47e2867",
   "metadata": {},
   "outputs": [],
   "source": [
    "# i hold data at index [x]\n",
    "class index_data:\n",
    "    def __init__(self, item_4_list):\n",
    "        self.item4list = item_4_list\n",
    "        self.next_list_item_on_list = None\n",
    "\n",
    "# i create indexed lists using the index class above\n",
    "class mylist:\n",
    "    def __init__(self):\n",
    "        # new empty list\n",
    "        self.first_list_index = self.last_list_index = None\n",
    "        # can use length to return index of items and for loops\n",
    "        self.list_length = 0\n",
    "\n",
    "    # gets item at index number\n",
    "    # data list     [\"hey\", 3, 4, 5, [\"i'm a list\", \"inside a list\"], 9]\n",
    "    # position list [  0  , 1, 2, 3,               4                , 5]\n",
    "    # data list.get_item_by_index(4) = [\"i'm a list\", \"inside a list\"]\n",
    "    # data list.get_item_by_index(5) = 9\n",
    "    # data list.get_item_by_index(0) = \"hey\"\n",
    "    # index number counts starting at 0 not 1\n",
    "    def get_item_by_index(self, which_index):\n",
    "        if which_index == -1:\n",
    "            return self.last_list_index.item4list\n",
    "        current_index = self.first_list_index\n",
    "        # we need to plus equals currentindex to next_index data \n",
    "        for i in range(which_index):\n",
    "            current_index = current_index.next_list_item_on_list\n",
    "        return current_index.item4list\n",
    "\n",
    "    # always adds to end of list\n",
    "    def append_to_list(self, item_to_store):\n",
    "        # convert the list item to store into an index_data class\n",
    "        new_list_item = index_data(item_to_store)\n",
    "        # if list empty, create first list item using index_data class\n",
    "        if self.first_list_index is None:\n",
    "            self.first_list_index = self.last_list_index = new_list_item\n",
    "            self.list_length += 1\n",
    "        # list already populated, add to end of list\n",
    "        else:\n",
    "            self.last_list_index.next_list_item_on_list = new_list_item\n",
    "            self.last_list_index = new_list_item\n",
    "            self.list_length += 1\n",
    "\n",
    "    # it prints list in [list item 1, list item2] format\n",
    "    # list items can also be lists\n",
    "    # 2d lists\n",
    "    def print_List(self):\n",
    "        current_index = self.first_list_index\n",
    "        print('[', end='')\n",
    "        for i in range(self.list_length-1):\n",
    "            print(current_index.item4list, end = ', ')\n",
    "            # current index += 1\n",
    "            current_index = current_index.next_list_item_on_list\n",
    "        print(self.last_list_index.item4list, end=']')\n",
    "\n",
    "\n",
    "            \n",
    "            "
   ]
  },
  {
   "cell_type": "code",
   "execution_count": 37,
   "id": "f849756f-3482-43dc-8c88-37c4efb0120c",
   "metadata": {},
   "outputs": [
    {
     "name": "stdout",
     "output_type": "stream",
     "text": [
      "my\n",
      "name\n",
      "<__main__.mylist object at 0x000001A4FBAA2650>\n",
      "1\n",
      "one\n",
      "\n",
      "\n",
      "get list out of list\n",
      "is\n",
      "ethan\n"
     ]
    }
   ],
   "source": [
    "my_list = mylist()\n",
    "my_list.append_to_list(\"my\")\n",
    "my_list.append_to_list(\"name\")\n",
    "list_in_a_list = mylist()\n",
    "list_in_a_list.append_to_list(\"is\")\n",
    "list_in_a_list.append_to_list(\"ethan\")\n",
    "\n",
    "my_list.append_to_list(list_in_a_list)\n",
    "my_list.append_to_list(1)\n",
    "my_list.append_to_list('one')\n",
    "\n",
    "for i in range(my_list.list_length):\n",
    "    print(my_list.get_item_by_index(i))\n",
    "\n",
    "\n",
    "\n",
    "print('\\n\\nget list out of list')\n",
    "me = my_list.get_item_by_index(2)\n",
    "for i in range(me.list_length):\n",
    "    print(me.get_item_by_index(i))"
   ]
  },
  {
   "cell_type": "code",
   "execution_count": 29,
   "id": "bfafa37e-5744-4bef-8310-28f516117936",
   "metadata": {},
   "outputs": [
    {
     "name": "stdout",
     "output_type": "stream",
     "text": [
      "[1, 2, 3, 4, 5][one, two, three, four, five][1, two, 3, four, 5][one, 2, three, 4, five]"
     ]
    }
   ],
   "source": [
    "myfirst_list = mylist()\n",
    "\n",
    "myfirst_list.append_to_list(1)\n",
    "myfirst_list.append_to_list(2)\n",
    "myfirst_list.append_to_list(3)\n",
    "myfirst_list.append_to_list(4)\n",
    "myfirst_list.append_to_list(5)\n",
    "\n",
    "# use mylist class again to create a second list\n",
    "mysecond_list = mylist()\n",
    "\n",
    "mysecond_list.append_to_list(\"one\")\n",
    "mysecond_list.append_to_list(\"two\")\n",
    "mysecond_list.append_to_list(\"three\")\n",
    "mysecond_list.append_to_list(\"four\")\n",
    "mysecond_list.append_to_list(\"five\")\n",
    "\n",
    "# more lists!\n",
    "mythird_list = mylist()\n",
    "mythird_list.append_to_list(1)\n",
    "mythird_list.append_to_list(\"two\")\n",
    "mythird_list.append_to_list(3)\n",
    "mythird_list.append_to_list(\"four\")\n",
    "mythird_list.append_to_list(5)\n",
    "\n",
    "\n",
    "# last one\n",
    "myfourth_list = mylist()\n",
    "myfourth_list.append_to_list('one')\n",
    "myfourth_list.append_to_list(2)\n",
    "myfourth_list.append_to_list('three')\n",
    "myfourth_list.append_to_list(4)\n",
    "myfourth_list.append_to_list('five')\n",
    "\n",
    "\n",
    "\n",
    "\n",
    "# print the lists usin the class function to do so\n",
    "myfirst_list.print_List()\n",
    "mysecond_list.print_List()\n",
    "mythird_list.print_List()\n",
    "myfourth_list.print_List()"
   ]
  }
 ],
 "metadata": {
  "kernelspec": {
   "display_name": "Python 3 (ipykernel)",
   "language": "python",
   "name": "python3"
  },
  "language_info": {
   "codemirror_mode": {
    "name": "ipython",
    "version": 3
   },
   "file_extension": ".py",
   "mimetype": "text/x-python",
   "name": "python",
   "nbconvert_exporter": "python",
   "pygments_lexer": "ipython3",
   "version": "3.13.2"
  }
 },
 "nbformat": 4,
 "nbformat_minor": 5
}
