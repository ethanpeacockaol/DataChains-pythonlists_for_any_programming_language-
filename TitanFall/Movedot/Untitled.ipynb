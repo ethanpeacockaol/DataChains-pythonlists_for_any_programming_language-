{
 "cells": [
  {
   "metadata": {
    "trusted": true
   },
   "cell_type": "code",
   "source": "import cv2\nimport os\n\ndef create_video_from_images_cv2(image_folder, output_video_path, fps):\n    \"\"\"\n    Creates an MP4 video from a sequence of images using OpenCV.\n\n    Args:\n        image_folder (str): Path to the folder containing image frames.\n        output_video_path (str): Path and filename for the output MP4 video.\n        fps (int): Frames per second for the output video.\n    \"\"\"\n    images = [img for img in os.listdir(image_folder) if img.endswith((\".png\", \".jpg\", \".jpeg\"))]\n    images.sort() # Ensure images are sorted correctly if they have sequential names (e.g., frame_001.png, frame_002.png)\n\n    if not images:\n        print(f\"No images found in {image_folder}\")\n        return\n\n    # Read the first image to get dimensions\n    first_image_path = os.path.join(image_folder, images[0])\n    frame = cv2.imread(first_image_path)\n    height, width, layers = frame.shape\n\n    # Define the codec and create VideoWriter object\n    # For MP4, 'mp4v' or 'XVID' often works well. 'avc1' is another common one.\n    # Note: Codecs can sometimes be platform-dependent.\n    fourcc = cv2.VideoWriter_fourcc(*'mp4v') # You can try 'XVID', 'MJPG', 'DIVX'\n    out = cv2.VideoWriter(output_video_path, fourcc, fps, (width, height))\n\n    if not out.isOpened():\n        print(f\"Error: Could not open video writer for {output_video_path}. Check codec availability.\")\n        return\n\n    for image_name in images:\n        image_path = os.path.join(image_folder, image_name)\n        frame = cv2.imread(image_path)\n        if frame is not None:\n            out.write(frame)\n        else:\n            print(f\"Warning: Could not read image {image_path}. Skipping.\")\n\n    out.release()\n    print(f\"Video '{output_video_path}' created successfully from {len(images)} images.\")\n\nif __name__ == \"__main__\":\n    # Example Usage:\n    # 1. Create a dummy folder with some image files for testing\n    dummy_image_folder = \"frames\"\n    os.makedirs(dummy_image_folder, exist_ok=True)\n\n    # Create some dummy image files (e.g., using PIL for demonstration)\n    try:\n        from PIL import Image, ImageDraw, ImageFont\n        for i in range(30): # Create 30 frames\n            img = Image.new('RGB', (640, 480), color = (73, 109, 137))\n            d = ImageDraw.Draw(img)\n            d.text((20,20), f\"Frame {i+1}\", fill=(255,255,0))\n            img.save(os.path.join(dummy_image_folder, f\"frame_{i:03d}.png\"))\n        print(f\"Created dummy images in '{dummy_image_folder}'\")\n    except ImportError:\n        print(\"Pillow not installed. Please manually create some .png or .jpg images in 'temp_frames' for testing.\")\n        print(\"Example: frame_001.png, frame_002.png, ...\")\n        # Exit if PIL is not available to avoid error for dummy image creation\n        exit()\n\n\n    output_video_file = \"output_video_cv2.mp4\"\n    frame_rate = 10 # frames per second\n\n    create_video_from_images_cv2(dummy_image_folder, output_video_file, frame_rate)\n\n    # Clean up dummy folder (optional)\n    # import shutil\n    # shutil.rmtree(dummy_image_folder)\n    # print(f\"Cleaned up dummy folder: {dummy_image_folder}\")\n",
   "execution_count": 1,
   "outputs": [
    {
     "output_type": "stream",
     "text": "Created dummy images in 'frames'\n",
     "name": "stdout"
    },
    {
     "output_type": "error",
     "ename": "AttributeError",
     "evalue": "module 'cv2' has no attribute 'VideoWriter_fourcc'",
     "traceback": [
      "\u001b[0;31m---------------------------------------------------------------------------\u001b[0m",
      "\u001b[0;31mAttributeError\u001b[0m                            Traceback (most recent call last)",
      "\u001b[0;32m<ipython-input-1-426a77a8b9de>\u001b[0m in \u001b[0;36m<module>\u001b[0;34m\u001b[0m\n\u001b[1;32m     69\u001b[0m     \u001b[0mframe_rate\u001b[0m \u001b[0;34m=\u001b[0m \u001b[0;36m10\u001b[0m \u001b[0;31m# frames per second\u001b[0m\u001b[0;34m\u001b[0m\u001b[0;34m\u001b[0m\u001b[0m\n\u001b[1;32m     70\u001b[0m \u001b[0;34m\u001b[0m\u001b[0m\n\u001b[0;32m---> 71\u001b[0;31m     \u001b[0mcreate_video_from_images_cv2\u001b[0m\u001b[0;34m(\u001b[0m\u001b[0mdummy_image_folder\u001b[0m\u001b[0;34m,\u001b[0m \u001b[0moutput_video_file\u001b[0m\u001b[0;34m,\u001b[0m \u001b[0mframe_rate\u001b[0m\u001b[0;34m)\u001b[0m\u001b[0;34m\u001b[0m\u001b[0;34m\u001b[0m\u001b[0m\n\u001b[0m\u001b[1;32m     72\u001b[0m \u001b[0;34m\u001b[0m\u001b[0m\n\u001b[1;32m     73\u001b[0m     \u001b[0;31m# Clean up dummy folder (optional)\u001b[0m\u001b[0;34m\u001b[0m\u001b[0;34m\u001b[0m\u001b[0m\n",
      "\u001b[0;32m<ipython-input-1-426a77a8b9de>\u001b[0m in \u001b[0;36mcreate_video_from_images_cv2\u001b[0;34m(image_folder, output_video_path, fps)\u001b[0m\n\u001b[1;32m     26\u001b[0m     \u001b[0;31m# For MP4, 'mp4v' or 'XVID' often works well. 'avc1' is another common one.\u001b[0m\u001b[0;34m\u001b[0m\u001b[0;34m\u001b[0m\u001b[0m\n\u001b[1;32m     27\u001b[0m     \u001b[0;31m# Note: Codecs can sometimes be platform-dependent.\u001b[0m\u001b[0;34m\u001b[0m\u001b[0;34m\u001b[0m\u001b[0m\n\u001b[0;32m---> 28\u001b[0;31m     \u001b[0mfourcc\u001b[0m \u001b[0;34m=\u001b[0m \u001b[0mcv2\u001b[0m\u001b[0;34m.\u001b[0m\u001b[0mVideoWriter_fourcc\u001b[0m\u001b[0;34m(\u001b[0m\u001b[0;34m*\u001b[0m\u001b[0;34m'mp4v'\u001b[0m\u001b[0;34m)\u001b[0m \u001b[0;31m# You can try 'XVID', 'MJPG', 'DIVX'\u001b[0m\u001b[0;34m\u001b[0m\u001b[0;34m\u001b[0m\u001b[0m\n\u001b[0m\u001b[1;32m     29\u001b[0m     \u001b[0mout\u001b[0m \u001b[0;34m=\u001b[0m \u001b[0mcv2\u001b[0m\u001b[0;34m.\u001b[0m\u001b[0mVideoWriter\u001b[0m\u001b[0;34m(\u001b[0m\u001b[0moutput_video_path\u001b[0m\u001b[0;34m,\u001b[0m \u001b[0mfourcc\u001b[0m\u001b[0;34m,\u001b[0m \u001b[0mfps\u001b[0m\u001b[0;34m,\u001b[0m \u001b[0;34m(\u001b[0m\u001b[0mwidth\u001b[0m\u001b[0;34m,\u001b[0m \u001b[0mheight\u001b[0m\u001b[0;34m)\u001b[0m\u001b[0;34m)\u001b[0m\u001b[0;34m\u001b[0m\u001b[0;34m\u001b[0m\u001b[0m\n\u001b[1;32m     30\u001b[0m \u001b[0;34m\u001b[0m\u001b[0m\n",
      "\u001b[0;31mAttributeError\u001b[0m: module 'cv2' has no attribute 'VideoWriter_fourcc'"
     ]
    }
   ]
  },
  {
   "metadata": {
    "trusted": true
   },
   "cell_type": "code",
   "source": "from PIL import Image\nimport os\n\ndef create_gif_from_pngs_pillow(image_folder, output_gif_path, duration=100, loop=0):\n    \"\"\"\n    Creates a GIF from a sequence of PNG images using Pillow.\n\n    Args:\n        image_folder (str): Path to the folder containing PNG image frames.\n        output_gif_path (str): Path and filename for the output GIF.\n        duration (int): Duration of each frame in milliseconds (e.g., 100ms = 0.1 seconds).\n        loop (int): Number of times the GIF should loop. 0 means infinite loop.\n    \"\"\"\n    png_files = [os.path.join(image_folder, img) for img in os.listdir(image_folder) if img.endswith(\".png\")]\n    png_files.sort() # Ensure images are sorted correctly (e.g., frame_001.png, frame_002.png)\n\n    if not png_files:\n        print(f\"No PNG images found in {image_folder}\")\n        return\n\n    # Open the first image\n    try:\n        frames = []\n        for file_path in png_files:\n            try:\n                img = Image.open(file_path)\n                # Ensure all images are converted to RGB if they are not already (GIFs typically work better with RGB/P)\n                if img.mode != 'RGB':\n                    img = img.convert('RGB')\n                frames.append(img)\n            except Exception as e:\n                print(f\"Warning: Could not open or process image {file_path}. Skipping. Error: {e}\")\n                continue\n\n        if not frames:\n            print(\"No valid frames could be loaded to create the GIF.\")\n            return\n\n        # Save as GIF\n        # The first frame is the base, and subsequent frames are appended.\n        frames[0].save(\n            output_gif_path,\n            save_all=True,\n            append_images=frames[1:],\n            duration=duration,\n            loop=loop,\n            optimize=False # Set to True for smaller file size, but can sometimes introduce artifacts\n        )\n        print(f\"GIF '{output_gif_path}' created successfully from {len(frames)} images.\")\n\n    except Exception as e:\n        print(f\"An error occurred during GIF creation: {e}\")\n\nif __name__ == \"__main__\":\n    # Example Usage:\n    # 1. Create a dummy folder with some PNG image files for testing\n    dummy_image_folder = \"temp_png_frames\"\n    os.makedirs(dummy_image_folder, exist_ok=True)\n\n    # Create some dummy PNG image files\n    try:\n        from PIL import Image, ImageDraw\n        for i in range(15): # Create 15 frames\n            img = Image.new('RGB', (200, 200), color = (i*10, 150 - i*5, 200)) # Change color per frame\n            d = ImageDraw.Draw(img)\n            d.text((50,80), f\"Frame {i+1}\", fill=(255, 255, 255))\n            img.save(os.path.join(dummy_image_folder, f\"frame_{i:03d}.png\"))\n        print(f\"Created dummy PNG images in '{dummy_image_folder}'\")\n    except ImportError:\n        print(\"Pillow not installed or issue creating dummy images. Please manually create some .png images in 'temp_png_frames' for testing.\")\n        print(\"Example: frame_001.png, frame_002.png, ...\")\n        exit() # Exit if PIL is not available to avoid error for dummy image creation\n\n\n    output_gif_file = \"output_animation_pillow.gif\"\n    frame_duration_ms = 150 # 150 milliseconds per frame (0.15 seconds)\n\n    create_gif_from_pngs_pillow(\"frames/\", output_gif_file, duration=frame_duration_ms)\n\n    # Clean up dummy folder (optional)\n    # import shutil\n    # shutil.rmtree(dummy_image_folder)\n    # print(f\"Cleaned up dummy folder: {dummy_image_folder}\")\n",
   "execution_count": 2,
   "outputs": [
    {
     "output_type": "stream",
     "text": "Created dummy PNG images in 'temp_png_frames'\nGIF 'output_animation_pillow.gif' created successfully from 130 images.\n",
     "name": "stdout"
    }
   ]
  }
 ],
 "metadata": {
  "kernelspec": {
   "name": "python3",
   "display_name": "Python 3",
   "language": "python"
  },
  "language_info": {
   "name": "python",
   "version": "3.10.4",
   "mimetype": "text/x-python",
   "codemirror_mode": {
    "name": "ipython",
    "version": 3
   },
   "pygments_lexer": "ipython3",
   "nbconvert_exporter": "python",
   "file_extension": ".py"
  }
 },
 "nbformat": 4,
 "nbformat_minor": 2
}