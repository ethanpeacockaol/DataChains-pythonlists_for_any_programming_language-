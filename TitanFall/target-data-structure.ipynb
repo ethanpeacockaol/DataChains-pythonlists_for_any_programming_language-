{
 "cells": [
  {
   "metadata": {},
   "cell_type": "markdown",
   "source": "okay so we want a  deta  chain that doesa few things\n\n\nit  should represent a  target que to a Hud or an automated targetter\n\nwe should be able to\n\nadd a target\n\nremove a target\n\nset a targets priorities\n\nread in target attributes from long term storage (csv)\n\norder targets by priority\n\nonly datachains\n\n"
  },
  {
   "metadata": {},
   "cell_type": "markdown",
   "source": "so basically we want this at the end\n\n now target added\n \n  search database for target attributes\n  \n   save attributes\n   \n   use attributes to Rock paper  scissors\n  \n   return list of effective weapons sorted by priority of usage that causes effective  destruction or manipulation of target"
  },
  {
   "metadata": {},
   "cell_type": "markdown",
   "source": "okay so first steps  build datachain  then come back"
  },
  {
   "metadata": {
    "trusted": false
   },
   "cell_type": "code",
   "source": "",
   "execution_count": null,
   "outputs": []
  },
  {
   "metadata": {
    "trusted": false
   },
   "cell_type": "code",
   "source": "",
   "execution_count": null,
   "outputs": []
  },
  {
   "metadata": {
    "trusted": false
   },
   "cell_type": "code",
   "source": "",
   "execution_count": null,
   "outputs": []
  },
  {
   "metadata": {
    "trusted": false
   },
   "cell_type": "code",
   "source": "class link:\n    def __init__(self, data):\n        self.data = data\n        self.nextlink = None\n\n        \nclass chain:\n    def __init__(self):\n        self.firstlink = self.endlink = None\n        self.chainlength = 0\n        \n    def add_link(self, data):\n        newlink = link(data)\n        self.chainlength += 1\n        if self.firstlink == None:\n            self.firstlink = self.endlink = newlink\n        else:\n            self.endlink.nextlink = newlink\n            self.endlink = newlink\n    \n    def printdata(self):\n        currentlink = self.firstlink\n        print(\"[\", end=\"\")\n        for i in range(self.chainlength-1):\n            print(currentlink.data, end=\", \")\n            currentlink = currentlink.nextlink\n        print(self.endlink.data, end=\"]\\n\")",
   "execution_count": 19,
   "outputs": []
  },
  {
   "metadata": {
    "trusted": false
   },
   "cell_type": "code",
   "source": "newchain = chain()\nfor i in range(1,10):\n    newchain.add_link(i)\n\nnewchain.printdata()",
   "execution_count": 20,
   "outputs": [
    {
     "output_type": "stream",
     "text": "[1, 2, 3, 4, 5, 6, 7, 8, 9]\n",
     "name": "stdout"
    }
   ]
  },
  {
   "metadata": {
    "trusted": false
   },
   "cell_type": "code",
   "source": "",
   "execution_count": null,
   "outputs": []
  },
  {
   "metadata": {},
   "cell_type": "markdown",
   "source": "okay so let's proposea hypothetical   situation\n\n\nwell call  them  titanfall pilot bots\n\nenemies are other pilots we will constrain to just this for example  simplicity\n\n\nokay so or  target tracker has to now do two things\n\nscan  horizon and surroundings for other pilots\n\nif our  scanner (robo pilot vision system) finds another pilot it must  become aware of this\n\n and also identify the  enemy pilots loadout  strengths and weaknesses  right\n \n  okay so now our vision system is requesting our target datastructure to do two things \n  \n hey store a target and pull up known abilities and weaknesses of target\n \n \n okay\n \n actually lets broaden it but limit it to this specific instance below that requires decisive decision making that is time based and knowledge based about the environment\n \n \n \n \n \n <hr>\n \n our robo pilot is running forward and sees the reactor about to be destroyed by a group of 3 pilots, 2 titans, 20 grunts in 3 clusters, 2 cloak drones covering 2 pilots's position in quick as possible time\n \n we will describe the orchestration and paticularity of hypothetical weapons involved as we go\n \n so what do we want our robo pilot do to after becoming aware of this in its senses?\n \n start a decicive action todo list\n \n we know that priority is save the reactor\n \n we know that based off of our target awareness and perception each titan has two cannons that will reduce the reactors health by 20 points every 10 seconds and in 50 seconds under just one of their fire the reactor will die\n \n we  know  that the enemy pilots will attack titan enemies faster than the grunts \n \n we know  that the grunts attack  the ractor the least but under an uncontrolled state they can cause slow decay to the reactor that will lead to  death\n \n under the 3 pilots own effectence they can kill the reactor in around 4 minutes\n \n they are mostly swarm flies to keep interference from happening to the main guns which are the titans\n \n right so the reactor is about to die how do we make that todo list\n \n \n well lets make an artificially intellligent system that requires no parralelism to living conciousness in the form of a bubbling todolist\n \n \n lets before we do that continue to elaborate on this hypothetical\n \n we are back to our robo pilot running towards the offense that is progressing towards  the reactor to kill it \n \n okay so we know that priority wise what has to happen firrst ot save the reactor\n \n the titans need to be destroyed\n \n we cannot do that until the three pilots that protect their back  are destroyed\n \n wecannot  destroy all three pilots until awareness is at maximum and it is currently not because the cloak drones are masking two of the enemy pilots\n \n okay so what do we know\n \n we know that the reactor will die if we do not disable the titans\n \n we know that attempts to disable the enemy titans will most  likely fail fail if we do not first stop the enemy pilots\n \n we know that we have a better chance of stopping the enemy pilots if we decloak the two masked pilots\n \n weknow  that in a speed bump state the grunts can both kill the robo pilot and the reactor\n \n weknow\n \n \n kill the two cloak  drones\n \n kill the three pilots\n \n kill the two titans\n \n kill the grunts\n \n right?? wejust made decisive  action over saving the reactor by analyzing the in the time moment playing field and the abilities and their dependance and independance of eachother\n \n \n we did  not use machine learning\n \n \n we  used quantification of time based effectance\n \n right\n \n so lets build an approach that resembles decisive  action of this nature by just using time based  effectance and quantification of it \n \n \n that will be \n \n \n a datachain that stores targets\n \n a datachain that loads  attributes of targets\n \n a  datachain that takes and sets priorities  of damage  on reactor\n \n a datachain that takes and sets priorites of damage  on the robo pilot\n \n a datachain that upon in the moment full awareness can sort itself and provide the todolist that saves the reactor\n \n \n \n okay for sake of the problem at hand we willswitch away from  custom  class based datachains and use the built  in lists that are datachains in python for readability simplicity\n \n it willmake the processmore understandable"
  },
  {
   "metadata": {
    "trusted": false
   },
   "cell_type": "code",
   "source": "newchain = chain()\nfor i in range(1,10):\n    newchain.add_link(i)\n\nnewchain.printdata()",
   "execution_count": 1,
   "outputs": [
    {
     "output_type": "stream",
     "text": "[1, 2, 3, 4, 5, 6, 7, 8, 9]\n",
     "name": "stdout"
    }
   ]
  },
  {
   "metadata": {
    "trusted": false
   },
   "cell_type": "code",
   "source": "newchain = [i for i in range(1, 10)]\nnewchain",
   "execution_count": 2,
   "outputs": [
    {
     "output_type": "execute_result",
     "execution_count": 2,
     "data": {
      "text/plain": "[1, 2, 3, 4, 5, 6, 7, 8, 9]"
     },
     "metadata": {}
    }
   ]
  },
  {
   "metadata": {},
   "cell_type": "markdown",
   "source": "right"
  },
  {
   "metadata": {
    "trusted": false
   },
   "cell_type": "code",
   "source": "",
   "execution_count": null,
   "outputs": []
  },
  {
   "metadata": {
    "trusted": false
   },
   "cell_type": "code",
   "source": "",
   "execution_count": null,
   "outputs": []
  },
  {
   "metadata": {
    "trusted": false
   },
   "cell_type": "code",
   "source": "",
   "execution_count": null,
   "outputs": []
  },
  {
   "metadata": {
    "trusted": false
   },
   "cell_type": "code",
   "source": "",
   "execution_count": null,
   "outputs": []
  },
  {
   "metadata": {
    "trusted": false
   },
   "cell_type": "code",
   "source": "",
   "execution_count": null,
   "outputs": []
  },
  {
   "metadata": {
    "trusted": false
   },
   "cell_type": "code",
   "source": "",
   "execution_count": null,
   "outputs": []
  },
  {
   "metadata": {
    "trusted": false
   },
   "cell_type": "code",
   "source": "",
   "execution_count": null,
   "outputs": []
  },
  {
   "metadata": {
    "trusted": true
   },
   "cell_type": "code",
   "source": "target_list = []\n\n# we add the targets in the order that we see them\ntarget_list.append(['EnemyTitan1'])\ntarget_list.append(['gruntCluster1'])\ntarget_list.append(['cloakedPilot1'])\ntarget_list.append(['EnemyTitan2'])\ntarget_list.append(['gruntCluster2'])\n# they running together\ntarget_list.append(['cloakedPilot2, Pilot3'])\ntarget_list.append(['gruntCluster3'])",
   "execution_count": 34,
   "outputs": []
  },
  {
   "metadata": {
    "trusted": true
   },
   "cell_type": "code",
   "source": "# this is the  format  of our targetlists\n#[Target, xyz-coord, predicted_path_line, attributes...]\n\n# so lets  take a look at all of our targets and count them\nnum_titans = 0\nnum_pilots = 0\nnum_cloakdrones = 0\nnum_grunts = 0\n\n# print out the target lists\nprint(\"Current Target List:\")\nfor target in target_list:\n    if \"Titan\" in target[0]:\n        num_titans += 1\n    if \"cloak\" in target[0]:\n        num_cloakdrones  +=  1\n    if \"grunt\" in target[0]:\n        num_grunts += 1\n    if \"Pilot\" in target[0] and target[0].count(',') == 0:\n        num_pilots += 1\n    # maybe dual pilot movement easier to kill right\n    if \"Pilot\" in target[0] and \",\" in target[0]:\n        numDancers = target[0].count(',')+1\n        num_pilots +=  numDancers\n\n    print(target[0])\n# print out current observations\nprint(\"---------------------------\")\nprint(f\"Number titans: {num_titans}\")\nprint(f\"Number pilots: {num_pilots}\")\nprint(f\"Number grunt clusters: {num_grunts}\")\nprint(f\"Number cloak drones: {num_cloakdrones}\")",
   "execution_count": 35,
   "outputs": [
    {
     "output_type": "stream",
     "text": "Current Target List:\nEnemyTitan1\ngruntCluster1\ncloakedPilot1\nEnemyTitan2\ngruntCluster2\ncloakedPilot2, Pilot3\ngruntCluster3\n---------------------------\nNumber titans: 2\nNumber pilots: 3\nNumber grunt clusters: 3\nNumber cloak drones: 2\n",
     "name": "stdout"
    }
   ]
  },
  {
   "metadata": {
    "trusted": false
   },
   "cell_type": "markdown",
   "source": "okay so at this point we should check if we have any knowledge of the classified identified and reported targets\n\nthis is stored in our target_knowledge database\n\nthe format is \n\n[reactor health taken per second, most effective weapon to stop them, speed (relative]\n\nso lets update our target list with that data\n\nour target list is a list of  lists\n\nat each point in our target list we have a list\n\non that list our first item represents what the target is   \nthe next item is the xyz coordinate  \nthe next n items are target attributes that follow our database format\n\nokay lets set random poisitions since this isnt a physical location example just a flow of logic example\n\nwe will just set None values for the xyz position\n\nlets do that now"
  },
  {
   "metadata": {
    "trusted": true
   },
   "cell_type": "code",
   "source": "# update targets positions\n\nfor target in target_list:\n    xyz = None\n    target.append(xyz)",
   "execution_count": 36,
   "outputs": []
  },
  {
   "metadata": {
    "trusted": true
   },
   "cell_type": "code",
   "source": "for target in target_list:\n    print(f\"{target[0]} at position: {target[1]}\")",
   "execution_count": 37,
   "outputs": [
    {
     "output_type": "stream",
     "text": "EnemyTitan1 at position: None\ngruntCluster1 at position: None\ncloakedPilot1 at position: None\nEnemyTitan2 at position: None\ngruntCluster2 at position: None\ncloakedPilot2, Pilot3 at position: None\ngruntCluster3 at position: None\n",
     "name": "stdout"
    }
   ]
  },
  {
   "metadata": {},
   "cell_type": "markdown",
   "source": "before orchestrating a sorting method to perform these actions for us lets first go through it and do it manually to see whats going on\n\nbefore we take  out any target we must know what each target can do to the reactor and our robo pilot"
  },
  {
   "metadata": {
    "trusted": true
   },
   "cell_type": "code",
   "source": "# update target knowledge\ntitanknowledge = open('target_knowledge/Titan.csv')\ntitan = []\nfor line in titanknowledge:\n    for item in line.split(','):\n        titan.append(item)\n\ngruntclusterknowledge  =  open('target_knowledge/GruntCluster.csv')\ngrunt = []\nfor line in gruntclusterknowledge:\n    for item in line.split(','):\n        grunt.append(item)\n\ncloakdroneknowledge = open('target_knowledge/CloakDrone.csv')\ncloakdrone = []\nfor line in cloakdroneknowledge:\n    for item in line.split(','):\n        cloakdrone.append(item)\n\npilotknowledge = open('target_knowledge/Pilots.csv')\npilot = []\nfor line in  pilotknowledge:\n    for item in line.split(','):\n        pilot.append(item)\n\n        \nfor target in target_list:\n    if \"Titan\" in target[0]:\n        targetattributes = titan\n    if \"grunt\" in target[0]:\n        targetattributes = grunt\n    if \"Pilot\" in target[0] and target[0].count(',') == 0:\n        targetattributes = pilot\n    if \"Pilot\" in target[0] and \",\" in target[0]:\n        print(target[0])\n        numDancers = target[0].count(\",\") + 1\n        targetattributes = pilot\n        targetattributes[0] = float(targetattributes[0])*2\n        print(targetattributes[0])\n    if \"cloak\" in target[0]:\n        targetattributes.append(cloakdrone)\n    target.append(targetattributes)",
   "execution_count": 38,
   "outputs": [
    {
     "output_type": "stream",
     "text": "cloakedPilot2, Pilot3\n0.82\n",
     "name": "stdout"
    }
   ]
  },
  {
   "metadata": {
    "trusted": true
   },
   "cell_type": "code",
   "source": "for target in target_list:\n    print(f\"{target[0]} at position {target[1]}, damage: {target[2][0]} per sec\")",
   "execution_count": 40,
   "outputs": [
    {
     "output_type": "stream",
     "text": "EnemyTitan1 at position None, damage: 2 per sec\ngruntCluster1 at position None, damage: 0.0008 per sec\ncloakedPilot1 at position None, damage: 0.82 per sec\nEnemyTitan2 at position None, damage: 2 per sec\ngruntCluster2 at position None, damage: 0.0008 per sec\ncloakedPilot2, Pilot3 at position None, damage: 0.82 per sec\ngruntCluster3 at position None, damage: 0.0008 per sec\n",
     "name": "stdout"
    }
   ]
  },
  {
   "metadata": {
    "trusted": true
   },
   "cell_type": "code",
   "source": "",
   "execution_count": null,
   "outputs": []
  }
 ],
 "metadata": {
  "kernelspec": {
   "name": "python3",
   "display_name": "Python 3",
   "language": "python"
  },
  "language_info": {
   "name": "python",
   "version": "3.10.4",
   "mimetype": "text/x-python",
   "codemirror_mode": {
    "name": "ipython",
    "version": 3
   },
   "pygments_lexer": "ipython3",
   "nbconvert_exporter": "python",
   "file_extension": ".py"
  }
 },
 "nbformat": 4,
 "nbformat_minor": 2
}