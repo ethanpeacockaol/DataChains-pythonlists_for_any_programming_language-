{
 "cells": [
  {
   "cell_type": "markdown",
   "metadata": {},
   "source": [
    "okay so we want a  deta  chain that doesa few things\n",
    "\n",
    "\n",
    "it  should represent a  target que to a Hud or an automated targetter\n",
    "\n",
    "we should be able to\n",
    "\n",
    "add a target\n",
    "\n",
    "remove a target\n",
    "\n",
    "set a targets priorities\n",
    "\n",
    "read in target attributes from long term storage (csv)\n",
    "\n",
    "order targets by priority\n",
    "\n",
    "only datachains\n",
    "\n"
   ]
  },
  {
   "cell_type": "markdown",
   "metadata": {},
   "source": [
    "so basically we want this at the end\n",
    "\n",
    " now target added\n",
    " \n",
    "  search database for target attributes\n",
    "  \n",
    "   save attributes\n",
    "   \n",
    "   use attributes to Rock paper  scissors\n",
    "  \n",
    "   return list of effective weapons sorted by priority of usage that causes effective  destruction or manipulation of target"
   ]
  },
  {
   "cell_type": "markdown",
   "metadata": {},
   "source": [
    "okay so first steps  build datachain  then come back"
   ]
  },
  {
   "cell_type": "code",
   "execution_count": null,
   "metadata": {},
   "outputs": [],
   "source": []
  },
  {
   "cell_type": "code",
   "execution_count": null,
   "metadata": {},
   "outputs": [],
   "source": []
  },
  {
   "cell_type": "code",
   "execution_count": null,
   "metadata": {},
   "outputs": [],
   "source": []
  },
  {
   "cell_type": "code",
   "execution_count": 19,
   "metadata": {},
   "outputs": [],
   "source": [
    "class link:\n",
    "    def __init__(self, data):\n",
    "        self.data = data\n",
    "        self.nextlink = None\n",
    "\n",
    "        \n",
    "class chain:\n",
    "    def __init__(self):\n",
    "        self.firstlink = self.endlink = None\n",
    "        self.chainlength = 0\n",
    "        \n",
    "    def add_link(self, data):\n",
    "        newlink = link(data)\n",
    "        self.chainlength += 1\n",
    "        if self.firstlink == None:\n",
    "            self.firstlink = self.endlink = newlink\n",
    "        else:\n",
    "            self.endlink.nextlink = newlink\n",
    "            self.endlink = newlink\n",
    "    \n",
    "    def printdata(self):\n",
    "        currentlink = self.firstlink\n",
    "        print(\"[\", end=\"\")\n",
    "        for i in range(self.chainlength-1):\n",
    "            print(currentlink.data, end=\", \")\n",
    "            currentlink = currentlink.nextlink\n",
    "        print(self.endlink.data, end=\"]\\n\")"
   ]
  },
  {
   "cell_type": "code",
   "execution_count": 20,
   "metadata": {},
   "outputs": [
    {
     "name": "stdout",
     "output_type": "stream",
     "text": [
      "[1, 2, 3, 4, 5, 6, 7, 8, 9]\n"
     ]
    }
   ],
   "source": [
    "newchain = chain()\n",
    "for i in range(1,10):\n",
    "    newchain.add_link(i)\n",
    "\n",
    "newchain.printdata()"
   ]
  },
  {
   "cell_type": "code",
   "execution_count": null,
   "metadata": {},
   "outputs": [],
   "source": []
  },
  {
   "cell_type": "markdown",
   "metadata": {},
   "source": [
    "okay so let's proposea hypothetical   situation\n",
    "\n",
    "\n",
    "well call  them  titanfall pilot bots\n",
    "\n",
    "enemies are other pilots we will constrain to just this for example  simplicity\n",
    "\n",
    "\n",
    "okay so or  target tracker has to now do two things\n",
    "\n",
    "scan  horizon and surroundings for other pilots\n",
    "\n",
    "if our  scanner (robo pilot vision system) finds another pilot it must  become aware of this\n",
    "\n",
    " and also identify the  enemy pilots loadout  strengths and weaknesses  right\n",
    " \n",
    "  okay so now our vision system is requesting our target datastructure to do two things \n",
    "  \n",
    " hey store a target and pull up known abilities and weaknesses of target\n",
    " \n",
    " \n",
    " okay\n",
    " \n",
    " actually lets broaden it but limit it to this specific instance below that requires decisive decision making that is time based and knowledge based about the environment\n",
    " \n",
    " \n",
    " \n",
    " \n",
    " \n",
    " <hr>\n",
    " \n",
    " our robo pilot is running forward and sees the reactor about to be destroyed by a group of 3 pilots, 2 titans, 20 grunts in 3 clusters, 2 cloak drones covering 2 pilots's position in quick as possible time\n",
    " \n",
    " we will describe the orchestration and paticularity of hypothetical weapons involved as we go\n",
    " \n",
    " so what do we want our robo pilot do to after becoming aware of this in its senses?\n",
    " \n",
    " start a decicive action todo list\n",
    " \n",
    " we know that priority is save the reactor\n",
    " \n",
    " we know that based off of our target awareness and perception each titan has two cannons that will reduce the reactors health by 20 points every 10 seconds and in 50 seconds under just one of their fire the reactor will die\n",
    " \n",
    " we  know  that the enemy pilots will attack titan enemies faster than the grunts \n",
    " \n",
    " we know  that the grunts attack  the ractor the least but under an uncontrolled state they can cause slow decay to the reactor that will lead to  death\n",
    " \n",
    " under the 3 pilots own effectence they can kill the reactor in around 4 minutes\n",
    " \n",
    " they are mostly swarm flies to keep interference from happening to the main guns which are the titans\n",
    " \n",
    " right so the reactor is about to die how do we make that todo list\n",
    " \n",
    " \n",
    " well lets make an artificially intellligent system that requires no parralelism to living conciousness in the form of a bubbling todolist\n",
    " \n",
    " \n",
    " lets before we do that continue to elaborate on this hypothetical\n",
    " \n",
    " we are back to our robo pilot running towards the offense that is progressing towards  the reactor to kill it \n",
    " \n",
    " okay so we know that priority wise what has to happen firrst ot save the reactor\n",
    " \n",
    " the titans need to be destroyed\n",
    " \n",
    " we cannot do that until the three pilots that protect their back  are destroyed\n",
    " \n",
    " wecannot  destroy all three pilots until awareness is at maximum and it is currently not because the cloak drones are masking two of the enemy pilots\n",
    " \n",
    " okay so what do we know\n",
    " \n",
    " we know that the reactor will die if we do not disable the titans\n",
    " \n",
    " we know that attempts to disable the enemy titans will most  likely fail fail if we do not first stop the enemy pilots\n",
    " \n",
    " we know that we have a better chance of stopping the enemy pilots if we decloak the two masked pilots\n",
    " \n",
    " weknow  that in a speed bump state the grunts can both kill the robo pilot and the reactor\n",
    " \n",
    " weknow\n",
    " \n",
    " \n",
    " kill the two cloak  drones\n",
    " \n",
    " kill the three pilots\n",
    " \n",
    " kill the two titans\n",
    " \n",
    " kill the grunts\n",
    " \n",
    " right?? wejust made decisive  action over saving the reactor by analyzing the in the time moment playing field and the abilities and their dependance and independance of eachother\n",
    " \n",
    " \n",
    " we did  not use machine learning\n",
    " \n",
    " \n",
    " we  used quantification of time based effectance\n",
    " \n",
    " right\n",
    " \n",
    " so lets build an approach that resembles decisive  action of this nature by just using time based  effectance and quantification of it \n",
    " \n",
    " \n",
    " that will be \n",
    " \n",
    " \n",
    " a datachain that stores targets\n",
    " \n",
    " a datachain that loads  attributes of targets\n",
    " \n",
    " a  datachain that takes and sets priorities  of damage  on reactor\n",
    " \n",
    " a datachain that takes and sets priorites of damage  on the robo pilot\n",
    " \n",
    " a datachain that upon in the moment full awareness can sort itself and provide the todolist that saves the reactor\n",
    " \n",
    " \n",
    " \n",
    " okay for sake of the problem at hand we willswitch away from  custom  class based datachains and use the built  in lists that are datachains in python for readability simplicity\n",
    " \n",
    " it willmake the processmore understandable"
   ]
  },
  {
   "cell_type": "code",
   "execution_count": 1,
   "metadata": {},
   "outputs": [
    {
     "name": "stdout",
     "output_type": "stream",
     "text": [
      "[1, 2, 3, 4, 5, 6, 7, 8, 9]\n"
     ]
    }
   ],
   "source": [
    "newchain = chain()\n",
    "for i in range(1,10):\n",
    "    newchain.add_link(i)\n",
    "\n",
    "newchain.printdata()"
   ]
  },
  {
   "cell_type": "code",
   "execution_count": 2,
   "metadata": {},
   "outputs": [
    {
     "data": {
      "text/plain": [
       "[1, 2, 3, 4, 5, 6, 7, 8, 9]"
      ]
     },
     "execution_count": 2,
     "metadata": {},
     "output_type": "execute_result"
    }
   ],
   "source": [
    "newchain = [i for i in range(1, 10)]\n",
    "newchain"
   ]
  },
  {
   "cell_type": "markdown",
   "metadata": {},
   "source": [
    "right"
   ]
  },
  {
   "cell_type": "code",
   "execution_count": null,
   "metadata": {},
   "outputs": [],
   "source": []
  },
  {
   "cell_type": "code",
   "execution_count": null,
   "metadata": {},
   "outputs": [],
   "source": []
  },
  {
   "cell_type": "code",
   "execution_count": null,
   "metadata": {},
   "outputs": [],
   "source": []
  },
  {
   "cell_type": "code",
   "execution_count": null,
   "metadata": {},
   "outputs": [],
   "source": []
  },
  {
   "cell_type": "code",
   "execution_count": null,
   "metadata": {},
   "outputs": [],
   "source": []
  },
  {
   "cell_type": "code",
   "execution_count": null,
   "metadata": {},
   "outputs": [],
   "source": []
  },
  {
   "cell_type": "code",
   "execution_count": null,
   "metadata": {},
   "outputs": [],
   "source": []
  },
  {
   "cell_type": "code",
   "execution_count": 1,
   "metadata": {},
   "outputs": [],
   "source": [
    "target_list = []\n",
    "\n",
    "# we add the targets in the order that we see them\n",
    "target_list.append(['EnemyTitan1'])\n",
    "target_list.append(['gruntCluster1'])\n",
    "target_list.append(['cloakedPilot1'])\n",
    "target_list.append(['EnemyTitan2'])\n",
    "target_list.append(['gruntCluster2'])\n",
    "# they running together\n",
    "target_list.append(['cloakedPilot2, Pilot3 (running together)'])\n",
    "target_list.append(['gruntCluster3'])"
   ]
  },
  {
   "cell_type": "code",
   "execution_count": 3,
   "metadata": {},
   "outputs": [
    {
     "name": "stdout",
     "output_type": "stream",
     "text": [
      "Current Target List:\n",
      "EnemyTitan1\n",
      "gruntCluster1\n",
      "cloakedPilot1\n",
      "EnemyTitan2\n",
      "gruntCluster2\n",
      "cloakedPilot2, Pilot3 (running together)\n",
      "gruntCluster3\n",
      "---------------------------\n",
      "Number titans: 2\n",
      "Number pilots: 3\n",
      "Number grunt clusters: 3\n",
      "Number cloak drones: 2\n"
     ]
    }
   ],
   "source": [
    "# this is the  format  of our targetlists\n",
    "#[Target, xyz-coord, predicted_path_line, attributes...]\n",
    "\n",
    "# so lets  take a look at all of our targets and count them\n",
    "num_titans = 0\n",
    "num_pilots = 0\n",
    "num_cloakdrones = 0\n",
    "num_grunts = 0\n",
    "\n",
    "# print out the target lists\n",
    "print(\"Current Target List:\")\n",
    "for target in target_list:\n",
    "    if \"Titan\" in target[0]:\n",
    "        num_titans += 1\n",
    "    if \"cloak\" in target[0]:\n",
    "        num_cloakdrones  +=  1\n",
    "    if \"grunt\" in target[0]:\n",
    "        num_grunts += 1\n",
    "    if \"Pilot\" in target[0] and target[0].count(',') == 0:\n",
    "        num_pilots += 1\n",
    "    # maybe dual pilot movement easier to kill right\n",
    "    if \"Pilot\" in target[0] and \",\" in target[0]:\n",
    "        numDancers = target[0].count(',')+1\n",
    "        num_pilots +=  numDancers\n",
    "\n",
    "    print(target[0])\n",
    "# print out current observations\n",
    "print(\"---------------------------\")\n",
    "print(f\"Number titans: {num_titans}\")\n",
    "print(f\"Number pilots: {num_pilots}\")\n",
    "print(f\"Number grunt clusters: {num_grunts}\")\n",
    "print(f\"Number cloak drones: {num_cloakdrones}\")"
   ]
  },
  {
   "cell_type": "markdown",
   "metadata": {},
   "source": [
    "okay so at this point we should check if we have any knowledge of the classified identified and reported targets\n",
    "\n",
    "this is stored in our target_knowledge database\n",
    "\n",
    "the format is \n",
    "\n",
    "[reactor health taken per second, most effective weapon to stop them, speed (relative]\n",
    "\n",
    "so lets update our target list with that data\n",
    "\n",
    "our target list is a list of  lists\n",
    "\n",
    "at each point in our target list we have a list\n",
    "\n",
    "on that list our first item represents what the target is   \n",
    "the next item is the xyz coordinate  \n",
    "the next n items are target attributes that follow our database format\n",
    "\n",
    "okay lets set random poisitions since this isnt a physical location example just a flow of logic example\n",
    "\n",
    "we will just set None values for the xyz position\n",
    "\n",
    "lets do that now"
   ]
  },
  {
   "cell_type": "code",
   "execution_count": 4,
   "metadata": {},
   "outputs": [],
   "source": [
    "# update targets positions\n",
    "\n",
    "for target in target_list:\n",
    "    xyz = None\n",
    "    target.append(xyz)"
   ]
  },
  {
   "cell_type": "code",
   "execution_count": 5,
   "metadata": {},
   "outputs": [
    {
     "name": "stdout",
     "output_type": "stream",
     "text": [
      "EnemyTitan1 at position: None\n",
      "gruntCluster1 at position: None\n",
      "cloakedPilot1 at position: None\n",
      "EnemyTitan2 at position: None\n",
      "gruntCluster2 at position: None\n",
      "cloakedPilot2, Pilot3 (running together) at position: None\n",
      "gruntCluster3 at position: None\n"
     ]
    }
   ],
   "source": [
    "for target in target_list:\n",
    "    print(f\"{target[0]} at position: {target[1]}\")"
   ]
  },
  {
   "cell_type": "markdown",
   "metadata": {},
   "source": [
    "before orchestrating a sorting method to perform these actions for us lets first go through it and do it manually to see whats going on\n",
    "\n",
    "before we take  out any target we must know what each target can do to the reactor and our robo pilot"
   ]
  },
  {
   "cell_type": "code",
   "execution_count": 6,
   "metadata": {},
   "outputs": [
    {
     "name": "stdout",
     "output_type": "stream",
     "text": [
      "cloakedPilot2, Pilot3 (running together)\n"
     ]
    }
   ],
   "source": [
    "# update target knowledge\n",
    "titanknowledge = open('target_knowledge/Titan.csv')\n",
    "titan = []\n",
    "for line in titanknowledge:\n",
    "    for item in line.split(','):\n",
    "        titan.append(item)\n",
    "\n",
    "gruntclusterknowledge  =  open('target_knowledge/GruntCluster.csv')\n",
    "grunt = []\n",
    "for line in gruntclusterknowledge:\n",
    "    for item in line.split(','):\n",
    "        grunt.append(item)\n",
    "\n",
    "cloakdroneknowledge = open('target_knowledge/CloakDrone.csv')\n",
    "cloakdrone = []\n",
    "for line in cloakdroneknowledge:\n",
    "    for item in line.split(','):\n",
    "        cloakdrone.append(item)\n",
    "\n",
    "pilotknowledge = open('target_knowledge/Pilots.csv')\n",
    "pilot = []\n",
    "for line in  pilotknowledge:\n",
    "    for item in line.split(','):\n",
    "        pilot.append(item)\n",
    "\n",
    "        \n",
    "for target in target_list:\n",
    "    if \"Titan\" in target[0]:\n",
    "        targetattributes = titan\n",
    "    if \"grunt\" in target[0]:\n",
    "        targetattributes = grunt\n",
    "    if \"Pilot\" in target[0] and target[0].count(',') == 0:\n",
    "        targetattributes = pilot\n",
    "    if \"Pilot\" in target[0] and \",\" in target[0]:\n",
    "        print(target[0])\n",
    "        numDancers = target[0].count(\",\") + 1\n",
    "        targetattributes = pilot\n",
    "        targetattributes[0] = float(targetattributes[0])*2\n",
    "    if \"cloak\" in target[0]:\n",
    "        targetattributes.append(cloakdrone)\n",
    "    target.append(targetattributes)"
   ]
  },
  {
   "cell_type": "code",
   "execution_count": 7,
   "metadata": {},
   "outputs": [
    {
     "name": "stdout",
     "output_type": "stream",
     "text": [
      "EnemyTitan1 at position None, damage: 2 per sec\n",
      "gruntCluster1 at position None, damage: 0.0008 per sec\n",
      "cloakedPilot1 at position None, damage: 0.82 per sec\n",
      "EnemyTitan2 at position None, damage: 2 per sec\n",
      "gruntCluster2 at position None, damage: 0.0008 per sec\n",
      "cloakedPilot2, Pilot3 (running together) at position None, damage: 0.82 per sec\n",
      "gruntCluster3 at position None, damage: 0.0008 per sec\n"
     ]
    }
   ],
   "source": [
    "for target in target_list:\n",
    "    print(f\"{target[0]} at position {target[1]}, damage: {target[2][0]} per sec\")"
   ]
  },
  {
   "cell_type": "markdown",
   "metadata": {},
   "source": [
    "okay lets actually give our targets some updated example coordinates so we can draw our reactor and the enemies from a top down view point"
   ]
  },
  {
   "cell_type": "code",
   "execution_count": 8,
   "metadata": {},
   "outputs": [
    {
     "data": {
      "text/plain": [
       "[['EnemyTitan1', None, ['2', ' titan_gun', ' 30']],\n",
       " ['gruntCluster1', None, ['0.0008', ' mele', ' 10']],\n",
       " ['cloakedPilot1',\n",
       "  None,\n",
       "  [0.82, ' star', ' 70', ['0', ' gun', ' 110'], ['0', ' gun', ' 110']]],\n",
       " ['EnemyTitan2', None, ['2', ' titan_gun', ' 30']],\n",
       " ['gruntCluster2', None, ['0.0008', ' mele', ' 10']],\n",
       " ['cloakedPilot2, Pilot3 (running together)',\n",
       "  None,\n",
       "  [0.82, ' star', ' 70', ['0', ' gun', ' 110'], ['0', ' gun', ' 110']]],\n",
       " ['gruntCluster3', None, ['0.0008', ' mele', ' 10']]]"
      ]
     },
     "execution_count": 8,
     "metadata": {},
     "output_type": "execute_result"
    }
   ],
   "source": [
    "target_list"
   ]
  },
  {
   "cell_type": "code",
   "execution_count": 33,
   "metadata": {},
   "outputs": [],
   "source": [
    "# set reactors position birds eye view\n",
    "reactor_position = [10, 10]\n",
    "reactor_health = 100\n",
    "# set robo pilot position\n",
    "robo_pilot_position = [8, 4]\n",
    "\n",
    "# set titan 1 position\n",
    "target_list[0][1] = [2, 3]\n",
    "# set titan 2 position\n",
    "target_list[3][1] = [3, 5]\n",
    "titan_positions = [target_list[0][1], target_list[3][1]]\n",
    "# set grunt clusters positions\n",
    "target_list[1][1] = [1, 5]\n",
    "target_list[4][1] = [1, 2]\n",
    "target_list[6][1] = [3, 9]\n",
    "grunt_positions = [target_list[1][1], target_list[4][1], target_list[6][1]]\n",
    "# set enemy pilot positions\n",
    "target_list[2][1] = [5, 12]\n",
    "target_list[5][1] = [[9,9],[8,8]]\n",
    "pilot_positions = [target_list[2][1], target_list[5][1]]"
   ]
  },
  {
   "cell_type": "code",
   "execution_count": 47,
   "metadata": {},
   "outputs": [
    {
     "data": {
      "image/png": "[encoded data removed]",
      "text/plain": [
       "<Figure size 640x480 with 1 Axes>"
      ]
     },
     "metadata": {},
     "output_type": "display_data"
    }
   ],
   "source": [
    "import matplotlib.pyplot as plt\n",
    "plt.title('battlefield top down view')\n",
    "plt.plot(reactor_position[0], reactor_position[1], 'g*', label=f\"reactor\")\n",
    "plt.plot(robo_pilot_position[0], robo_pilot_position[1], 'k*', label=\"robo pilot\")\n",
    "titan_x = []\n",
    "titan_y = []\n",
    "for position in titan_positions:\n",
    "    titan_x.append(position[0])\n",
    "    titan_y.append(position[1])\n",
    "plt.plot(titan_x, titan_y, 'r.', label=\"Enemy Titans\")\n",
    "grunt_x = []\n",
    "grunt_y = []\n",
    "for position in grunt_positions:\n",
    "    grunt_x.append(position[0])\n",
    "    grunt_y.append(position[1])\n",
    "plt.plot(grunt_x, grunt_y, 'b.', label = \"Enemy Grunts\")\n",
    "pilot_x = []\n",
    "pilot_y = []\n",
    "for position in pilot_positions:\n",
    "    if type(position[0]) == int:\n",
    "        pilot_x.append(position[0])\n",
    "        pilot_y.append(position[1])\n",
    "    else:\n",
    "        for pos in position:\n",
    "            pilot_x.append(pos[0])\n",
    "            pilot_y.append(pos[1])\n",
    "plt.plot(pilot_x, pilot_y, 'r*', label=\"Enemy Pilots\")\n",
    "plt.legend()\n",
    "plt.show()"
   ]
  },
  {
   "cell_type": "code",
   "execution_count": 48,
   "metadata": {},
   "outputs": [
    {
     "data": {
      "text/plain": [
       "[['EnemyTitan1', [2, 3], ['2', ' titan_gun', ' 30']],\n",
       " ['gruntCluster1', [1, 5], ['0.0008', ' mele', ' 10']],\n",
       " ['cloakedPilot1',\n",
       "  [5, 12],\n",
       "  [0.82, ' star', ' 70', ['0', ' gun', ' 110'], ['0', ' gun', ' 110']]],\n",
       " ['EnemyTitan2', [3, 5], ['2', ' titan_gun', ' 30']],\n",
       " ['gruntCluster2', [1, 2], ['0.0008', ' mele', ' 10']],\n",
       " ['cloakedPilot2, Pilot3 (running together)',\n",
       "  [[9, 9], [8, 8]],\n",
       "  [0.82, ' star', ' 70', ['0', ' gun', ' 110'], ['0', ' gun', ' 110']]],\n",
       " ['gruntCluster3', [3, 9], ['0.0008', ' mele', ' 10']]]"
      ]
     },
     "execution_count": 48,
     "metadata": {},
     "output_type": "execute_result"
    }
   ],
   "source": [
    "target_list"
   ]
  },
  {
   "cell_type": "code",
   "execution_count": null,
   "metadata": {},
   "outputs": [],
   "source": []
  }
 ],
 "metadata": {
  "kernelspec": {
   "display_name": "Python 3 (ipykernel)",
   "language": "python",
   "name": "python3"
  },
  "language_info": {
   "codemirror_mode": {
    "name": "ipython",
    "version": 3
   },
   "file_extension": ".py",
   "mimetype": "text/x-python",
   "name": "python",
   "nbconvert_exporter": "python",
   "pygments_lexer": "ipython3",
   "version": "3.13.2"
  }
 },
 "nbformat": 4,
 "nbformat_minor": 4
}
