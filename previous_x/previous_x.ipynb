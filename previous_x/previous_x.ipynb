{
 "cells": [
  {
   "cell_type": "markdown",
   "id": "4d0f08f4-8a6a-4d07-937f-8a8d11c39d43",
   "metadata": {},
   "source": [
    "# Previous X\n",
    "\n",
    "doubly linked lists with chains as nextlink and chains as previouslink of length n (user specified)"
   ]
  },
  {
   "cell_type": "code",
   "execution_count": null,
   "id": "180044a6-d673-4a8a-89cf-ac5fc206c5bf",
   "metadata": {},
   "outputs": [],
   "source": []
  }
 ],
 "metadata": {
  "kernelspec": {
   "display_name": "Python 3 (ipykernel)",
   "language": "python",
   "name": "python3"
  },
  "language_info": {
   "codemirror_mode": {
    "name": "ipython",
    "version": 3
   },
   "file_extension": ".py",
   "mimetype": "text/x-python",
   "name": "python",
   "nbconvert_exporter": "python",
   "pygments_lexer": "ipython3",
   "version": "3.13.2"
  }
 },
 "nbformat": 4,
 "nbformat_minor": 5
}
