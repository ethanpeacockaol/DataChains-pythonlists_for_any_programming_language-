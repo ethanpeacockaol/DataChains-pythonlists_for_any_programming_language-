{
 "cells": [
  {
   "cell_type": "markdown",
   "id": "4d0f08f4-8a6a-4d07-937f-8a8d11c39d43",
   "metadata": {},
   "source": [
    "# Previous X\n",
    "\n",
    "doubly linked lists with chains as nextlink and chains as previouslink of length n (user specified)"
   ]
  },
  {
   "cell_type": "code",
   "execution_count": null,
   "id": "180044a6-d673-4a8a-89cf-ac5fc206c5bf",
   "metadata": {},
   "outputs": [],
   "source": []
  },
  {
   "cell_type": "code",
   "execution_count": null,
   "id": "9cddb5eb-96c1-4213-87bb-0ed51d322a63",
   "metadata": {},
   "outputs": [],
   "source": []
  },
  {
   "cell_type": "markdown",
   "id": "6858e4e9-b323-4813-b584-11a20a252461",
   "metadata": {},
   "source": [
    "![previous x anim](res/previousxanim.gif)"
   ]
  },
  {
   "cell_type": "markdown",
   "id": "c54176c8-0aef-4f89-952b-d269816e1c8f",
   "metadata": {},
   "source": [
    "so lets just write it procedurally with a next x list that we keep track of\n",
    "\n",
    "task:   \n",
    "running while loop populating list with random integers  \n",
    "every two seconds scrape the last 20 of the running list    \n",
    "do this 10 times  \n",
    "save that to a bar chart for animation sequence  \n",
    "\n"
   ]
  },
  {
   "cell_type": "code",
   "execution_count": 1,
   "id": "4136c53e-0a53-426b-add9-681e4df53e08",
   "metadata": {},
   "outputs": [],
   "source": [
    "import matplotlib.pyplot as plt\n",
    "import numpy as np\n",
    "import time\n",
    "\n",
    "random_list = []\n",
    "go = True\n",
    "all_last_twentys = []\n",
    "\n",
    "start_time = time.time()\n",
    "i = 0\n",
    "while go:\n",
    "    # add random number\n",
    "    random_list.append(np.random.randint(0,100))\n",
    "\n",
    "    # calculate how much time has passed since loop started\n",
    "    elapsed_time = time.time() - start_time\n",
    "\n",
    "    # every 2 seconds scrape the last 20 of the list\n",
    "    # every 2 seconds reset 2 seconds counter\n",
    "    # every time we reset 2 seconds counter, we increment i and stop at i == 10\n",
    "    if elapsed_time > 2:\n",
    "        start_time = time.time()\n",
    "        i += 1\n",
    "\n",
    "        # every 2 seconds get the last 20 of the list\n",
    "        all_last_twentys.append(random_list[-20:])\n",
    "    if i == 10:\n",
    "        go = False"
   ]
  },
  {
   "cell_type": "code",
   "execution_count": 2,
   "id": "de116485-befa-4bef-8858-e1032e1d8ef8",
   "metadata": {},
   "outputs": [
    {
     "data": {
      "text/plain": [
       "10"
      ]
     },
     "execution_count": 2,
     "metadata": {},
     "output_type": "execute_result"
    }
   ],
   "source": [
    "len(all_last_twentys)"
   ]
  },
  {
   "cell_type": "code",
   "execution_count": 3,
   "id": "e96f311e-d1c5-4e3f-955b-4a6c1374feb3",
   "metadata": {},
   "outputs": [
    {
     "ename": "FileNotFoundError",
     "evalue": "[Errno 2] No such file or directory: 'last_twenty_frames/image_0.png'",
     "output_type": "error",
     "traceback": [
      "\u001b[31m---------------------------------------------------------------------------\u001b[39m",
      "\u001b[31mFileNotFoundError\u001b[39m                         Traceback (most recent call last)",
      "\u001b[36mCell\u001b[39m\u001b[36m \u001b[39m\u001b[32mIn[3]\u001b[39m\u001b[32m, line 8\u001b[39m\n\u001b[32m      6\u001b[39m plt.title(\u001b[33m\"\u001b[39m\u001b[33mlast twenty\u001b[39m\u001b[33m\"\u001b[39m)\n\u001b[32m      7\u001b[39m plt.bar(x_axis, last_twenty)\n\u001b[32m----> \u001b[39m\u001b[32m8\u001b[39m \u001b[43mplt\u001b[49m\u001b[43m.\u001b[49m\u001b[43msavefig\u001b[49m\u001b[43m(\u001b[49m\u001b[33;43mf\u001b[39;49m\u001b[33;43m\"\u001b[39;49m\u001b[33;43mlast_twenty_frames/image_\u001b[39;49m\u001b[38;5;132;43;01m{\u001b[39;49;00m\u001b[43mi\u001b[49m\u001b[38;5;132;43;01m}\u001b[39;49;00m\u001b[33;43m.png\u001b[39;49m\u001b[33;43m\"\u001b[39;49m\u001b[43m)\u001b[49m\n\u001b[32m      9\u001b[39m plt.close()\n\u001b[32m     10\u001b[39m \u001b[38;5;66;03m# update file name\u001b[39;00m\n",
      "\u001b[36mFile \u001b[39m\u001b[32m~\\venvs\\py\\Lib\\site-packages\\matplotlib\\pyplot.py:1243\u001b[39m, in \u001b[36msavefig\u001b[39m\u001b[34m(*args, **kwargs)\u001b[39m\n\u001b[32m   1240\u001b[39m fig = gcf()\n\u001b[32m   1241\u001b[39m \u001b[38;5;66;03m# savefig default implementation has no return, so mypy is unhappy\u001b[39;00m\n\u001b[32m   1242\u001b[39m \u001b[38;5;66;03m# presumably this is here because subclasses can return?\u001b[39;00m\n\u001b[32m-> \u001b[39m\u001b[32m1243\u001b[39m res = \u001b[43mfig\u001b[49m\u001b[43m.\u001b[49m\u001b[43msavefig\u001b[49m\u001b[43m(\u001b[49m\u001b[43m*\u001b[49m\u001b[43margs\u001b[49m\u001b[43m,\u001b[49m\u001b[43m \u001b[49m\u001b[43m*\u001b[49m\u001b[43m*\u001b[49m\u001b[43mkwargs\u001b[49m\u001b[43m)\u001b[49m  \u001b[38;5;66;03m# type: ignore[func-returns-value]\u001b[39;00m\n\u001b[32m   1244\u001b[39m fig.canvas.draw_idle()  \u001b[38;5;66;03m# Need this if 'transparent=True', to reset colors.\u001b[39;00m\n\u001b[32m   1245\u001b[39m \u001b[38;5;28;01mreturn\u001b[39;00m res\n",
      "\u001b[36mFile \u001b[39m\u001b[32m~\\venvs\\py\\Lib\\site-packages\\matplotlib\\figure.py:3490\u001b[39m, in \u001b[36mFigure.savefig\u001b[39m\u001b[34m(self, fname, transparent, **kwargs)\u001b[39m\n\u001b[32m   3488\u001b[39m     \u001b[38;5;28;01mfor\u001b[39;00m ax \u001b[38;5;129;01min\u001b[39;00m \u001b[38;5;28mself\u001b[39m.axes:\n\u001b[32m   3489\u001b[39m         _recursively_make_axes_transparent(stack, ax)\n\u001b[32m-> \u001b[39m\u001b[32m3490\u001b[39m \u001b[38;5;28;43mself\u001b[39;49m\u001b[43m.\u001b[49m\u001b[43mcanvas\u001b[49m\u001b[43m.\u001b[49m\u001b[43mprint_figure\u001b[49m\u001b[43m(\u001b[49m\u001b[43mfname\u001b[49m\u001b[43m,\u001b[49m\u001b[43m \u001b[49m\u001b[43m*\u001b[49m\u001b[43m*\u001b[49m\u001b[43mkwargs\u001b[49m\u001b[43m)\u001b[49m\n",
      "\u001b[36mFile \u001b[39m\u001b[32m~\\venvs\\py\\Lib\\site-packages\\matplotlib\\backend_bases.py:2184\u001b[39m, in \u001b[36mFigureCanvasBase.print_figure\u001b[39m\u001b[34m(self, filename, dpi, facecolor, edgecolor, orientation, format, bbox_inches, pad_inches, bbox_extra_artists, backend, **kwargs)\u001b[39m\n\u001b[32m   2180\u001b[39m \u001b[38;5;28;01mtry\u001b[39;00m:\n\u001b[32m   2181\u001b[39m     \u001b[38;5;66;03m# _get_renderer may change the figure dpi (as vector formats\u001b[39;00m\n\u001b[32m   2182\u001b[39m     \u001b[38;5;66;03m# force the figure dpi to 72), so we need to set it again here.\u001b[39;00m\n\u001b[32m   2183\u001b[39m     \u001b[38;5;28;01mwith\u001b[39;00m cbook._setattr_cm(\u001b[38;5;28mself\u001b[39m.figure, dpi=dpi):\n\u001b[32m-> \u001b[39m\u001b[32m2184\u001b[39m         result = \u001b[43mprint_method\u001b[49m\u001b[43m(\u001b[49m\n\u001b[32m   2185\u001b[39m \u001b[43m            \u001b[49m\u001b[43mfilename\u001b[49m\u001b[43m,\u001b[49m\n\u001b[32m   2186\u001b[39m \u001b[43m            \u001b[49m\u001b[43mfacecolor\u001b[49m\u001b[43m=\u001b[49m\u001b[43mfacecolor\u001b[49m\u001b[43m,\u001b[49m\n\u001b[32m   2187\u001b[39m \u001b[43m            \u001b[49m\u001b[43medgecolor\u001b[49m\u001b[43m=\u001b[49m\u001b[43medgecolor\u001b[49m\u001b[43m,\u001b[49m\n\u001b[32m   2188\u001b[39m \u001b[43m            \u001b[49m\u001b[43morientation\u001b[49m\u001b[43m=\u001b[49m\u001b[43morientation\u001b[49m\u001b[43m,\u001b[49m\n\u001b[32m   2189\u001b[39m \u001b[43m            \u001b[49m\u001b[43mbbox_inches_restore\u001b[49m\u001b[43m=\u001b[49m\u001b[43m_bbox_inches_restore\u001b[49m\u001b[43m,\u001b[49m\n\u001b[32m   2190\u001b[39m \u001b[43m            \u001b[49m\u001b[43m*\u001b[49m\u001b[43m*\u001b[49m\u001b[43mkwargs\u001b[49m\u001b[43m)\u001b[49m\n\u001b[32m   2191\u001b[39m \u001b[38;5;28;01mfinally\u001b[39;00m:\n\u001b[32m   2192\u001b[39m     \u001b[38;5;28;01mif\u001b[39;00m bbox_inches \u001b[38;5;129;01mand\u001b[39;00m restore_bbox:\n",
      "\u001b[36mFile \u001b[39m\u001b[32m~\\venvs\\py\\Lib\\site-packages\\matplotlib\\backend_bases.py:2040\u001b[39m, in \u001b[36mFigureCanvasBase._switch_canvas_and_return_print_method.<locals>.<lambda>\u001b[39m\u001b[34m(*args, **kwargs)\u001b[39m\n\u001b[32m   2036\u001b[39m     optional_kws = {  \u001b[38;5;66;03m# Passed by print_figure for other renderers.\u001b[39;00m\n\u001b[32m   2037\u001b[39m         \u001b[33m\"\u001b[39m\u001b[33mdpi\u001b[39m\u001b[33m\"\u001b[39m, \u001b[33m\"\u001b[39m\u001b[33mfacecolor\u001b[39m\u001b[33m\"\u001b[39m, \u001b[33m\"\u001b[39m\u001b[33medgecolor\u001b[39m\u001b[33m\"\u001b[39m, \u001b[33m\"\u001b[39m\u001b[33morientation\u001b[39m\u001b[33m\"\u001b[39m,\n\u001b[32m   2038\u001b[39m         \u001b[33m\"\u001b[39m\u001b[33mbbox_inches_restore\u001b[39m\u001b[33m\"\u001b[39m}\n\u001b[32m   2039\u001b[39m     skip = optional_kws - {*inspect.signature(meth).parameters}\n\u001b[32m-> \u001b[39m\u001b[32m2040\u001b[39m     print_method = functools.wraps(meth)(\u001b[38;5;28;01mlambda\u001b[39;00m *args, **kwargs: \u001b[43mmeth\u001b[49m\u001b[43m(\u001b[49m\n\u001b[32m   2041\u001b[39m \u001b[43m        \u001b[49m\u001b[43m*\u001b[49m\u001b[43margs\u001b[49m\u001b[43m,\u001b[49m\u001b[43m \u001b[49m\u001b[43m*\u001b[49m\u001b[43m*\u001b[49m\u001b[43m{\u001b[49m\u001b[43mk\u001b[49m\u001b[43m:\u001b[49m\u001b[43m \u001b[49m\u001b[43mv\u001b[49m\u001b[43m \u001b[49m\u001b[38;5;28;43;01mfor\u001b[39;49;00m\u001b[43m \u001b[49m\u001b[43mk\u001b[49m\u001b[43m,\u001b[49m\u001b[43m \u001b[49m\u001b[43mv\u001b[49m\u001b[43m \u001b[49m\u001b[38;5;129;43;01min\u001b[39;49;00m\u001b[43m \u001b[49m\u001b[43mkwargs\u001b[49m\u001b[43m.\u001b[49m\u001b[43mitems\u001b[49m\u001b[43m(\u001b[49m\u001b[43m)\u001b[49m\u001b[43m \u001b[49m\u001b[38;5;28;43;01mif\u001b[39;49;00m\u001b[43m \u001b[49m\u001b[43mk\u001b[49m\u001b[43m \u001b[49m\u001b[38;5;129;43;01mnot\u001b[39;49;00m\u001b[43m \u001b[49m\u001b[38;5;129;43;01min\u001b[39;49;00m\u001b[43m \u001b[49m\u001b[43mskip\u001b[49m\u001b[43m}\u001b[49m\u001b[43m)\u001b[49m)\n\u001b[32m   2042\u001b[39m \u001b[38;5;28;01melse\u001b[39;00m:  \u001b[38;5;66;03m# Let third-parties do as they see fit.\u001b[39;00m\n\u001b[32m   2043\u001b[39m     print_method = meth\n",
      "\u001b[36mFile \u001b[39m\u001b[32m~\\venvs\\py\\Lib\\site-packages\\matplotlib\\backends\\backend_agg.py:481\u001b[39m, in \u001b[36mFigureCanvasAgg.print_png\u001b[39m\u001b[34m(self, filename_or_obj, metadata, pil_kwargs)\u001b[39m\n\u001b[32m    434\u001b[39m \u001b[38;5;28;01mdef\u001b[39;00m\u001b[38;5;250m \u001b[39m\u001b[34mprint_png\u001b[39m(\u001b[38;5;28mself\u001b[39m, filename_or_obj, *, metadata=\u001b[38;5;28;01mNone\u001b[39;00m, pil_kwargs=\u001b[38;5;28;01mNone\u001b[39;00m):\n\u001b[32m    435\u001b[39m \u001b[38;5;250m    \u001b[39m\u001b[33;03m\"\"\"\u001b[39;00m\n\u001b[32m    436\u001b[39m \u001b[33;03m    Write the figure to a PNG file.\u001b[39;00m\n\u001b[32m    437\u001b[39m \n\u001b[32m   (...)\u001b[39m\u001b[32m    479\u001b[39m \u001b[33;03m        *metadata*, including the default 'Software' key.\u001b[39;00m\n\u001b[32m    480\u001b[39m \u001b[33;03m    \"\"\"\u001b[39;00m\n\u001b[32m--> \u001b[39m\u001b[32m481\u001b[39m     \u001b[38;5;28;43mself\u001b[39;49m\u001b[43m.\u001b[49m\u001b[43m_print_pil\u001b[49m\u001b[43m(\u001b[49m\u001b[43mfilename_or_obj\u001b[49m\u001b[43m,\u001b[49m\u001b[43m \u001b[49m\u001b[33;43m\"\u001b[39;49m\u001b[33;43mpng\u001b[39;49m\u001b[33;43m\"\u001b[39;49m\u001b[43m,\u001b[49m\u001b[43m \u001b[49m\u001b[43mpil_kwargs\u001b[49m\u001b[43m,\u001b[49m\u001b[43m \u001b[49m\u001b[43mmetadata\u001b[49m\u001b[43m)\u001b[49m\n",
      "\u001b[36mFile \u001b[39m\u001b[32m~\\venvs\\py\\Lib\\site-packages\\matplotlib\\backends\\backend_agg.py:430\u001b[39m, in \u001b[36mFigureCanvasAgg._print_pil\u001b[39m\u001b[34m(self, filename_or_obj, fmt, pil_kwargs, metadata)\u001b[39m\n\u001b[32m    425\u001b[39m \u001b[38;5;250m\u001b[39m\u001b[33;03m\"\"\"\u001b[39;00m\n\u001b[32m    426\u001b[39m \u001b[33;03mDraw the canvas, then save it using `.image.imsave` (to which\u001b[39;00m\n\u001b[32m    427\u001b[39m \u001b[33;03m*pil_kwargs* and *metadata* are forwarded).\u001b[39;00m\n\u001b[32m    428\u001b[39m \u001b[33;03m\"\"\"\u001b[39;00m\n\u001b[32m    429\u001b[39m FigureCanvasAgg.draw(\u001b[38;5;28mself\u001b[39m)\n\u001b[32m--> \u001b[39m\u001b[32m430\u001b[39m \u001b[43mmpl\u001b[49m\u001b[43m.\u001b[49m\u001b[43mimage\u001b[49m\u001b[43m.\u001b[49m\u001b[43mimsave\u001b[49m\u001b[43m(\u001b[49m\n\u001b[32m    431\u001b[39m \u001b[43m    \u001b[49m\u001b[43mfilename_or_obj\u001b[49m\u001b[43m,\u001b[49m\u001b[43m \u001b[49m\u001b[38;5;28;43mself\u001b[39;49m\u001b[43m.\u001b[49m\u001b[43mbuffer_rgba\u001b[49m\u001b[43m(\u001b[49m\u001b[43m)\u001b[49m\u001b[43m,\u001b[49m\u001b[43m \u001b[49m\u001b[38;5;28;43mformat\u001b[39;49m\u001b[43m=\u001b[49m\u001b[43mfmt\u001b[49m\u001b[43m,\u001b[49m\u001b[43m \u001b[49m\u001b[43morigin\u001b[49m\u001b[43m=\u001b[49m\u001b[33;43m\"\u001b[39;49m\u001b[33;43mupper\u001b[39;49m\u001b[33;43m\"\u001b[39;49m\u001b[43m,\u001b[49m\n\u001b[32m    432\u001b[39m \u001b[43m    \u001b[49m\u001b[43mdpi\u001b[49m\u001b[43m=\u001b[49m\u001b[38;5;28;43mself\u001b[39;49m\u001b[43m.\u001b[49m\u001b[43mfigure\u001b[49m\u001b[43m.\u001b[49m\u001b[43mdpi\u001b[49m\u001b[43m,\u001b[49m\u001b[43m \u001b[49m\u001b[43mmetadata\u001b[49m\u001b[43m=\u001b[49m\u001b[43mmetadata\u001b[49m\u001b[43m,\u001b[49m\u001b[43m \u001b[49m\u001b[43mpil_kwargs\u001b[49m\u001b[43m=\u001b[49m\u001b[43mpil_kwargs\u001b[49m\u001b[43m)\u001b[49m\n",
      "\u001b[36mFile \u001b[39m\u001b[32m~\\venvs\\py\\Lib\\site-packages\\matplotlib\\image.py:1644\u001b[39m, in \u001b[36mimsave\u001b[39m\u001b[34m(fname, arr, vmin, vmax, cmap, format, origin, dpi, metadata, pil_kwargs)\u001b[39m\n\u001b[32m   1642\u001b[39m pil_kwargs.setdefault(\u001b[33m\"\u001b[39m\u001b[33mformat\u001b[39m\u001b[33m\"\u001b[39m, \u001b[38;5;28mformat\u001b[39m)\n\u001b[32m   1643\u001b[39m pil_kwargs.setdefault(\u001b[33m\"\u001b[39m\u001b[33mdpi\u001b[39m\u001b[33m\"\u001b[39m, (dpi, dpi))\n\u001b[32m-> \u001b[39m\u001b[32m1644\u001b[39m \u001b[43mimage\u001b[49m\u001b[43m.\u001b[49m\u001b[43msave\u001b[49m\u001b[43m(\u001b[49m\u001b[43mfname\u001b[49m\u001b[43m,\u001b[49m\u001b[43m \u001b[49m\u001b[43m*\u001b[49m\u001b[43m*\u001b[49m\u001b[43mpil_kwargs\u001b[49m\u001b[43m)\u001b[49m\n",
      "\u001b[36mFile \u001b[39m\u001b[32m~\\venvs\\py\\Lib\\site-packages\\PIL\\Image.py:2591\u001b[39m, in \u001b[36mImage.save\u001b[39m\u001b[34m(self, fp, format, **params)\u001b[39m\n\u001b[32m   2589\u001b[39m         fp = builtins.open(filename, \u001b[33m\"\u001b[39m\u001b[33mr+b\u001b[39m\u001b[33m\"\u001b[39m)\n\u001b[32m   2590\u001b[39m     \u001b[38;5;28;01melse\u001b[39;00m:\n\u001b[32m-> \u001b[39m\u001b[32m2591\u001b[39m         fp = \u001b[43mbuiltins\u001b[49m\u001b[43m.\u001b[49m\u001b[43mopen\u001b[49m\u001b[43m(\u001b[49m\u001b[43mfilename\u001b[49m\u001b[43m,\u001b[49m\u001b[43m \u001b[49m\u001b[33;43m\"\u001b[39;49m\u001b[33;43mw+b\u001b[39;49m\u001b[33;43m\"\u001b[39;49m\u001b[43m)\u001b[49m\n\u001b[32m   2592\u001b[39m \u001b[38;5;28;01melse\u001b[39;00m:\n\u001b[32m   2593\u001b[39m     fp = cast(IO[\u001b[38;5;28mbytes\u001b[39m], fp)\n",
      "\u001b[31mFileNotFoundError\u001b[39m: [Errno 2] No such file or directory: 'last_twenty_frames/image_0.png'"
     ]
    },
    {
     "data": {
      "image/png": "[encoded data removed]",
      "text/plain": [
       "<Figure size 640x480 with 1 Axes>"
      ]
     },
     "metadata": {},
     "output_type": "display_data"
    }
   ],
   "source": [
    "# name the file sequentially\n",
    "i = 0\n",
    "n = 20\n",
    "for last_twenty in all_last_twentys:\n",
    "    x_axis = [i for i in range(n)]\n",
    "    plt.title(\"last twenty\")\n",
    "    plt.bar(x_axis, last_twenty)\n",
    "    plt.savefig(f\"last_twenty_frames/image_{i}.png\")\n",
    "    plt.close()\n",
    "    # update file name\n",
    "    i += 1"
   ]
  },
  {
   "cell_type": "markdown",
   "id": "0c3bc44f-06a0-44c7-b75c-6e3108944f76",
   "metadata": {},
   "source": [
    "gemini code to convert image frames to animation"
   ]
  },
  {
   "cell_type": "code",
   "execution_count": null,
   "id": "be028daa-d599-4157-bdc7-58c1587a85c3",
   "metadata": {},
   "outputs": [],
   "source": [
    "import cv2\n",
    "import os\n",
    "import re\n",
    "\n",
    "def create_mp4_from_images(image_folder, output_path, fps=30, image_pattern=r\"image_\\d+\\.png\"):\n",
    "    \"\"\"\n",
    "    Creates an MP4 video from a sequence of images in a folder.\n",
    "\n",
    "    Args:\n",
    "        image_folder (str): The path to the folder containing the images.\n",
    "        output_path (str): The path to the output MP4 video file.\n",
    "        fps (int, optional): The frames per second of the output video. Defaults to 30.\n",
    "        image_pattern (str, optional): A regular expression pattern to match image filenames.\n",
    "            Defaults to \"image_\\\\d+\\\\.png\", which matches files like \"image_001.png\", \"image_123.png\", etc.\n",
    "            Use raw strings (r\"pattern\") to avoid issues with backslashes in regex patterns.\n",
    "    \"\"\"\n",
    "    images = [img for img in os.listdir(image_folder) if re.search(image_pattern, img)]\n",
    "    # Sort the images.  Important for correct video sequence.\n",
    "    images.sort()  # Simple sort, might need more robust sorting for complex filenames\n",
    "\n",
    "    if not images:\n",
    "        print(f\"Error: No images found in the folder matching the pattern '{image_pattern}'.  Folder: {image_folder}\")\n",
    "        return\n",
    "\n",
    "    # Determine the frame size from the first image.\n",
    "    first_image_path = os.path.join(image_folder, images[0])\n",
    "    img = cv2.imread(first_image_path)\n",
    "    if img is None:\n",
    "        print(f\"Error: Could not read the first image: {first_image_path}.  Check if the path is correct and the image is valid.\")\n",
    "        return\n",
    "    height, width, channels = img.shape\n",
    "\n",
    "    # Define the video writer.\n",
    "    fourcc = cv2.VideoWriter_fourcc(*'mp4v')  # Codec for MP4\n",
    "    out = cv2.VideoWriter(output_path, fourcc, fps, (width, height))\n",
    "\n",
    "    # Write each image to the video.\n",
    "    for image in images:\n",
    "        image_path = os.path.join(image_folder, image)\n",
    "        img = cv2.imread(image_path)\n",
    "        if img is None:\n",
    "            print(f\"Warning: Could not read image {image_path}. Skipping this frame.\")\n",
    "            continue  # Skip to the next image\n",
    "        out.write(img)\n",
    "\n",
    "    # Release the video writer.\n",
    "    out.release()\n",
    "    print(f\"Successfully created video: {output_path} from images in {image_folder}\")\n",
    "\n",
    "def main():\n",
    "    \"\"\"\n",
    "    Main function to run the image-to-video conversion.\n",
    "    \"\"\"\n",
    "    # Example usage:\n",
    "    image_folder = \"last_twenty_frames\"  # Replace with the path to your image folder\n",
    "    output_path = \"output.mp4\"  # Replace with the desired output path\n",
    "    fps = 0.5  # You can change the frames per second\n",
    "    image_pattern = r\"image_\\d+\\.png\" # Example pattern, change as needed\n",
    "\n",
    "    # Create a dummy image folder and images if it doesn't exist\n",
    "    if not os.path.exists(image_folder):\n",
    "        os.makedirs(image_folder)\n",
    "        for i in range(10):  # Create 10 dummy images\n",
    "            import numpy as np\n",
    "            dummy_image = np.random.randint(0, 256, (100, 100, 3), dtype=np.uint8) # Create a random image\n",
    "            cv2.imwrite(os.path.join(image_folder, f\"image_{i:03d}.png\"), dummy_image) # save the image\n",
    "\n",
    "    create_mp4_from_images(image_folder, output_path, fps, image_pattern)\n",
    "\n",
    "\n",
    "\n",
    "if __name__ == \"__main__\":\n",
    "    main()\n"
   ]
  },
  {
   "cell_type": "markdown",
   "id": "c12bac94-3d43-4104-8201-9bdf8b9e7ab3",
   "metadata": {},
   "source": [
    "# display the time based animation of the distribution of random numbers being populated by grabbing the last twenty every 2 seconds"
   ]
  },
  {
   "cell_type": "markdown",
   "id": "43be7a51-e275-4756-8da9-9899f0fcf5ea",
   "metadata": {},
   "source": [
    "please see output.mp4\n",
    "\n"
   ]
  },
  {
   "cell_type": "code",
   "execution_count": 4,
   "id": "2478d791-2d90-4a4d-9428-3dfc8866e763",
   "metadata": {},
   "outputs": [
    {
     "data": {
      "text/html": [
       "<video src=\"res/output.mp4\" controls  >\n",
       "      Your browser does not support the <code>video</code> element.\n",
       "    </video>"
      ],
      "text/plain": [
       "<IPython.core.display.Video object>"
      ]
     },
     "metadata": {},
     "output_type": "display_data"
    }
   ],
   "source": [
    "from IPython.display import Video, display\n",
    "video_path = \"res/output.mp4\"\n",
    "\n",
    "video = Video(video_path)\n",
    "display(video)"
   ]
  },
  {
   "cell_type": "markdown",
   "id": "9b6173e7-7ccd-46b3-8202-d074a3a95e3c",
   "metadata": {},
   "source": [
    "# Okay\n",
    "# So how do we create this in a class centric way?\n",
    "\n",
    "\n",
    "well i think we can take our doublylinked class and modify it a little  \n",
    "\n",
    "if we convert the nextlink and previouslink connectors from the link class of our doublylinked list into chains themselves of length n\n",
    "we can easily pull out the data of the last x  \n",
    "\n",
    "so multiple ways to do this including the procedural way i just did above but we want a class oriented way to do it\n",
    "\n",
    "\n",
    "so lets work on adding previousn and nextn links to our doubly linked list class"
   ]
  },
  {
   "cell_type": "code",
   "execution_count": null,
   "id": "2e142b86-7cee-48c9-ad97-c136e0949fa9",
   "metadata": {},
   "outputs": [],
   "source": []
  },
  {
   "cell_type": "markdown",
   "id": "a12398c9-e5b7-4a5e-8041-797b0ac02982",
   "metadata": {},
   "source": [
    "# Here is our doublylinkedlist class and usage using the numbers 1 through 5"
   ]
  },
  {
   "cell_type": "code",
   "execution_count": 5,
   "id": "9443772a-fce1-4115-8f25-af784cbe2e5f",
   "metadata": {},
   "outputs": [],
   "source": [
    "class list_index:\n",
    "    def __init__(self, list_item):\n",
    "        self.list_item = list_item\n",
    "        self.next_list_item = None\n",
    "        self.previous_list_item = None\n",
    "\n",
    "class llist:\n",
    "    def __init__(self):\n",
    "        self.firstitem = None\n",
    "        self.enditem = None\n",
    "        self.length = 0\n",
    "\n",
    "    def add_item(self, item):\n",
    "        new_list_entry = list_index(item)\n",
    "        self.length += 1\n",
    "        if self.firstitem == None:\n",
    "            self.firstitem = new_list_entry\n",
    "            self.enditem = new_list_entry\n",
    "        else:\n",
    "            new_list_entry.previous_list_item = self.enditem\n",
    "            self.enditem.next_list_item = new_list_entry\n",
    "            self.enditem = new_list_entry\n",
    "\n",
    "    def get_item(self, index):\n",
    "        if index >= 0:\n",
    "            current_index = self.firstitem\n",
    "            for i in range(index):\n",
    "                current_index = current_index.next_list_item\n",
    "            return current_index.list_item\n",
    "        elif index == -1:\n",
    "            return self.enditem.list_item\n",
    "        else:\n",
    "            current_step = self.enditem\n",
    "            for i in range(1, abs(index)):\n",
    "                current_step = current_step.previous_list_item\n",
    "        return current_step.list_item"
   ]
  },
  {
   "cell_type": "code",
   "execution_count": 6,
   "id": "dbc2acf7-895f-4f9d-ab43-44ee618b9f9e",
   "metadata": {},
   "outputs": [
    {
     "name": "stdout",
     "output_type": "stream",
     "text": [
      "5\n",
      "4\n",
      "3\n",
      "2\n",
      "1\n"
     ]
    }
   ],
   "source": [
    "dl_list = llist()\n",
    "\n",
    "dl_list.add_item(1)\n",
    "dl_list.add_item(2)\n",
    "dl_list.add_item(3)\n",
    "dl_list.add_item(4)\n",
    "dl_list.add_item(5)\n",
    "\n",
    "negative_list = [-i for i in range(1, 6)]\n",
    "negative_list = [-1,-2,-3,-4,-5]\n",
    "\n",
    "# 1 based negative indexing\n",
    "for item in negative_list:\n",
    "    print(dl_list.get_item(item))"
   ]
  },
  {
   "cell_type": "code",
   "execution_count": 7,
   "id": "0726822b-e01c-4d99-9f09-7c5bec0d0911",
   "metadata": {},
   "outputs": [
    {
     "name": "stdout",
     "output_type": "stream",
     "text": [
      "1\n",
      "2\n",
      "3\n",
      "4\n",
      "5\n"
     ]
    }
   ],
   "source": [
    "dl_list = llist()\n",
    "\n",
    "dl_list.add_item(1)\n",
    "dl_list.add_item(2)\n",
    "dl_list.add_item(3)\n",
    "dl_list.add_item(4)\n",
    "dl_list.add_item(5)\n",
    "\n",
    "# 0 based positive indexing\n",
    "for i in range(dl_list.length):\n",
    "    print(dl_list.get_item(i))"
   ]
  },
  {
   "cell_type": "code",
   "execution_count": 8,
   "id": "51bf0151-8a01-4611-982d-19d51f41a83f",
   "metadata": {},
   "outputs": [],
   "source": [
    "# please see the demo animation in readme, \n",
    "# doubly linked lists just wire up the previous link before resetting the endlink tape which you can see\n",
    "# here ^"
   ]
  },
  {
   "cell_type": "markdown",
   "id": "19a5a61b-abc5-42bc-827e-59606460f423",
   "metadata": {},
   "source": [
    "<hr>"
   ]
  },
  {
   "cell_type": "markdown",
   "id": "8bba1704-1a23-4012-bb17-74f05558b96f",
   "metadata": {},
   "source": [
    "convert this implementation to use chains for its next and previous connections of length n (n specified by user)\n",
    "\n",
    "\n",
    "well maybe a static previous n and next n is bad and we should only care about in the moment previous, in that case we dont have to change our doubly linked class at all as you can see in our for loops we are using dl_list to iterate through the whole list\n",
    "\n",
    "if we just use the already implemented negative indexing and a constrained for loop we can already do any node of slicing starting from the n\n",
    "\n",
    "here is an example of the outputs above\n",
    "\n",
    "lets get the last 3"
   ]
  },
  {
   "cell_type": "code",
   "execution_count": 9,
   "id": "35e13905-d753-4f46-8c29-d36e5237c507",
   "metadata": {},
   "outputs": [
    {
     "name": "stdout",
     "output_type": "stream",
     "text": [
      "1\n",
      "2\n",
      "3\n",
      "4\n",
      "5\n"
     ]
    }
   ],
   "source": [
    "# print the whole list\n",
    "for i in range(dl_list.length):\n",
    "    print(dl_list.get_item(i))"
   ]
  },
  {
   "cell_type": "markdown",
   "id": "e3c571f8-a9cf-4951-88e4-3fbd38e1c55a",
   "metadata": {},
   "source": [
    "okay use negative indexing to only get the last 3"
   ]
  },
  {
   "cell_type": "code",
   "execution_count": 10,
   "id": "8d974edb-2c4e-474f-aa47-e101accaaf75",
   "metadata": {},
   "outputs": [
    {
     "name": "stdout",
     "output_type": "stream",
     "text": [
      "5\n",
      "4\n",
      "3\n"
     ]
    }
   ],
   "source": [
    "last_n = 3\n",
    "for i in range(1, last_n+1):\n",
    "    print(dl_list.get_item(-i))"
   ]
  },
  {
   "cell_type": "markdown",
   "id": "8fb98563-c39c-4ed3-af8f-55c6b972dc5a",
   "metadata": {},
   "source": [
    "right?"
   ]
  },
  {
   "cell_type": "markdown",
   "id": "d8972373-b42e-4e7d-a689-7fcd19d87213",
   "metadata": {},
   "source": [
    "so whats the problem with this?  \n",
    "\n",
    "well this is an iterative approach the previous x are not known  \n",
    "\n",
    "n has to be counted to as you can see in the for loop above  \n",
    "\n",
    "as n grows large, the number of counts grows large, and your program slows down  \n",
    "\n",
    "\n",
    "so we need to keep going  \n",
    "\n"
   ]
  },
  {
   "cell_type": "code",
   "execution_count": null,
   "id": "320b7504-740b-44d3-94b4-fabc3516d4e8",
   "metadata": {},
   "outputs": [],
   "source": []
  },
  {
   "cell_type": "code",
   "execution_count": null,
   "id": "21196671-27df-43b2-a64d-488f9d9ac647",
   "metadata": {},
   "outputs": [],
   "source": []
  },
  {
   "cell_type": "code",
   "execution_count": null,
   "id": "99da4877-8dcd-4b9d-8d47-3a424075aa63",
   "metadata": {},
   "outputs": [],
   "source": []
  },
  {
   "cell_type": "markdown",
   "id": "4ac658e9-ebae-4acc-b3e3-861a59936280",
   "metadata": {},
   "source": [
    "So whats the current TODO:"
   ]
  },
  {
   "cell_type": "code",
   "execution_count": 11,
   "id": "8c61bdf8-c0e8-4e8c-8560-6d42b9098f75",
   "metadata": {},
   "outputs": [],
   "source": [
    "# TODO: implement python slicing\n",
    "# mostly care about negative slicing\n",
    "# negative slicing already works in a user defined for loop using the negative indexing\n",
    "# built into get_index and a for loop to iterate through last n as you can see again by the duplicate cell above that i've coppied beneath this todo"
   ]
  },
  {
   "cell_type": "code",
   "execution_count": 12,
   "id": "7ab43a86-bd8d-459f-8bdc-5de9ec2f9dde",
   "metadata": {},
   "outputs": [
    {
     "name": "stdout",
     "output_type": "stream",
     "text": [
      "5\n",
      "4\n",
      "3\n"
     ]
    }
   ],
   "source": [
    "last_n = 3\n",
    "for i in range(1, last_n+1):\n",
    "    print(dl_list.get_item(-i))"
   ]
  },
  {
   "cell_type": "markdown",
   "id": "9ced8f33-48a7-4314-aea9-06e6d4ef292e",
   "metadata": {},
   "source": [
    "okay so rewrite todo for when i come back for further touches"
   ]
  },
  {
   "cell_type": "markdown",
   "id": "25c1c26b-d7dc-4af0-99dc-01cf71c2455e",
   "metadata": {},
   "source": [
    "# TODO: mf just build python list slicing but dont make it count up to n every god damn time and thats it (into doubly linked lists)"
   ]
  },
  {
   "cell_type": "code",
   "execution_count": 13,
   "id": "936071f0-208f-4b31-91d6-a9e73513d768",
   "metadata": {},
   "outputs": [],
   "source": [
    "# TODO: mf just build python list slicing but dont make it count up to n every god damn time and thats it (into doubly linked lists)"
   ]
  },
  {
   "cell_type": "code",
   "execution_count": null,
   "id": "d36c810b-9790-4192-abe7-18e7d8ab0c78",
   "metadata": {},
   "outputs": [],
   "source": []
  }
 ],
 "metadata": {
  "kernelspec": {
   "display_name": "Python 3 (ipykernel)",
   "language": "python",
   "name": "python3"
  },
  "language_info": {
   "codemirror_mode": {
    "name": "ipython",
    "version": 3
   },
   "file_extension": ".py",
   "mimetype": "text/x-python",
   "name": "python",
   "nbconvert_exporter": "python",
   "pygments_lexer": "ipython3",
   "version": "3.13.2"
  }
 },
 "nbformat": 4,
 "nbformat_minor": 5
}
