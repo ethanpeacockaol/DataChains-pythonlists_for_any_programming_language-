{
 "cells": [
  {
   "cell_type": "markdown",
   "id": "4d0f08f4-8a6a-4d07-937f-8a8d11c39d43",
   "metadata": {},
   "source": [
    "# Previous X\n",
    "\n",
    "doubly linked lists with chains as nextlink and chains as previouslink of length n (user specified)"
   ]
  },
  {
   "cell_type": "code",
   "execution_count": null,
   "id": "180044a6-d673-4a8a-89cf-ac5fc206c5bf",
   "metadata": {},
   "outputs": [],
   "source": []
  },
  {
   "cell_type": "code",
   "execution_count": null,
   "id": "9cddb5eb-96c1-4213-87bb-0ed51d322a63",
   "metadata": {},
   "outputs": [],
   "source": []
  },
  {
   "cell_type": "markdown",
   "id": "6858e4e9-b323-4813-b584-11a20a252461",
   "metadata": {},
   "source": [
    "![previous x anim](res/previousxanim.gif)"
   ]
  },
  {
   "cell_type": "markdown",
   "id": "c54176c8-0aef-4f89-952b-d269816e1c8f",
   "metadata": {},
   "source": [
    "so lets just write it procedurally with a next x list that we keep track of\n",
    "\n",
    "task:   \n",
    "running while loop populating list with random integers  \n",
    "every two seconds scrape the last 20 of the running list    \n",
    "do this 10 times  \n",
    "save that to a bar chart for animation sequence  \n",
    "\n"
   ]
  },
  {
   "cell_type": "code",
   "execution_count": 16,
   "id": "4136c53e-0a53-426b-add9-681e4df53e08",
   "metadata": {},
   "outputs": [],
   "source": [
    "import matplotlib.pyplot as plt\n",
    "import numpy as np\n",
    "import time\n",
    "\n",
    "random_list = []\n",
    "go = True\n",
    "all_last_twentys = []\n",
    "\n",
    "start_time = time.time()\n",
    "i = 0\n",
    "while go:\n",
    "    # add random number\n",
    "    random_list.append(np.random.randint(0,100))\n",
    "\n",
    "    # calculate how much time has passed since loop started\n",
    "    elapsed_time = time.time() - start_time\n",
    "\n",
    "    # every 2 seconds scrape the last 20 of the list\n",
    "    # every 2 seconds reset 2 seconds counter\n",
    "    # every time we reset 2 seconds counter, we increment i and stop at i == 10\n",
    "    if elapsed_time > 2:\n",
    "        start_time = time.time()\n",
    "        i += 1\n",
    "\n",
    "        # every 2 seconds get the last 20 of the list\n",
    "        all_last_twentys.append(random_list[-20:])\n",
    "    if i == 10:\n",
    "        go = False"
   ]
  },
  {
   "cell_type": "code",
   "execution_count": 17,
   "id": "de116485-befa-4bef-8858-e1032e1d8ef8",
   "metadata": {},
   "outputs": [
    {
     "data": {
      "text/plain": [
       "10"
      ]
     },
     "execution_count": 17,
     "metadata": {},
     "output_type": "execute_result"
    }
   ],
   "source": [
    "len(all_last_twentys)"
   ]
  },
  {
   "cell_type": "code",
   "execution_count": 34,
   "id": "e96f311e-d1c5-4e3f-955b-4a6c1374feb3",
   "metadata": {},
   "outputs": [],
   "source": [
    "# name the file sequentially\n",
    "i = 0\n",
    "n = 20\n",
    "for last_twenty in all_last_twentys:\n",
    "    x_axis = [i for i in range(n)]\n",
    "    plt.title(\"last twenty\")\n",
    "    plt.bar(x_axis, last_twenty)\n",
    "    plt.savefig(f\"last_twenty_frames/image_{i}.png\")\n",
    "    plt.close()\n",
    "    # update file name\n",
    "    i += 1"
   ]
  },
  {
   "cell_type": "markdown",
   "id": "0c3bc44f-06a0-44c7-b75c-6e3108944f76",
   "metadata": {},
   "source": [
    "gemini code to convert image frames to animation"
   ]
  },
  {
   "cell_type": "code",
   "execution_count": 40,
   "id": "be028daa-d599-4157-bdc7-58c1587a85c3",
   "metadata": {},
   "outputs": [
    {
     "name": "stdout",
     "output_type": "stream",
     "text": [
      "Successfully created video: output.mp4 from images in last_twenty_frames\n"
     ]
    }
   ],
   "source": [
    "import cv2\n",
    "import os\n",
    "import re\n",
    "\n",
    "def create_mp4_from_images(image_folder, output_path, fps=30, image_pattern=r\"image_\\d+\\.png\"):\n",
    "    \"\"\"\n",
    "    Creates an MP4 video from a sequence of images in a folder.\n",
    "\n",
    "    Args:\n",
    "        image_folder (str): The path to the folder containing the images.\n",
    "        output_path (str): The path to the output MP4 video file.\n",
    "        fps (int, optional): The frames per second of the output video. Defaults to 30.\n",
    "        image_pattern (str, optional): A regular expression pattern to match image filenames.\n",
    "            Defaults to \"image_\\\\d+\\\\.png\", which matches files like \"image_001.png\", \"image_123.png\", etc.\n",
    "            Use raw strings (r\"pattern\") to avoid issues with backslashes in regex patterns.\n",
    "    \"\"\"\n",
    "    images = [img for img in os.listdir(image_folder) if re.search(image_pattern, img)]\n",
    "    # Sort the images.  Important for correct video sequence.\n",
    "    images.sort()  # Simple sort, might need more robust sorting for complex filenames\n",
    "\n",
    "    if not images:\n",
    "        print(f\"Error: No images found in the folder matching the pattern '{image_pattern}'.  Folder: {image_folder}\")\n",
    "        return\n",
    "\n",
    "    # Determine the frame size from the first image.\n",
    "    first_image_path = os.path.join(image_folder, images[0])\n",
    "    img = cv2.imread(first_image_path)\n",
    "    if img is None:\n",
    "        print(f\"Error: Could not read the first image: {first_image_path}.  Check if the path is correct and the image is valid.\")\n",
    "        return\n",
    "    height, width, channels = img.shape\n",
    "\n",
    "    # Define the video writer.\n",
    "    fourcc = cv2.VideoWriter_fourcc(*'mp4v')  # Codec for MP4\n",
    "    out = cv2.VideoWriter(output_path, fourcc, fps, (width, height))\n",
    "\n",
    "    # Write each image to the video.\n",
    "    for image in images:\n",
    "        image_path = os.path.join(image_folder, image)\n",
    "        img = cv2.imread(image_path)\n",
    "        if img is None:\n",
    "            print(f\"Warning: Could not read image {image_path}. Skipping this frame.\")\n",
    "            continue  # Skip to the next image\n",
    "        out.write(img)\n",
    "\n",
    "    # Release the video writer.\n",
    "    out.release()\n",
    "    print(f\"Successfully created video: {output_path} from images in {image_folder}\")\n",
    "\n",
    "def main():\n",
    "    \"\"\"\n",
    "    Main function to run the image-to-video conversion.\n",
    "    \"\"\"\n",
    "    # Example usage:\n",
    "    image_folder = \"last_twenty_frames\"  # Replace with the path to your image folder\n",
    "    output_path = \"output.mp4\"  # Replace with the desired output path\n",
    "    fps = 0.5  # You can change the frames per second\n",
    "    image_pattern = r\"image_\\d+\\.png\" # Example pattern, change as needed\n",
    "\n",
    "    # Create a dummy image folder and images if it doesn't exist\n",
    "    if not os.path.exists(image_folder):\n",
    "        os.makedirs(image_folder)\n",
    "        for i in range(10):  # Create 10 dummy images\n",
    "            import numpy as np\n",
    "            dummy_image = np.random.randint(0, 256, (100, 100, 3), dtype=np.uint8) # Create a random image\n",
    "            cv2.imwrite(os.path.join(image_folder, f\"image_{i:03d}.png\"), dummy_image) # save the image\n",
    "\n",
    "    create_mp4_from_images(image_folder, output_path, fps, image_pattern)\n",
    "\n",
    "\n",
    "\n",
    "if __name__ == \"__main__\":\n",
    "    main()\n"
   ]
  },
  {
   "cell_type": "markdown",
   "id": "c12bac94-3d43-4104-8201-9bdf8b9e7ab3",
   "metadata": {},
   "source": [
    "# display the time based animation of the distribution of random numbers being populated by grabbing the last twenty every 2 seconds"
   ]
  },
  {
   "cell_type": "markdown",
   "id": "43be7a51-e275-4756-8da9-9899f0fcf5ea",
   "metadata": {},
   "source": [
    "please see output.mp4\n",
    "\n"
   ]
  },
  {
   "cell_type": "code",
   "execution_count": 43,
   "id": "2478d791-2d90-4a4d-9428-3dfc8866e763",
   "metadata": {},
   "outputs": [
    {
     "data": {
      "text/html": [
       "<video src=\"res/output.mp4\" controls  >\n",
       "      Your browser does not support the <code>video</code> element.\n",
       "    </video>"
      ],
      "text/plain": [
       "<IPython.core.display.Video object>"
      ]
     },
     "metadata": {},
     "output_type": "display_data"
    }
   ],
   "source": [
    "from IPython.display import Video, display\n",
    "video_path = \"res/output.mp4\"\n",
    "\n",
    "video = Video(video_path)\n",
    "display(video)"
   ]
  },
  {
   "cell_type": "markdown",
   "id": "9b6173e7-7ccd-46b3-8202-d074a3a95e3c",
   "metadata": {},
   "source": [
    "# Okay\n",
    "# So how do we create this in a class centric way?\n",
    "\n",
    "\n",
    "well i think we can take our doublylinked class and modify it a little  \n",
    "\n",
    "if we convert the nextlink and previouslink connectors from the link class of our doublylinked list into chains themselves of length n\n",
    "we can easily pull out the data of the last x  \n",
    "\n",
    "so multiple ways to do this including the procedural way i just did above but we want a class oriented way to do it\n",
    "\n",
    "\n",
    "so lets work on adding previousn and nextn links to our doubly linked list class"
   ]
  },
  {
   "cell_type": "code",
   "execution_count": null,
   "id": "2e142b86-7cee-48c9-ad97-c136e0949fa9",
   "metadata": {},
   "outputs": [],
   "source": []
  },
  {
   "cell_type": "markdown",
   "id": "a12398c9-e5b7-4a5e-8041-797b0ac02982",
   "metadata": {},
   "source": [
    "# Here is our doublylinkedlist class and usage using the numbers 1 through 5"
   ]
  },
  {
   "cell_type": "code",
   "execution_count": 44,
   "id": "9443772a-fce1-4115-8f25-af784cbe2e5f",
   "metadata": {},
   "outputs": [],
   "source": [
    "class list_index:\n",
    "    def __init__(self, list_item):\n",
    "        self.list_item = list_item\n",
    "        self.next_list_item = None\n",
    "        self.previous_list_item = None\n",
    "\n",
    "class llist:\n",
    "    def __init__(self):\n",
    "        self.firstitem = None\n",
    "        self.enditem = None\n",
    "        self.length = 0\n",
    "\n",
    "    def add_item(self, item):\n",
    "        new_list_entry = list_index(item)\n",
    "        self.length += 1\n",
    "        if self.firstitem == None:\n",
    "            self.firstitem = new_list_entry\n",
    "            self.enditem = new_list_entry\n",
    "        else:\n",
    "            new_list_entry.previous_list_item = self.enditem\n",
    "            self.enditem.next_list_item = new_list_entry\n",
    "            self.enditem = new_list_entry\n",
    "\n",
    "    def get_item(self, index):\n",
    "        if index >= 0:\n",
    "            current_index = self.firstitem\n",
    "            for i in range(index):\n",
    "                current_index = current_index.next_list_item\n",
    "            return current_index.list_item\n",
    "        elif index == -1:\n",
    "            return self.enditem.list_item\n",
    "        else:\n",
    "            current_step = self.enditem\n",
    "            for i in range(1, abs(index)):\n",
    "                current_step = current_step.previous_list_item\n",
    "        return current_step.list_item"
   ]
  },
  {
   "cell_type": "code",
   "execution_count": 45,
   "id": "dbc2acf7-895f-4f9d-ab43-44ee618b9f9e",
   "metadata": {},
   "outputs": [
    {
     "name": "stdout",
     "output_type": "stream",
     "text": [
      "5\n",
      "4\n",
      "3\n",
      "2\n",
      "1\n"
     ]
    }
   ],
   "source": [
    "dl_list = llist()\n",
    "\n",
    "dl_list.add_item(1)\n",
    "dl_list.add_item(2)\n",
    "dl_list.add_item(3)\n",
    "dl_list.add_item(4)\n",
    "dl_list.add_item(5)\n",
    "\n",
    "negative_list = [-i for i in range(1, 6)]\n",
    "negative_list = [-1,-2,-3,-4,-5]\n",
    "\n",
    "# 1 based negative indexing\n",
    "for item in negative_list:\n",
    "    print(dl_list.get_item(item))"
   ]
  },
  {
   "cell_type": "code",
   "execution_count": 46,
   "id": "0726822b-e01c-4d99-9f09-7c5bec0d0911",
   "metadata": {},
   "outputs": [
    {
     "name": "stdout",
     "output_type": "stream",
     "text": [
      "1\n",
      "2\n",
      "3\n",
      "4\n",
      "5\n"
     ]
    }
   ],
   "source": [
    "dl_list = llist()\n",
    "\n",
    "dl_list.add_item(1)\n",
    "dl_list.add_item(2)\n",
    "dl_list.add_item(3)\n",
    "dl_list.add_item(4)\n",
    "dl_list.add_item(5)\n",
    "\n",
    "# 0 based positive indexing\n",
    "for i in range(dl_list.length):\n",
    "    print(dl_list.get_item(i))"
   ]
  },
  {
   "cell_type": "code",
   "execution_count": 47,
   "id": "51bf0151-8a01-4611-982d-19d51f41a83f",
   "metadata": {},
   "outputs": [],
   "source": [
    "# please see the demo animation in readme, \n",
    "# doubly linked lists just wire up the previous link before resetting the endlink tape which you can see\n",
    "# here ^"
   ]
  },
  {
   "cell_type": "markdown",
   "id": "19a5a61b-abc5-42bc-827e-59606460f423",
   "metadata": {},
   "source": [
    "<hr>"
   ]
  },
  {
   "cell_type": "markdown",
   "id": "8bba1704-1a23-4012-bb17-74f05558b96f",
   "metadata": {},
   "source": [
    "convert this implementation to use chains for its next and previous connections of length n (n specified by user)\n",
    "\n",
    "\n",
    "well maybe a static previous n and next n is bad and we should only care about in the moment previous, in that case we dont have to change our doubly linked class at all as you can see in our for loops we are using dl_list to iterate through the whole list\n",
    "\n",
    "if we just use the already implemented negative indexing and a constrained for loop we can already do any node of slicing starting from the n\n",
    "\n",
    "here is an example of the outputs above\n",
    "\n",
    "lets get the last 3"
   ]
  },
  {
   "cell_type": "code",
   "execution_count": 48,
   "id": "35e13905-d753-4f46-8c29-d36e5237c507",
   "metadata": {},
   "outputs": [
    {
     "name": "stdout",
     "output_type": "stream",
     "text": [
      "1\n",
      "2\n",
      "3\n",
      "4\n",
      "5\n"
     ]
    }
   ],
   "source": [
    "# print the whole list\n",
    "for i in range(dl_list.length):\n",
    "    print(dl_list.get_item(i))"
   ]
  },
  {
   "cell_type": "markdown",
   "id": "e3c571f8-a9cf-4951-88e4-3fbd38e1c55a",
   "metadata": {},
   "source": [
    "okay use negative indexing to only get the last 3"
   ]
  },
  {
   "cell_type": "code",
   "execution_count": 50,
   "id": "8d974edb-2c4e-474f-aa47-e101accaaf75",
   "metadata": {},
   "outputs": [
    {
     "name": "stdout",
     "output_type": "stream",
     "text": [
      "5\n",
      "4\n",
      "3\n"
     ]
    }
   ],
   "source": [
    "last_n = 3\n",
    "for i in range(1, last_n+1):\n",
    "    print(dl_list.get_item(-i))"
   ]
  },
  {
   "cell_type": "markdown",
   "id": "8fb98563-c39c-4ed3-af8f-55c6b972dc5a",
   "metadata": {},
   "source": [
    "right?"
   ]
  },
  {
   "cell_type": "markdown",
   "id": "d8972373-b42e-4e7d-a689-7fcd19d87213",
   "metadata": {},
   "source": [
    "so whats the problem with this?  \n",
    "\n",
    "well this is an iterative approach the previous x are not known  \n",
    "\n",
    "n has to be counted to as you can see in the for loop above  \n",
    "\n",
    "as n grows large, the number of counts grows large, and your program slows down  \n",
    "\n",
    "\n",
    "so we need to keep going  \n",
    "\n"
   ]
  },
  {
   "cell_type": "code",
   "execution_count": null,
   "id": "320b7504-740b-44d3-94b4-fabc3516d4e8",
   "metadata": {},
   "outputs": [],
   "source": []
  }
 ],
 "metadata": {
  "kernelspec": {
   "display_name": "Python 3 (ipykernel)",
   "language": "python",
   "name": "python3"
  },
  "language_info": {
   "codemirror_mode": {
    "name": "ipython",
    "version": 3
   },
   "file_extension": ".py",
   "mimetype": "text/x-python",
   "name": "python",
   "nbconvert_exporter": "python",
   "pygments_lexer": "ipython3",
   "version": "3.13.2"
  }
 },
 "nbformat": 4,
 "nbformat_minor": 5
}
