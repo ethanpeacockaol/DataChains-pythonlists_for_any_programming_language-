{
 "cells": [
  {
   "cell_type": "markdown",
   "id": "be6e85ff-356d-419c-9b07-93c264db7d3c",
   "metadata": {},
   "source": [
    "# Fundamental Mechanism\n",
    "\n",
    "\n",
    "I call the fundamental mechanism that allows data chains to work \"mynumber\""
   ]
  },
  {
   "cell_type": "code",
   "execution_count": 1,
   "id": "eb25c2c5-6afb-4239-a2c7-2c1b90412040",
   "metadata": {},
   "outputs": [],
   "source": [
    "class mynumber:\n",
    "    def __init__(self, number):\n",
    "        self.number = number\n",
    "        self.nextnumber = None"
   ]
  },
  {
   "cell_type": "code",
   "execution_count": 4,
   "id": "f10c5e55-77cf-45c3-bcc8-17f14cf53224",
   "metadata": {},
   "outputs": [
    {
     "name": "stdout",
     "output_type": "stream",
     "text": [
      "1\n",
      "2\n",
      "3\n",
      "4\n",
      "5\n"
     ]
    }
   ],
   "source": [
    "numbers = mynumber(1)\n",
    "print(numbers.number)\n",
    "\n",
    "numbers.nextnumber = mynumber(2)\n",
    "print(numbers.nextnumber.number)\n",
    "\n",
    "numbers.nextnumber.nextnumber = mynumber(3)\n",
    "print(numbers.nextnumber.nextnumber.number)\n",
    "\n",
    "numbers.nextnumber.nextnumber.nextnumber = mynumber(4)\n",
    "print(numbers.nextnumber.nextnumber.nextnumber.number)\n",
    "\n",
    "numbers.nextnumber.nextnumber.nextnumber.nextnumber = mynumber(5)\n",
    "print(numbers.nextnumber.nextnumber.nextnumber.nextnumber.number)"
   ]
  },
  {
   "cell_type": "markdown",
   "id": "78b9d02d-4eb0-4ade-8639-8598358c6894",
   "metadata": {},
   "source": [
    "<hr>"
   ]
  }
 ],
 "metadata": {
  "kernelspec": {
   "display_name": "Python 3 (ipykernel)",
   "language": "python",
   "name": "python3"
  },
  "language_info": {
   "codemirror_mode": {
    "name": "ipython",
    "version": 3
   },
   "file_extension": ".py",
   "mimetype": "text/x-python",
   "name": "python",
   "nbconvert_exporter": "python",
   "pygments_lexer": "ipython3",
   "version": "3.13.2"
  }
 },
 "nbformat": 4,
 "nbformat_minor": 5
}
