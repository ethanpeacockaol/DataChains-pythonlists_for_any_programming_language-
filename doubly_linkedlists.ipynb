{
 "cells": [
  {
   "metadata": {},
   "id": "4a29981d-dcfd-4c29-9247-b9c2c8825d84",
   "cell_type": "markdown",
   "source": "# Doubly Linked Lists"
  },
  {
   "metadata": {
    "trusted": true
   },
   "id": "2d05a278-10a5-49d8-8000-ace78a09ca90",
   "cell_type": "code",
   "source": "class list_index:\n    def __init__(self, list_item):\n        self.list_item = list_item\n        self.next_list_item = None\n        self.previous_list_item = None\n\nclass llist:\n    def __init__(self):\n        self.firstitem = None\n        self.enditem = None\n        self.length = 0\n\n    def add_item(self, item):\n        new_list_entry = list_index(item)\n        self.length += 1\n        if self.firstitem == None:\n            self.firstitem = new_list_entry\n            self.enditem = new_list_entry\n        else:\n            new_list_entry.previous_list_item = self.enditem\n            self.enditem.next_list_item = new_list_entry\n            self.enditem = new_list_entry\n\n    def get_item(self, index):\n        if index >= 0:\n            current_index = self.firstitem\n            for i in range(index):\n                current_index = current_index.next_list_item\n            return current_index.list_item\n        elif index == -1:\n            return self.enditem.list_item\n        else:\n            current_step = self.enditem\n            for i in range(1, abs(index)):\n                current_step = current_step.previous_list_item\n        return current_step.list_item",
   "execution_count": 1,
   "outputs": []
  },
  {
   "metadata": {
    "trusted": true
   },
   "id": "f820721e-0916-456c-bf54-95904ba0b6ff",
   "cell_type": "code",
   "source": "dl_list = llist()\n\ndl_list.add_item(1)\ndl_list.add_item(2)\ndl_list.add_item(3)\ndl_list.add_item(4)\ndl_list.add_item(5)\n\nnegative_list = [-i for i in range(1, 6)]\nnegative_list = [-1,-2,-3,-4,-5]\n\n# 1 based negative indexing\nfor item in negative_list:\n    print(dl_list.get_item(item))",
   "execution_count": 2,
   "outputs": [
    {
     "output_type": "stream",
     "text": "5\n4\n3\n2\n1\n",
     "name": "stdout"
    }
   ]
  },
  {
   "metadata": {
    "trusted": true
   },
   "id": "06676571-f896-4655-86ad-b7eab4b81074",
   "cell_type": "code",
   "source": "dl_list = llist()\n\ndl_list.add_item(1)\ndl_list.add_item(2)\ndl_list.add_item(3)\ndl_list.add_item(4)\ndl_list.add_item(5)\n\n# 0 based positive indexing\nfor i in range(dl_list.length):\n    print(dl_list.get_item(i))",
   "execution_count": 3,
   "outputs": [
    {
     "output_type": "stream",
     "text": "1\n2\n3\n4\n5\n",
     "name": "stdout"
    }
   ]
  },
  {
   "metadata": {
    "trusted": true
   },
   "id": "517f94a2-7af1-4541-b657-d88442a563e4",
   "cell_type": "code",
   "source": "# please see the demo animation in readme, \n# doubly linked lists just wire up the previous link before resetting the endlink tape which you can see\n# here ^",
   "execution_count": 4,
   "outputs": []
  }
 ],
 "metadata": {
  "kernelspec": {
   "name": "python3",
   "display_name": "Python 3",
   "language": "python"
  },
  "language_info": {
   "name": "python",
   "version": "3.10.4",
   "mimetype": "text/x-python",
   "codemirror_mode": {
    "name": "ipython",
    "version": 3
   },
   "pygments_lexer": "ipython3",
   "nbconvert_exporter": "python",
   "file_extension": ".py"
  }
 },
 "nbformat": 4,
 "nbformat_minor": 5
}