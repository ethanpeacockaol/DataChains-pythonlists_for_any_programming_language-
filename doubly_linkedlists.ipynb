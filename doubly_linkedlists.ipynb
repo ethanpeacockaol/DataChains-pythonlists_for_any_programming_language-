{
 "cells": [
  {
   "cell_type": "markdown",
   "id": "4a29981d-dcfd-4c29-9247-b9c2c8825d84",
   "metadata": {},
   "source": [
    "# Doubly Linked Lists"
   ]
  },
  {
   "cell_type": "code",
   "execution_count": 71,
   "id": "2d05a278-10a5-49d8-8000-ace78a09ca90",
   "metadata": {},
   "outputs": [],
   "source": [
    "class list_index:\n",
    "    def __init__(self, list_item):\n",
    "        self.list_item = list_item\n",
    "        self.next_list_item = None\n",
    "        self.previous_list_item = None\n",
    "\n",
    "class llist:\n",
    "    def __init__(self):\n",
    "        self.firstitem = None\n",
    "        self.enditem = None\n",
    "        self.length = 0\n",
    "\n",
    "    def add_item(self, item):\n",
    "        new_list_entry = list_index(item)\n",
    "        self.length += 1\n",
    "        if self.firstitem == None:\n",
    "            self.firstitem = new_list_entry\n",
    "            self.enditem = new_list_entry\n",
    "        else:\n",
    "            self.enditem.next_list_item = new_list_entry\n",
    "            current_previous = self.enditem\n",
    "            self.enditem = new_list_entry\n",
    "            self.enditem.previous_list_item = current_previous\n",
    "\n",
    "    def get_item(self, index):\n",
    "        if index > 0:\n",
    "            current_index = self.firstitem\n",
    "            for i in range(index):\n",
    "                current_index = current_index.next_list_item\n",
    "            return current_index.list_item\n",
    "        elif index == -1:\n",
    "            return self.enditem.list_item\n",
    "        else:\n",
    "            current_step = self.enditem\n",
    "            for i in range(1, abs(index)):\n",
    "                current_step = current_step.previous_list_item\n",
    "        return current_step.list_item"
   ]
  },
  {
   "cell_type": "code",
   "execution_count": 78,
   "id": "f820721e-0916-456c-bf54-95904ba0b6ff",
   "metadata": {},
   "outputs": [
    {
     "name": "stdout",
     "output_type": "stream",
     "text": [
      "5\n",
      "4\n",
      "3\n",
      "2\n",
      "1\n"
     ]
    }
   ],
   "source": [
    "dl_list = llist()\n",
    "\n",
    "dl_list.add_item(1)\n",
    "dl_list.add_item(2)\n",
    "dl_list.add_item(3)\n",
    "dl_list.add_item(4)\n",
    "dl_list.add_item(5)\n",
    "\n",
    "negative_list = [-i for i in range(1, 6)]\n",
    "negative_list\n",
    "\n",
    "# 1 based negative indexing\n",
    "for item in negative_list:\n",
    "    print(dl_list.get_item(item))"
   ]
  },
  {
   "cell_type": "code",
   "execution_count": 12,
   "id": "06676571-f896-4655-86ad-b7eab4b81074",
   "metadata": {},
   "outputs": [
    {
     "name": "stdout",
     "output_type": "stream",
     "text": [
      "1\n",
      "2\n",
      "3\n",
      "4\n",
      "5\n"
     ]
    }
   ],
   "source": [
    "dl_list = llist()\n",
    "\n",
    "dl_list.add_item(1)\n",
    "dl_list.add_item(2)\n",
    "dl_list.add_item(3)\n",
    "dl_list.add_item(4)\n",
    "dl_list.add_item(5)\n",
    "\n",
    "# 0 based positive indexing\n",
    "for i in range(dl_list.length):\n",
    "    print(dl_list.get_item(i))"
   ]
  }
 ],
 "metadata": {
  "kernelspec": {
   "display_name": "Python 3 (ipykernel)",
   "language": "python",
   "name": "python3"
  },
  "language_info": {
   "codemirror_mode": {
    "name": "ipython",
    "version": 3
   },
   "file_extension": ".py",
   "mimetype": "text/x-python",
   "name": "python",
   "nbconvert_exporter": "python",
   "pygments_lexer": "ipython3",
   "version": "3.13.2"
  }
 },
 "nbformat": 4,
 "nbformat_minor": 5
}
